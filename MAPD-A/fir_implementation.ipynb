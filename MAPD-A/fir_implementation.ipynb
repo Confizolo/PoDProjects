{
 "cells": [
  {
   "cell_type": "code",
   "execution_count": 222,
   "metadata": {},
   "outputs": [],
   "source": [
    "import numpy as np \n",
    "from matplotlib import pyplot as plt\n",
    "from scipy.signal import firwin "
   ]
  },
  {
   "cell_type": "code",
   "execution_count": 228,
   "metadata": {},
   "outputs": [],
   "source": [
    "frequencies = [10000,30000]\n",
    "n_samples = 4000000\n",
    "t_max = 10\n",
    "time_mesh = np.linspace(0,t_max,n_samples)\n",
    "\n",
    "carrier_wave =  np.array([np.sin(2*np.pi*1000*time_mesh)])\n",
    "noise = np.array([0.1*np.sin(2*np.pi*frequencies[i]*time_mesh) for i in range(len(frequencies))])\n",
    "\n",
    "noise_combined = np.zeros(noise.shape[1])\n",
    "for i in range(noise.shape[0]):\n",
    "    noise_combined+=noise[i]\n",
    "    \n",
    "final_wave = carrier_wave + noise_combined\n",
    "final_wave = final_wave.reshape(n_samples)"
   ]
  },
  {
   "cell_type": "code",
   "execution_count": 229,
   "metadata": {
    "scrolled": true
   },
   "outputs": [
    {
     "data": {
      "image/png": "[encoded data removed]",
      "text/plain": [
       "<Figure size 432x288 with 1 Axes>"
      ]
     },
     "metadata": {
      "needs_background": "light"
     },
     "output_type": "display_data"
    }
   ],
   "source": [
    "plt.plot(time_mesh,final_wave)\n",
    "plt.show()"
   ]
  },
  {
   "cell_type": "code",
   "execution_count": 227,
   "metadata": {},
   "outputs": [
    {
     "name": "stdout",
     "output_type": "stream",
     "text": [
      "Sample rate:  4000.0\n",
      "0.00025\n",
      "0.000125\n"
     ]
    }
   ],
   "source": [
    "sample_rate = n_samples / t_max\n",
    "print('Sample rate: ', sample_rate)\n",
    "nyq_rate = sample_rate/2.\n",
    "print(1./sample_rate)\n",
    "print(1./(2*sample_rate))\n",
    "cutoff_freq = 20000\n",
    "#cutoff = cutoff_freq/nyq_rate\n",
    "\n",
    "coeff_4 = firwin(4, 0.01, pass_zero = 'lowpass')\n",
    "coeff_5 = firwin(5, 0.01, pass_zero = 'lowpass')"
   ]
  },
  {
   "cell_type": "code",
   "execution_count": null,
   "metadata": {},
   "outputs": [],
   "source": []
  },
  {
   "cell_type": "code",
   "execution_count": null,
   "metadata": {},
   "outputs": [],
   "source": []
  }
 ],
 "metadata": {
  "kernelspec": {
   "display_name": "Python 3",
   "language": "python",
   "name": "python3"
  },
  "language_info": {
   "codemirror_mode": {
    "name": "ipython",
    "version": 3
   },
   "file_extension": ".py",
   "mimetype": "text/x-python",
   "name": "python",
   "nbconvert_exporter": "python",
   "pygments_lexer": "ipython3",
   "version": "3.8.6"
  }
 },
 "nbformat": 4,
 "nbformat_minor": 4
}
