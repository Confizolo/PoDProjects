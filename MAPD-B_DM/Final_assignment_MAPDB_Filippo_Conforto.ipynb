{
 "cells": [
  {
   "cell_type": "markdown",
   "id": "12442d71-ebc7-40e2-b2fe-2f6c75cfd889",
   "metadata": {},
   "source": [
    "## Filippo Conforto\n",
    "## ID: 2021856"
   ]
  },
  {
   "cell_type": "markdown",
   "id": "b206c6d8-18d6-4d98-86e9-9addf0208647",
   "metadata": {},
   "source": [
    "### Libraries and imports"
   ]
  },
  {
   "cell_type": "code",
   "execution_count": 2,
   "id": "5d487395-ab63-4b67-8c61-637c8cf22190",
   "metadata": {},
   "outputs": [],
   "source": [
    "import numpy as np\n",
    "import time\n",
    "import requests as req\n",
    "import json\n",
    "from functools import reduce\n",
    "import matplotlib.pyplot as plt\n",
    "import matplotlib.axis as mplax"
   ]
  },
  {
   "cell_type": "markdown",
   "id": "0d8940c4-3d4f-45ba-b2d7-615934f435a7",
   "metadata": {},
   "source": [
    "## Fun Exercise"
   ]
  },
  {
   "cell_type": "markdown",
   "id": "db4e77c4-4b64-4550-8248-ae5b10c2dae7",
   "metadata": {},
   "source": [
    "The `XOR` operation between the given numbers returns the correct results. The proof for each given couple follows:\n",
    "\n",
    "* 1 $\\oplus$ 2 = 01 $\\oplus$ 10 = 11 = 3\n",
    "* 2 $\\oplus$ 5 = 010 $\\oplus$ 101 = 111 = 7\n",
    "* 3 $\\oplus$ 7 = 011 $\\oplus$ 111 = 100 = 4\n",
    "* 4 $\\oplus$ 5 = 100 $\\oplus$ 101 = 001 = 1\n",
    "* 5 $\\oplus$ 9 = 0101 $\\oplus$ 1001 = 1100 = 12"
   ]
  },
  {
   "cell_type": "markdown",
   "id": "ad1df979-3e53-47c3-96d2-3a8c72e617b2",
   "metadata": {},
   "source": [
    "## 1-Redundancy"
   ]
  },
  {
   "cell_type": "markdown",
   "id": "874b9278-797b-43fb-a918-c82f769a9702",
   "metadata": {},
   "source": [
    "The aim of this exercise is to reproduce a RAID-4 software algorithm, by converting a single input(\"document.pdf\") into four data files \"raid4.0\",\"raid4.1\",\"raid4.2\",\"raid4.3\", and one parity file. "
   ]
  },
  {
   "cell_type": "markdown",
   "id": "fbcf060c-66c1-4211-bfa5-52b8b3a4e307",
   "metadata": {
    "tags": []
   },
   "source": [
    "### 1.1"
   ]
  },
  {
   "cell_type": "markdown",
   "id": "85493992-540c-411a-96e3-0d2ae5bd4037",
   "metadata": {},
   "source": [
    "Starting with the original file and reading bunches of 4 bytes each time is possible to divide the group between the final files. The parity is then calculated over each bunch of bytes as D0 $\\oplus$ D1 $\\oplus$ D2 $\\oplus$ D3,and then printed in the last file."
   ]
  },
  {
   "cell_type": "code",
   "execution_count": 1,
   "id": "f756d099-c017-498b-8595-5542aef1f979",
   "metadata": {},
   "outputs": [],
   "source": [
    "filenames = [\"raid4.0\",\"raid4.1\",\"raid4.2\",\"raid4.3\",\"raid4.4\"]\n",
    "doc = open(\"document.pdf\", \"rb\")\n",
    "flist = []\n",
    "llist = []\n",
    "for name in filenames:\n",
    "    flist.append(open(name, \"wb\"))\n",
    "    llist.append([])\n",
    "parities = [0]*5"
   ]
  },
  {
   "cell_type": "code",
   "execution_count": 3,
   "id": "a044dda1-a6aa-41e0-9772-42a441f587d0",
   "metadata": {
    "tags": []
   },
   "outputs": [],
   "source": [
    "byt = doc.read(4)\n",
    "while len(byt)==4:\n",
    "    for i in range(4):\n",
    "        flist[i].write(bytes([byt[i]]))\n",
    "        llist[i].append(byt[i])\n",
    "    flist[4].write(bytes([byt[0]^byt[1]^byt[2]^byt[3]]))\n",
    "    llist[4].append(byt[0]^byt[1]^byt[2]^byt[3])\n",
    "    byt = doc.read(4)\n",
    "    if len(byt)==0:\n",
    "        break\n",
    "    elif len(byt)<4:                #Filling missing bytes using \n",
    "        byt = list(byt)             #a number of bytes defined as zero\n",
    "        byt.extend([0]*(4-len(byt)))\n",
    "    "
   ]
  },
  {
   "cell_type": "markdown",
   "id": "2a142013-7971-40ce-a527-387353debe60",
   "metadata": {},
   "source": [
    " If there are less than 4 bytes, an adequate number of bytes zero is added in order to apply correctly the `XOR` operation."
   ]
  },
  {
   "cell_type": "markdown",
   "id": "f8a68222-9215-4afc-b3b1-4f240afede56",
   "metadata": {},
   "source": [
    "The output files are visible in the folder."
   ]
  },
  {
   "cell_type": "markdown",
   "id": "55fc8604-0266-45bb-8e75-d17eb2a8dc8c",
   "metadata": {
    "tags": []
   },
   "source": [
    "### 1.2"
   ]
  },
  {
   "cell_type": "markdown",
   "id": "6c66b4da-a103-4835-8b99-94d63f13a6e0",
   "metadata": {},
   "source": [
    "#### **Answer:**\n",
    "The column-wise parity acts as a checksum for each strip file."
   ]
  },
  {
   "cell_type": "code",
   "execution_count": 4,
   "id": "1b9ec7ed-8850-46d6-ae47-6018355a3a77",
   "metadata": {},
   "outputs": [],
   "source": [
    "for i,l in enumerate(llist):\n",
    "    parities[i] = (reduce(lambda x, y: x ^ y, l))\n",
    "\n",
    "for fs in flist:\n",
    "    fs.close()\n",
    "doc.close()    "
   ]
  },
  {
   "cell_type": "code",
   "execution_count": 10,
   "id": "c06d2d1f-52f5-4feb-8668-4f06e7e05ec3",
   "metadata": {},
   "outputs": [
    {
     "name": "stdout",
     "output_type": "stream",
     "text": [
      "The parities values are  ['¥', '\\x07', '\\xa0', '\\x9c', '\\x9e']\n"
     ]
    }
   ],
   "source": [
    "print(\"The parities values are \",list(map(chr,parities)))"
   ]
  },
  {
   "cell_type": "markdown",
   "id": "b928f326-34b7-453e-8e88-f74724cbf0b4",
   "metadata": {},
   "source": [
    " The size overhead is calculated as: \n",
    " \n",
    " $$ \\frac{\\rm{Total \\ size \\ of \\ the \\ final \\ files} - \\rm{Size \\ of \\ the \\ original \\ file}}{ \\rm{Size \\ of \\ the \\ original  \\ file}} $$\n",
    " \n",
    "With the size of the original file of 170619 bytes."
   ]
  },
  {
   "cell_type": "markdown",
   "id": "afd22511-e997-46a2-9387-68e422b42e59",
   "metadata": {},
   "source": [
    "#### **Answer:**"
   ]
  },
  {
   "cell_type": "code",
   "execution_count": 8,
   "id": "fc7859e6-6ec3-4a74-9fc8-6a94e25d8064",
   "metadata": {},
   "outputs": [
    {
     "name": "stdout",
     "output_type": "stream",
     "text": [
      "The size overhead is 25.00%\n"
     ]
    }
   ],
   "source": [
    "print(f\"The size overhead is {(sum(list(map(len,llist)))-170619)/(170619)*100:.2f}%\")"
   ]
  },
  {
   "cell_type": "markdown",
   "id": "5c7b8877-9e28-420d-9e65-26a858e86351",
   "metadata": {},
   "source": [
    "### 1.3"
   ]
  },
  {
   "cell_type": "code",
   "execution_count": 11,
   "id": "6d114c6c-15b6-43e2-8e29-444abe9fdace",
   "metadata": {},
   "outputs": [
    {
     "name": "stdout",
     "output_type": "stream",
     "text": [
      "The 5 bytes parity value is 0xa507a09c9e\n"
     ]
    }
   ],
   "source": [
    "print(f\"The 5 bytes parity value is {hex(parities[0])}0{hex(parities[1])[2:4]}{hex(parities[2])[2:4]}{hex(parities[3])[2:4]}{hex(parities[4])[2:4]}\")"
   ]
  },
  {
   "cell_type": "markdown",
   "id": "68366d78-a1a6-4c3d-ba44-cf7fc557cfd3",
   "metadata": {},
   "source": [
    "### 1.4"
   ]
  },
  {
   "cell_type": "markdown",
   "id": "89c203d9-f8e8-4c71-8996-c3bdc5b8102c",
   "metadata": {},
   "source": [
    "The row-wise parities of the five stripe files would be zero since the operation consists in a `XOR` between two identical quantities. In this way the resulting file will be filled with bytes zero.\n",
    "\n",
    "D0 $\\oplus$ D1$\\oplus$D2$\\oplus$D3 $\\oplus$ P=(D0 $\\oplus$ D1$\\oplus$D2$\\oplus$D3)$\\oplus$(D0$\\oplus$D1$\\oplus$D2$\\oplus$D3) = (D0$\\oplus$D0) $\\oplus$ (D1$\\oplus$D1) $\\oplus$ (D2$\\oplus$D2) $\\oplus$ (D3$\\oplus$D3) = 0\n",
    "\n",
    "Result that is due to the properties of the `XOR` operation given P as the byte of the parity file."
   ]
  },
  {
   "cell_type": "markdown",
   "id": "d40bb5aa-0e22-44fa-bd03-31d637a5e16d",
   "metadata": {},
   "source": [
    "### 1.5"
   ]
  },
  {
   "cell_type": "markdown",
   "id": "523a4c52-6763-4a43-8fff-51b11162394e",
   "metadata": {},
   "source": [
    "Since the new parity is 0xa507a0<span style=\"color:red\">01</span>9e, then the error is located in the fourth disk. In order to reconstruct the original content, the files to be used are the first three and the parity one. By applying the parity between each group of bytes coming from these files the result will be the content of the failed disk.\n",
    "\n",
    "The restruction operation per byte is D3 =  D0 $\\oplus$ D1$\\oplus$D2$\\oplus$P "
   ]
  },
  {
   "cell_type": "markdown",
   "id": "c3364f93-f199-4462-b0d4-cfd99343a7db",
   "metadata": {},
   "source": [
    "## 2"
   ]
  },
  {
   "cell_type": "markdown",
   "id": "cf3b2b35-81b5-40b5-9fb7-8dccf0ce5764",
   "metadata": {},
   "source": [
    "### 2.1"
   ]
  },
  {
   "cell_type": "markdown",
   "id": "8c6ad3c3-c7ca-4c66-9214-ca83dd4f1c04",
   "metadata": {},
   "source": [
    "The encryption technique is clearly a symmetric one since the key is the same used to encrypt and decrypt the message."
   ]
  },
  {
   "cell_type": "markdown",
   "id": "47497bfe-6ccf-4ae2-83e0-da571911b2dc",
   "metadata": {},
   "source": [
    "### 2.2"
   ]
  },
  {
   "cell_type": "markdown",
   "id": "ba4eb4cd-6cee-4b36-9948-e89e80937716",
   "metadata": {},
   "source": [
    "The original message is \"K]amua!trgpy\". The decryption will follow the inverse process with respect to the encryption one, starting from the nonce removal and following with the key removal. In this way the operations are reverted and is possbile to find the correct sentence."
   ]
  },
  {
   "cell_type": "code",
   "execution_count": 63,
   "id": "17445f59-b480-40c8-8a9e-53c279470f57",
   "metadata": {},
   "outputs": [],
   "source": [
    "alist = np.asarray(list(map(ord,\"K]amua!trgpy\")))"
   ]
  },
  {
   "cell_type": "markdown",
   "id": "45b82318-f54d-4ba5-a950-0a3e780724d1",
   "metadata": {},
   "source": [
    "The original string is transformed into an array of ASCII values."
   ]
  },
  {
   "cell_type": "code",
   "execution_count": 64,
   "id": "33662bde-4b2e-4dba-9b0a-053dc0e3ac1b",
   "metadata": {},
   "outputs": [],
   "source": [
    "alist = alist - np.arange(5,5+alist.shape[0]) ## Removing the nonce\n",
    "clist = alist.copy().reshape(1,-1)"
   ]
  },
  {
   "cell_type": "markdown",
   "id": "0c54bbe1-dcae-4c51-821b-ef6bfaba5d10",
   "metadata": {},
   "source": [
    "The nonce is removed using numpy functions."
   ]
  },
  {
   "cell_type": "code",
   "execution_count": 65,
   "id": "a70f4727-853f-4509-b271-a590cd40109c",
   "metadata": {},
   "outputs": [],
   "source": [
    "for i in range(1,256):\n",
    "    if np.all((alist - i)>0):\n",
    "        clist = np.concatenate([clist,(alist - i).reshape(1,-1)]) ## Decryption attempts\n",
    "    else:\n",
    "        nlist = (alist - i)\n",
    "        nlist[nlist <0]+=255\n",
    "        clist = np.concatenate([clist,nlist.reshape(1,-1)])"
   ]
  },
  {
   "cell_type": "markdown",
   "id": "a6dc3e8c-e20c-45b8-83b7-f2547b446301",
   "metadata": {},
   "source": [
    "In the same way all the numbers between 1 and 255 are subtracted to the original message in order to find the correct results.\n",
    "\n",
    "Since with large numbers the resulting array contains negative numbers, in this case they are increased by 255, emulating a periodic set of numbers. This is the only way to get a significative result."
   ]
  },
  {
   "cell_type": "code",
   "execution_count": 67,
   "id": "e680050e-3523-4e3c-bcf9-945d0e820a15",
   "metadata": {
    "tags": []
   },
   "outputs": [],
   "source": [
    "wordlist = [[''.join([chr(x) for x in word]),i+1] for i,word in enumerate(clist)]"
   ]
  },
  {
   "cell_type": "markdown",
   "id": "4c1c3ac2-1038-456c-96bb-8cc69e97c0a8",
   "metadata": {},
   "source": [
    "#### **Answer:**"
   ]
  },
  {
   "cell_type": "code",
   "execution_count": 70,
   "id": "85386bbf-ceb9-42c6-bc76-410f787c479b",
   "metadata": {},
   "outputs": [
    {
     "name": "stdout",
     "output_type": "stream",
     "text": [
      "The used key is 246, the original message text is \"Padova rocks\"\n"
     ]
    }
   ],
   "source": [
    "print(f\"The used key is {wordlist[245][1]}, the original message text is \\\"{wordlist[245][0]}\\\"\")"
   ]
  },
  {
   "cell_type": "markdown",
   "id": "fb83e0f4-9f04-4800-af0c-66c382cc904b",
   "metadata": {},
   "source": [
    "## 3 "
   ]
  },
  {
   "cell_type": "markdown",
   "id": "99c3fa2c-15d0-41f1-b815-0f9ed1d2fd42",
   "metadata": {},
   "source": [
    "### 3.1"
   ]
  },
  {
   "cell_type": "markdown",
   "id": "64a4c195-2faa-4997-97df-98f19df9cc6c",
   "metadata": {},
   "source": [
    "The occupation process can be simulated using random functions given by numpy."
   ]
  },
  {
   "cell_type": "code",
   "execution_count": 11,
   "id": "4dc3da93-f008-4b55-b124-91a747043694",
   "metadata": {},
   "outputs": [],
   "source": [
    "occ10 = np.zeros(10)\n",
    "\n",
    "while  (not np.any(occ10 >= 1.)):\n",
    "    occ10[np.random.randint(0,10)]+=0.01"
   ]
  },
  {
   "cell_type": "markdown",
   "id": "c44e5647-55ad-4207-bc4a-448af339e83a",
   "metadata": {},
   "source": [
    "Since each file occupies 10 GB, or 0.01 TB, for each hard disk, if chosen, the stored memory increases by 0.01."
   ]
  },
  {
   "cell_type": "code",
   "execution_count": 28,
   "id": "0eac9baa-b1b2-4fd0-a57b-e48e1ef01809",
   "metadata": {},
   "outputs": [
    {
     "data": {
      "image/png": "[encoded data removed]",
      "text/plain": [
       "<Figure size 504x360 with 1 Axes>"
      ]
     },
     "metadata": {
      "needs_background": "light"
     },
     "output_type": "display_data"
    }
   ],
   "source": [
    "fig,ax = plt.subplots(1,1, figsize = (7,5))\n",
    "ax.bar(np.arange(1,11),occ10)\n",
    "ax.set_xlabel(\"Disk number\")\n",
    "ax.set_ylabel(\"Used memory[TB]\")\n",
    "ax.set_xticks(list(range(1,11)))\n",
    "plt.show()\n"
   ]
  },
  {
   "cell_type": "markdown",
   "id": "6a8bdcfd-ce6e-4c8f-b5e3-eca24f7ec4a8",
   "metadata": {},
   "source": [
    "#### 3.1a\n",
    "##### **Answer:**"
   ]
  },
  {
   "cell_type": "code",
   "execution_count": 13,
   "id": "d05bef3e-3697-4ebd-9079-0df0eaf98734",
   "metadata": {},
   "outputs": [
    {
     "name": "stdout",
     "output_type": "stream",
     "text": [
      "The number of placed files is 822\n"
     ]
    }
   ],
   "source": [
    "print(f\"The number of placed files is {sum(occ10)/0.01:.0f}\")"
   ]
  },
  {
   "cell_type": "markdown",
   "id": "d8140e24-0048-4c20-89a1-15b29573e177",
   "metadata": {},
   "source": [
    "#### 3.1b\n",
    "##### **Answer:**"
   ]
  },
  {
   "cell_type": "code",
   "execution_count": 14,
   "id": "422c3a00-2d75-4d9f-b7d8-9a63c4dc83ce",
   "metadata": {},
   "outputs": [
    {
     "name": "stdout",
     "output_type": "stream",
     "text": [
      "The used space percentage is  82.2 %\n"
     ]
    }
   ],
   "source": [
    "print(f\"The used space percentage is  {sum(occ10)*100/10:.1f} %\")"
   ]
  },
  {
   "cell_type": "markdown",
   "id": "a2ddeac9-d87e-433b-94fb-77ffa62bb44a",
   "metadata": {},
   "source": [
    "### 3.2"
   ]
  },
  {
   "cell_type": "code",
   "execution_count": 16,
   "id": "f239053a-c8c5-45f3-9d11-6aa7ab2b6586",
   "metadata": {},
   "outputs": [],
   "source": [
    "occ1 = np.zeros(10)\n",
    "\n",
    "while  (not np.any(occ1 >= 1.)):\n",
    "    occ1[np.random.randint(0,10)]+=0.001"
   ]
  },
  {
   "cell_type": "markdown",
   "id": "7c321248-c0e8-4dca-ab78-446d1e143ee7",
   "metadata": {},
   "source": [
    "Since each file occupies 1 GB, or 0.001 TB, for each hard disk, if chosen, the stored memory increases by 0.001."
   ]
  },
  {
   "cell_type": "code",
   "execution_count": 27,
   "id": "db19342f-ca60-4611-8b62-5c93ead9a33c",
   "metadata": {},
   "outputs": [
    {
     "data": {
      "image/png": "[encoded data removed]",
      "text/plain": [
       "<Figure size 504x360 with 1 Axes>"
      ]
     },
     "metadata": {
      "needs_background": "light"
     },
     "output_type": "display_data"
    }
   ],
   "source": [
    "fig,ax = plt.subplots(1,1, figsize = (7,5))\n",
    "ax.bar(np.arange(1,11),occ1)\n",
    "ax.set_xlabel(\"Disk number\")\n",
    "ax.set_ylabel(\"Used memory[TB]\")\n",
    "ax.set_xticks(list(range(1,11)))\n",
    "plt.show()\n"
   ]
  },
  {
   "cell_type": "markdown",
   "id": "c6c6da47-19b2-4033-a0cc-a7d2757e9361",
   "metadata": {},
   "source": [
    "#### 3.2a\n",
    "##### **Answer:**"
   ]
  },
  {
   "cell_type": "code",
   "execution_count": 20,
   "id": "d41ef69f-ce07-4249-90f1-af45f126568c",
   "metadata": {},
   "outputs": [
    {
     "name": "stdout",
     "output_type": "stream",
     "text": [
      "The number of placed files is 9755\n"
     ]
    }
   ],
   "source": [
    "print(f\"The number of placed files is {sum(occ1)/0.001:.0f}\")"
   ]
  },
  {
   "cell_type": "markdown",
   "id": "661d682c-7ae7-4108-b95c-32447a479d81",
   "metadata": {},
   "source": [
    "#### 3.2b\n",
    "##### **Answer:**"
   ]
  },
  {
   "cell_type": "code",
   "execution_count": 21,
   "id": "b9f2404c-e874-479c-993c-7abb927f0112",
   "metadata": {},
   "outputs": [
    {
     "name": "stdout",
     "output_type": "stream",
     "text": [
      "The used space percentage is  97.55 %\n"
     ]
    }
   ],
   "source": [
    "print(f\"The used space percentage is  {sum(occ1)*100/10:.2f} %\")"
   ]
  },
  {
   "cell_type": "markdown",
   "id": "7c5d7930-46a1-436a-ace1-e6c7fea0b490",
   "metadata": {},
   "source": [
    "### 3.3"
   ]
  },
  {
   "cell_type": "markdown",
   "id": "1585440f-63b6-4336-8cfe-39f47d625cdf",
   "metadata": {},
   "source": [
    "From these two examples is clear that by reducing the chunk size a better space occupation is possible. Files are usually stored in 4M chunks, since it allows a better redistribution of files over all the memories."
   ]
  },
  {
   "cell_type": "code",
   "execution_count": 22,
   "id": "e08b8f16-9fe5-41d8-89b3-88f660f27d82",
   "metadata": {},
   "outputs": [],
   "source": [
    "occ4 = np.zeros(10)\n",
    "while  (not np.any(occ4 >= 1.)):\n",
    "    occ4[np.random.randint(0,10)]+=4e-6"
   ]
  },
  {
   "cell_type": "markdown",
   "id": "036bdd29-9e22-41bb-855d-f29424735c32",
   "metadata": {},
   "source": [
    "Since each file occupies 4 MB, or $4\\cdot 10^{-6}$ TB, for each hard disk, if chosen, the stored memory increases by $4\\cdot 10^{-6}$."
   ]
  },
  {
   "cell_type": "code",
   "execution_count": 26,
   "id": "a9a02c5d-3d18-4ec0-b2b4-8e8566cf7ec3",
   "metadata": {},
   "outputs": [
    {
     "data": {
      "image/png": "[encoded data removed]",
      "text/plain": [
       "<Figure size 504x360 with 1 Axes>"
      ]
     },
     "metadata": {
      "needs_background": "light"
     },
     "output_type": "display_data"
    }
   ],
   "source": [
    "fig,ax = plt.subplots(1,1, figsize = (7,5))\n",
    "ax.bar(np.arange(1,11),occ4)\n",
    "ax.set_xlabel(\"Disk number\")\n",
    "ax.set_ylabel(\"Used memory[TB]\")\n",
    "ax.set_xticks(list(range(1,11)))\n",
    "plt.show()\n"
   ]
  },
  {
   "cell_type": "code",
   "execution_count": 24,
   "id": "085ad508-8431-4eaa-b32b-5d0dc1796a9e",
   "metadata": {},
   "outputs": [
    {
     "name": "stdout",
     "output_type": "stream",
     "text": [
      "The number of placed files is 2490571\n"
     ]
    }
   ],
   "source": [
    "print(f\"The number of placed files is {sum(occ4)/4e-6:.0f}\")"
   ]
  },
  {
   "cell_type": "code",
   "execution_count": 25,
   "id": "aac93e33-1bf4-4df3-8c32-985cde3de2a8",
   "metadata": {},
   "outputs": [
    {
     "name": "stdout",
     "output_type": "stream",
     "text": [
      "The occupation percentage is  99.62 %\n"
     ]
    }
   ],
   "source": [
    "print(f\"The occupation percentage is  {sum(occ4)*100/10:.2f} %\")"
   ]
  },
  {
   "cell_type": "markdown",
   "id": "a307239c-0e86-458c-9d0f-935e990dbce7",
   "metadata": {},
   "source": [
    "The benefit is clear, since almost all the available space is used."
   ]
  },
  {
   "cell_type": "markdown",
   "id": "f8791e16-da3d-441d-b1d6-f80d9559551f",
   "metadata": {},
   "source": [
    "### 3.4"
   ]
  },
  {
   "cell_type": "code",
   "execution_count": 38,
   "id": "193e9c9e-83d0-4fef-9fc6-8d69e7d0bbe2",
   "metadata": {},
   "outputs": [
    {
     "name": "stdout",
     "output_type": "stream",
     "text": [
      "The average used space for the first case is 0.864 TB with a standard deviation of 0.088 TB\n"
     ]
    }
   ],
   "source": [
    "print(f\"The average used space for the first case is {np.mean(occ10):.3f} TB with a standard deviation of {np.std(occ10):.3f} TB\")"
   ]
  },
  {
   "cell_type": "code",
   "execution_count": 39,
   "id": "5802e141-ac01-4e9c-96ca-1fa9462ed307",
   "metadata": {},
   "outputs": [
    {
     "name": "stdout",
     "output_type": "stream",
     "text": [
      "The average used space for the second case is 0.954 TB with a standard deviation of 0.031 TB\n"
     ]
    }
   ],
   "source": [
    "print(f\"The average used space for the second case is {np.mean(occ1):.3f} TB with a standard deviation of {np.std(occ1):.3f} TB\")"
   ]
  },
  {
   "cell_type": "code",
   "execution_count": 40,
   "id": "505cbd54-3fb9-45ed-a23b-8648cb8e5e97",
   "metadata": {},
   "outputs": [
    {
     "name": "stdout",
     "output_type": "stream",
     "text": [
      "The average used space for the third case is 0.998 TB with a standard deviation of 0.001 TB\n"
     ]
    }
   ],
   "source": [
    "print(f\"The average used space for the third case is {np.mean(occ4):.3f} TB with a standard deviation of {np.std(occ4):.3f} TB\")"
   ]
  },
  {
   "cell_type": "markdown",
   "id": "59172737-069e-4dfc-9d01-71a0c51be41b",
   "metadata": {},
   "source": [
    "The standard deviation decreases as the block size decreases, meaning that the used memory distribution will concentrate in a very small portion of the event space and that the available memory will be used optimally for all hard disks."
   ]
  },
  {
   "cell_type": "markdown",
   "id": "481c3760-4c26-44e0-9609-f1f73f04ccd6",
   "metadata": {},
   "source": [
    "Since the used space is obtained as a sum of random variables (with the probability to add a file for a hard disk inversely proportional to the number of hard disk), the sum of the memory used by single files, for the central limit theorem, must behave as a Gaussian distribution with mean and variance similar to the ones found before.\n",
    "\n",
    "This proposition can be verified simulating the process for an higher number of disks and plotting the distribution of the used space."
   ]
  },
  {
   "cell_type": "code",
   "execution_count": 29,
   "id": "53f411bb-43aa-4f9d-ab77-32c88d9943ab",
   "metadata": {},
   "outputs": [],
   "source": [
    "occt1 = np.zeros(2000)\n",
    "while  (not np.any(occt1 >= 1.)):\n",
    "    occt1[np.random.randint(0,2000)]+=0.01\n",
    "occt2 = np.zeros(2000)\n",
    "while  (not np.any(occt2 >= 1.)):\n",
    "    occt2[np.random.randint(0,2000)]+=0.001\n",
    "## The simulation with a larger number of disks for the case\n",
    "## with 4 MB blocks takes a lot of much time\n",
    "#occt3 = np.zeros(500)\n",
    "#while  (not np.any(occt3 >= 1.)):\n",
    "#    occt3[np.random.randint(0,500)]+=4e-6"
   ]
  },
  {
   "cell_type": "code",
   "execution_count": 30,
   "id": "e6a743ff-8eb4-4e98-a405-6400154e3204",
   "metadata": {},
   "outputs": [
    {
     "data": {
      "image/png": "[encoded data removed]",
      "text/plain": [
       "<Figure size 504x360 with 1 Axes>"
      ]
     },
     "metadata": {
      "needs_background": "light"
     },
     "output_type": "display_data"
    }
   ],
   "source": [
    "fig,ax = plt.subplots(1,1, figsize = (7,5))\n",
    "ax.hist(occt1, alpha = 0.7, bins = 50, density = True, label=\"10 GB block size\")\n",
    "ax.hist(occt2,alpha = 0.7, bins = 50, density = True, label=\"1 GB block size\")\n",
    "#plt.hist(occt3,alpha = 0.7, bins =25)\n",
    "ax.set_xlabel(\"Used memory[TB]\")\n",
    "ax.set_ylabel(\"Normalized counts\")\n",
    "\n",
    "plt.legend()\n",
    "plt.show()"
   ]
  },
  {
   "cell_type": "markdown",
   "id": "4d5f577d-a7d5-4a9d-b363-3f215d8db99a",
   "metadata": {},
   "source": [
    "The two gaussians behaves has expected."
   ]
  },
  {
   "cell_type": "markdown",
   "id": "0ac0455c-fabb-44a7-8770-33a5ddf0c0b4",
   "metadata": {},
   "source": [
    "## 4"
   ]
  },
  {
   "cell_type": "markdown",
   "id": "970ec917-505a-451a-9d25-b61bf15df207",
   "metadata": {},
   "source": [
    "### 4.1.1"
   ]
  },
  {
   "cell_type": "markdown",
   "id": "adeef76a-4fc9-4cf1-9ef3-173fcbd58b52",
   "metadata": {},
   "source": [
    "All the operation are done on the server using the package `requests`. The package allows to send GET and POST and so to do all the operations required."
   ]
  },
  {
   "cell_type": "code",
   "execution_count": 2,
   "id": "f4528953-f071-4666-bad1-7c84efc52674",
   "metadata": {},
   "outputs": [],
   "source": [
    "URL = \"https://pansophy.app:8443\""
   ]
  },
  {
   "cell_type": "markdown",
   "id": "b182c64c-04a3-4c15-8741-41ecb9911303",
   "metadata": {},
   "source": [
    "`get` allows to download all the content of the server, while `post` is used to append new transactions."
   ]
  },
  {
   "cell_type": "code",
   "execution_count": null,
   "id": "dc00a778-8abb-4f97-bb47-7bdc9179164c",
   "metadata": {},
   "outputs": [],
   "source": [
    "r = req.get(url = URL, verify=False)"
   ]
  },
  {
   "cell_type": "markdown",
   "id": "7012b5b6-00dd-4149-8fe2-94e4ec868261",
   "metadata": {},
   "source": [
    "A json is used to append requests to the server."
   ]
  },
  {
   "cell_type": "code",
   "execution_count": 40,
   "id": "64c42b1c-3e26-4a0a-bd1e-b39fb6a64370",
   "metadata": {},
   "outputs": [],
   "source": [
    "data = {\"operation\": \"merit\",\n",
    "        \"team\": \"Giovanni\",\n",
    "        \"coin\": 1000,\n",
    "        \"stealfrom\": \"genesis\"}"
   ]
  },
  {
   "cell_type": "code",
   "execution_count": null,
   "id": "91183d84-81de-4e6f-a782-4f2c5802a30e",
   "metadata": {},
   "outputs": [],
   "source": [
    "resp1 = req.post(url = URL, json = data, verify=False)"
   ]
  },
  {
   "cell_type": "markdown",
   "id": "8eb41a97-c7fd-4b7c-8f76-727bc27ea978",
   "metadata": {},
   "source": [
    "Another json is needed in order to claim the amount required. This one must be \"posted\" after 10s to pass the proof of time."
   ]
  },
  {
   "cell_type": "code",
   "execution_count": 42,
   "id": "538d9f57-52e6-45d8-9faf-e12cee797fd3",
   "metadata": {},
   "outputs": [],
   "source": [
    "claim = {\n",
    "    \"operation\": \"claim\",\n",
    "    \"team\": \"Giovanni\"\n",
    "}"
   ]
  },
  {
   "cell_type": "code",
   "execution_count": null,
   "id": "dd32916b-3964-4475-90c8-da01b5edd52d",
   "metadata": {},
   "outputs": [],
   "source": [
    "resp2 = req.post(url = URL, json = claim, verify=False)"
   ]
  },
  {
   "cell_type": "markdown",
   "id": "f75675f4-7b38-449e-bb5a-7395007bb4b0",
   "metadata": {},
   "source": [
    "### 4.1.2"
   ]
  },
  {
   "cell_type": "markdown",
   "id": "81168949-6fa1-4bf6-ab02-6ed42661aae7",
   "metadata": {},
   "source": [
    "The maximum number of transactions that can be done in a day, given that only one transaction can be done at once and that the proof of time is 10s is simply calculated as\n",
    "\n",
    "$$\\frac{24 \\cdot 60 \\cdot 60 s}{10 s}= 8640$$"
   ]
  },
  {
   "cell_type": "markdown",
   "id": "19c19670-e070-4923-9ee3-ac404270c2c4",
   "metadata": {},
   "source": [
    "### 4.2/4.2.1"
   ]
  },
  {
   "cell_type": "code",
   "execution_count": 56,
   "id": "ae476c45-8533-4e6a-a1a5-63484218593e",
   "metadata": {},
   "outputs": [],
   "source": [
    "def calculate_hash(self):  \n",
    "    block_of_string = \"{}{}{}{}{}\".format( self.index,\n",
    "                                              self.team, \n",
    "                                              self.prev_hash,\n",
    "                                              self.coins, \n",
    "                                              self.timestamp)  \n",
    "    self.my_hash = hashlib.sha256(block_of_string.encode()).hexdigest()\n",
    "    return self.my_hash"
   ]
  },
  {
   "cell_type": "markdown",
   "id": "e7fa1826-aac6-412e-b79e-56951fe34982",
   "metadata": {},
   "source": [
    "This function works as an hashing function that depends on the structure and the timestamp of a transaction, and also on the previous transaction hash.\n",
    "\n",
    "The used hashing algorithm is SHA256 that generates a 32 bytes hash for each given set of values encoded in the variable `block_of_string`.\n",
    "\n",
    "Using this kind of hashing algorithm allows to identify univocally each block inside the blockchain and make the new hash depend on the hash of the previous block. The security implications will be treated below."
   ]
  },
  {
   "cell_type": "markdown",
   "id": "5dfb84c5-e474-43f5-b750-86e831f95ad7",
   "metadata": {},
   "source": [
    "### 4.2.2"
   ]
  },
  {
   "cell_type": "markdown",
   "id": "e52ce392-4e9a-423a-b67b-3b744e66be8d",
   "metadata": {},
   "source": [
    "The validation of the blockchain's content is done by checking that all the hashes actually corresponds to the blocks' contents. This must be done by hashing all the blocks of the blockchain, since each one depends on the previous one. A small change of a block has so a consequence easily detectable, given that the SHA256 algorithm produces a difference hash if the starting string is different.\n",
    "\n",
    "A variation on the blockchain can be found easily since a change of one of the old blocks implies changes in all the next hashes, given that each hash depends on the previous one. The existence of proof of time also allows to keep the system more secure, since a full subsitution of blocks would result in a large execution time before all the elements of the blockchain are substituted with the correct ones, in order to have consistecy between the blocks' hash.\n"
   ]
  },
  {
   "cell_type": "markdown",
   "id": "20b126e1-bded-4103-8eb7-76a6b5c1bf07",
   "metadata": {},
   "source": [
    "### 4.2.3\n",
    "\n",
    "POST is used to append requests to the blockchain and so the execution time dependence is only of O(1), since it does not have to go trough all the blocks of the chain in order to \"post\" a new one.\n",
    "\n",
    "GET instead works by downloading all the chain content and so his execution time dipendence must be of O(N), with N as the current number of transactions. \n",
    "\n",
    "The GET dependence on N can be one of the major problems in scalability if the chain has a large size."
   ]
  },
  {
   "cell_type": "code",
   "execution_count": 30,
   "id": "6cdaaaa5-422f-4db8-8a7f-0252bc9c8103",
   "metadata": {},
   "outputs": [
    {
     "data": {
      "image/png": "[encoded data removed]",
      "text/plain": [
       "<Figure size 720x432 with 1 Axes>"
      ]
     },
     "metadata": {
      "needs_background": "light"
     },
     "output_type": "display_data"
    }
   ],
   "source": [
    "fig, ax = plt.subplots(1,1,figsize = (10,6))\n",
    "plt.plot(np.linspace(0,100,1000),np.linspace(0,100,1000), label = \"GET function trend\")\n",
    "plt.plot(np.linspace(0,100,1000),[30]*1000, label = \"POST function trend\")\n",
    "ax.set_ylabel(\"Execution time\")\n",
    "ax.set_xlabel(\"Number of transactions\")\n",
    "ax.set_xticklabels([])\n",
    "ax.set_yticklabels([])\n",
    "plt.legend()\n",
    "plt.show()"
   ]
  },
  {
   "cell_type": "markdown",
   "id": "69f6f4be-adb0-43da-975c-9b0b9376be41",
   "metadata": {},
   "source": [
    "### 4.2.4"
   ]
  },
  {
   "cell_type": "markdown",
   "id": "0686fba4-019e-4631-8b0d-bf4c166d7833",
   "metadata": {},
   "source": [
    "The account balances can be restored simply by starting from the inital state and redistributing the money according to the sequence of transactions."
   ]
  },
  {
   "cell_type": "markdown",
   "id": "92b0fcdb-6f8b-41dc-8031-579f9735cef6",
   "metadata": {
    "tags": []
   },
   "source": [
    "### 4.2.5"
   ]
  },
  {
   "cell_type": "markdown",
   "id": "48564cf2-ad2b-4746-bc94-1090aa958015",
   "metadata": {},
   "source": [
    "The main advantage of REST APIs is the simplicity, the structure based on GET and POST functions that allows a complete communication with the server. Also the use of some communication standards, such as `JSON`, allows to make the exchange of information even simpler. In particular `JSON` structure is helpful if the information set to send has an hierarchical shape, since it allows to store it in a plain structure.\n",
    "\n",
    "The main disadvantage of REST APIs is the stateless configuration, so if the server crashes all the informations about the state are lost as was discussed in exercise 4.2.4, and the last state must be rebuilt from the starting one. "
   ]
  }
 ],
 "metadata": {
  "kernelspec": {
   "display_name": "Python 3",
   "language": "python",
   "name": "python3"
  },
  "language_info": {
   "codemirror_mode": {
    "name": "ipython",
    "version": 3
   },
   "file_extension": ".py",
   "mimetype": "text/x-python",
   "name": "python",
   "nbconvert_exporter": "python",
   "pygments_lexer": "ipython3",
   "version": "3.8.6"
  },
  "toc-autonumbering": false,
  "toc-showmarkdowntxt": false,
  "toc-showtags": false
 },
 "nbformat": 4,
 "nbformat_minor": 5
}
