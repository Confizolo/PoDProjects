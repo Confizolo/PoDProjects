{
 "cells": [
  {
   "cell_type": "markdown",
   "id": "9699ee11",
   "metadata": {},
   "source": [
    "# NEURAL NETWORKS AND DEEP LEARNING\n",
    "\n",
    "---\n",
    "A.A. 2021/22 (6 CFU) - Dr. Alberto Testolin, Dr. Umberto Michieli\n",
    "---\n"
   ]
  },
  {
   "cell_type": "markdown",
   "id": "d336b6e9",
   "metadata": {},
   "source": [
    "# Homework 2 - Autoencoders "
   ]
  },
  {
   "cell_type": "code",
   "execution_count": 58,
   "id": "2d218ce0",
   "metadata": {},
   "outputs": [],
   "source": [
    "# torch modules\n",
    "import torch\n",
    "import torch.nn as nn\n",
    "import torch.optim as toptim\n",
    "import torchvision\n",
    "from torchvision import transforms\n",
    "from torch.utils.data import Dataset, DataLoader\n",
    "import torch.nn.functional as F\n",
    "\n",
    "# sklearn and skorch modules\n",
    "from sklearn.model_selection import RandomizedSearchCV\n",
    "from sklearn.metrics import confusion_matrix\n",
    "from skorch import NeuralNetRegressor,NeuralNetClassifier,callbacks\n",
    "\n",
    "# various modules\n",
    "import numpy as np\n",
    "import pandas as pd\n",
    "import matplotlib.pyplot as plt\n",
    "from tqdm import tqdm\n",
    "import seaborn as sns\n",
    "sns.set_theme()\n",
    "\n",
    "# optuna import\n",
    "import optuna\n",
    "\n",
    "# self-made libraries import\n",
    "from encoders import Encoder\n",
    "from decoders import Decoder\n",
    "from training_func import training_loop, training_loop_sup, training_loop_autoenc, training_loop_den\n",
    "from optimization import objective\n",
    "from utilities import plot_result, add_noise"
   ]
  },
  {
   "cell_type": "code",
   "execution_count": 57,
   "id": "b61d307e",
   "metadata": {},
   "outputs": [
    {
     "data": {
      "text/plain": [
       "<module 'utilities' from 'c:\\\\Users\\\\Filippo\\\\Documents\\\\POD\\\\Projects\\\\NNDL\\\\HW2\\\\utilities.py'>"
      ]
     },
     "execution_count": 57,
     "metadata": {},
     "output_type": "execute_result"
    }
   ],
   "source": [
    "import sys, importlib\n",
    "importlib.reload(sys.modules['encoders'])\n",
    "importlib.reload(sys.modules[\"training_func\"])\n",
    "importlib.reload(sys.modules[\"optimization\"])\n",
    "importlib.reload(sys.modules[\"utilities\"])"
   ]
  },
  {
   "cell_type": "markdown",
   "id": "1512dcc6",
   "metadata": {},
   "source": [
    "## Dataset"
   ]
  },
  {
   "cell_type": "code",
   "execution_count": 53,
   "id": "d13b4e3c",
   "metadata": {},
   "outputs": [],
   "source": [
    "# creating the transformations list\n",
    "transformations = torchvision.transforms.Compose([torchvision.transforms.RandomAffine(degrees=15, translate=(.05, .05), scale=(0.95,1.05)) , transforms.ToTensor() ])\n",
    "\n",
    "# loading train and test dataset\n",
    "train_dataset = torchvision.datasets.FashionMNIST('classifier_data', train=True, download=True)\n",
    "test_dataset  = torchvision.datasets.FashionMNIST('classifier_data', train=False, download=True)\n",
    "\n",
    "train_dataset.transform = transformations\n",
    "test_dataset.transform = transformations\n"
   ]
  },
  {
   "cell_type": "code",
   "execution_count": 54,
   "id": "b242a385",
   "metadata": {},
   "outputs": [],
   "source": [
    "### Define train dataloader\n",
    "train_dataloader = DataLoader(train_dataset, batch_size=256, shuffle=True)\n",
    "### Define test dataloader\n",
    "test_dataloader = DataLoader(test_dataset, batch_size=256, shuffle=False)\n"
   ]
  },
  {
   "cell_type": "markdown",
   "id": "9aabae1a",
   "metadata": {},
   "source": [
    "## Network definition"
   ]
  },
  {
   "cell_type": "code",
   "execution_count": 10,
   "id": "65c6355f",
   "metadata": {},
   "outputs": [],
   "source": [
    "### Set the random seed for reproducible results\n",
    "torch.manual_seed(0)\n",
    "device = \"cpu\"\n",
    "### Initialize the two networks\n",
    "encoded_space_dim = 2\n",
    "encoder = Encoder(encoded_space_dim=encoded_space_dim,device=device)\n",
    "decoder = Decoder(encoded_space_dim=encoded_space_dim, device=device)"
   ]
  },
  {
   "cell_type": "markdown",
   "id": "5f040d7c",
   "metadata": {},
   "source": [
    "# Training parameters"
   ]
  },
  {
   "cell_type": "code",
   "execution_count": 52,
   "id": "d5e89d5a",
   "metadata": {},
   "outputs": [],
   "source": [
    "### Define the loss function\n",
    "loss_fn = torch.nn.MSELoss()\n",
    "\n",
    "### Define an optimizer (both for the encoder and the decoder!)\n",
    "lr = 5e-4 # Learning rate\n",
    "params_to_optimize = [\n",
    "    {'params': encoder.parameters()},\n",
    "    {'params': decoder.parameters()}\n",
    "]\n",
    "\n",
    "optim = torch.optim.Adam(params_to_optimize, lr=lr, weight_decay=1e-5)\n"
   ]
  },
  {
   "cell_type": "code",
   "execution_count": 12,
   "id": "511da1fa",
   "metadata": {},
   "outputs": [
    {
     "name": "stdout",
     "output_type": "stream",
     "text": [
      "EPOCH 1/10\n",
      "\n",
      "\n",
      "\t VALIDATION - EPOCH 1/10 - loss: 0.065332\n",
      "\n",
      "\n",
      "EPOCH 2/10\n",
      "\n",
      "\n",
      "\t VALIDATION - EPOCH 2/10 - loss: 0.053759\n",
      "\n",
      "\n",
      "EPOCH 3/10\n",
      "\n",
      "\n",
      "\t VALIDATION - EPOCH 3/10 - loss: 0.048455\n",
      "\n",
      "\n",
      "EPOCH 4/10\n",
      "\n",
      "\n",
      "\t VALIDATION - EPOCH 4/10 - loss: 0.046704\n",
      "\n",
      "\n",
      "EPOCH 5/10\n",
      "\n",
      "\n",
      "\t VALIDATION - EPOCH 5/10 - loss: 0.045746\n",
      "\n",
      "\n",
      "EPOCH 6/10\n",
      "\n",
      "\n",
      "\t VALIDATION - EPOCH 6/10 - loss: 0.045304\n",
      "\n",
      "\n",
      "EPOCH 7/10\n",
      "\n",
      "\n",
      "\t VALIDATION - EPOCH 7/10 - loss: 0.044695\n",
      "\n",
      "\n",
      "EPOCH 8/10\n",
      "\n",
      "\n",
      "\t VALIDATION - EPOCH 8/10 - loss: 0.044370\n",
      "\n",
      "\n",
      "EPOCH 9/10\n",
      "\n",
      "\n",
      "\t VALIDATION - EPOCH 9/10 - loss: 0.044150\n",
      "\n",
      "\n",
      "EPOCH 10/10\n",
      "\n",
      "\n",
      "\t VALIDATION - EPOCH 10/10 - loss: 0.043643\n",
      "\n",
      "\n"
     ]
    }
   ],
   "source": [
    "encoder,decoder,train_loss,test_loss = training_loop(10,device,encoder,decoder,train_dataloader,test_dataloader,loss_fn,optim)"
   ]
  },
  {
   "cell_type": "code",
   "execution_count": 16,
   "id": "df3e63aa",
   "metadata": {},
   "outputs": [
    {
     "data": {
      "image/png": "[encoded data removed]",
      "text/plain": [
       "<Figure size 864x432 with 2 Axes>"
      ]
     },
     "metadata": {},
     "output_type": "display_data"
    }
   ],
   "source": [
    "im=train_dataset[0][0][0]\n",
    "rec_im=decoder(encoder(train_dataset[0][0].reshape([1,1,28,28])))[0][0].detach()\n",
    "plot_result(im,rec_im)"
   ]
  },
  {
   "cell_type": "markdown",
   "id": "e62b3bc3",
   "metadata": {},
   "source": [
    "# Optuna optimization"
   ]
  },
  {
   "cell_type": "code",
   "execution_count": null,
   "id": "cd5f8e58",
   "metadata": {},
   "outputs": [],
   "source": [
    "study = optuna.create_study(direction='minimize')\n",
    "study.optimize(objective, n_trials=100)\n",
    "\n",
    "trial = study.best_trial\n",
    "\n",
    "print('Accuracy: {}'.format(trial.value))\n",
    "print(\"Best hyperparameters: {}\".format(trial.params))"
   ]
  },
  {
   "cell_type": "code",
   "execution_count": null,
   "id": "3645824b",
   "metadata": {},
   "outputs": [],
   "source": [
    "df = study.trials_dataframe().drop(['state','datetime_start','datetime_complete','duration','number'], axis=1)\n",
    "df.tail(5)"
   ]
  },
  {
   "cell_type": "code",
   "execution_count": null,
   "id": "dbf85e09",
   "metadata": {},
   "outputs": [],
   "source": [
    "optuna.visualization.plot_optimization_history(study)"
   ]
  },
  {
   "cell_type": "markdown",
   "id": "61382628",
   "metadata": {},
   "source": [
    "# Denoising"
   ]
  },
  {
   "cell_type": "code",
   "execution_count": 59,
   "id": "2182913d",
   "metadata": {},
   "outputs": [],
   "source": [
    "### Set the random seed for reproducible results\n",
    "torch.manual_seed(0)\n",
    "device = \"cpu\"\n",
    "### Initialize the two networks\n",
    "encoded_space_dim = 2\n",
    "encoder = Encoder(encoded_space_dim=encoded_space_dim,device=device)\n",
    "decoder = Decoder(encoded_space_dim=encoded_space_dim, device=device)"
   ]
  },
  {
   "cell_type": "code",
   "execution_count": 60,
   "id": "d35aba85",
   "metadata": {},
   "outputs": [
    {
     "name": "stdout",
     "output_type": "stream",
     "text": [
      "EPOCH 1/10\n",
      "\n",
      "\n",
      "\t VALIDATION - EPOCH 1/10 - loss: 0.180603\n",
      "\n",
      "\n",
      "EPOCH 2/10\n",
      "\n",
      "\n",
      "\t VALIDATION - EPOCH 2/10 - loss: 0.180447\n",
      "\n",
      "\n",
      "EPOCH 3/10\n",
      "\n",
      "\n",
      "\t VALIDATION - EPOCH 3/10 - loss: 0.180456\n",
      "\n",
      "\n",
      "EPOCH 4/10\n",
      "\n",
      "\n",
      "\t VALIDATION - EPOCH 4/10 - loss: 0.180542\n",
      "\n",
      "\n",
      "EPOCH 5/10\n",
      "\n",
      "\n",
      "\t VALIDATION - EPOCH 5/10 - loss: 0.180426\n",
      "\n",
      "\n",
      "EPOCH 6/10\n",
      "\n",
      "\n",
      "\t VALIDATION - EPOCH 6/10 - loss: 0.180521\n",
      "\n",
      "\n",
      "EPOCH 7/10\n",
      "\n",
      "\n",
      "\t VALIDATION - EPOCH 7/10 - loss: 0.180550\n",
      "\n",
      "\n",
      "EPOCH 8/10\n",
      "\n",
      "\n",
      "\t VALIDATION - EPOCH 8/10 - loss: 0.180441\n",
      "\n",
      "\n",
      "EPOCH 9/10\n",
      "\n",
      "\n",
      "\t VALIDATION - EPOCH 9/10 - loss: 0.180456\n",
      "\n",
      "\n",
      "EPOCH 10/10\n",
      "\n",
      "\n",
      "\t VALIDATION - EPOCH 10/10 - loss: 0.180493\n",
      "\n",
      "\n"
     ]
    }
   ],
   "source": [
    "encoder,decoder,train_loss,test_loss = training_loop_den(10,device,encoder,decoder,train_dataloader,test_dataloader,loss_fn,optim)"
   ]
  },
  {
   "cell_type": "markdown",
   "id": "af1b2086",
   "metadata": {},
   "source": [
    "# Supervised learning application"
   ]
  },
  {
   "cell_type": "code",
   "execution_count": 20,
   "id": "e579e80b",
   "metadata": {},
   "outputs": [],
   "source": [
    "from conv_model import ConvolutionalNet\n",
    "classifierNet = ConvolutionalNet(act_func=nn.ReLU(), linear_size=120, conv0_size = 10, conv1_size = 20, dropout=0.2)\n"
   ]
  },
  {
   "cell_type": "code",
   "execution_count": 21,
   "id": "ffb3d0a4",
   "metadata": {},
   "outputs": [],
   "source": [
    "net_skorch = NeuralNetClassifier(\n",
    "            module=classifierNet,\n",
    "            module__act_func=nn.ReLU(),\n",
    "            criterion= nn.CrossEntropyLoss,\n",
    "            max_epochs=20,\n",
    "            optimizer__lr = 1e-3,\n",
    "            optimizer = torch.optim.Adam,\n",
    "            batch_size = 1000,\n",
    "            # optimizer__weight_decay=0.01, # L2 Regularization          \n",
    "            # train_split\n",
    "            # device='cuda',  # uncomment this to train with CUDA\n",
    "            callbacks = [callbacks.EarlyStopping(monitor='valid_loss', patience=100, threshold=0.005)],     \n",
    "            verbose = 0\n",
    ")"
   ]
  },
  {
   "cell_type": "code",
   "execution_count": 22,
   "id": "a7838db7",
   "metadata": {},
   "outputs": [
    {
     "data": {
      "text/plain": [
       "<class 'skorch.classifier.NeuralNetClassifier'>[initialized](\n",
       "  module_=ConvolutionalNet(\n",
       "    (act_func): ReLU()\n",
       "    (final_func): Softmax(dim=1)\n",
       "    (dropout_func): Dropout(p=0, inplace=False)\n",
       "    (conv0): Conv2d(1, 10, kernel_size=(2, 2), stride=(2, 2), padding=(1, 1))\n",
       "    (conv1): Conv2d(10, 20, kernel_size=(3, 3), stride=(2, 2), padding=(1, 1))\n",
       "    (lin_layer): Linear(in_features=1280, out_features=100, bias=True)\n",
       "    (out_layer): Linear(in_features=100, out_features=10, bias=True)\n",
       "  ),\n",
       ")"
      ]
     },
     "execution_count": 22,
     "metadata": {},
     "output_type": "execute_result"
    }
   ],
   "source": [
    "input_data = train_dataset.data.type(torch.float32).reshape(60000,1,28,28)\n",
    "label_data = train_dataset.targets.type(torch.int64).reshape(60000)\n",
    "net_skorch.fit(input_data,label_data)"
   ]
  },
  {
   "cell_type": "code",
   "execution_count": 24,
   "id": "79ea7251",
   "metadata": {},
   "outputs": [],
   "source": [
    "loss_fn = torch.nn.CrossEntropyLoss()"
   ]
  },
  {
   "cell_type": "code",
   "execution_count": 25,
   "id": "01aee599",
   "metadata": {},
   "outputs": [
    {
     "name": "stdout",
     "output_type": "stream",
     "text": [
      "EPOCH 1/10\n"
     ]
    },
    {
     "name": "stderr",
     "output_type": "stream",
     "text": [
      "c:\\Users\\Filippo\\Documents\\POD\\Projects\\NNDL\\HW2\\training_func.py:177: UserWarning: To copy construct from a tensor, it is recommended to use sourceTensor.clone().detach() or sourceTensor.clone().detach().requires_grad_(True), rather than torch.tensor(sourceTensor).\n",
      "  loss = loss_fn(classifierNet.forward(decoded_data), torch.nn.functional.one_hot(torch.tensor(image_label),num_classes=10).type(torch.float32))\n",
      "c:\\Users\\Filippo\\Documents\\POD\\Projects\\NNDL\\HW2\\training_func.py:209: UserWarning: To copy construct from a tensor, it is recommended to use sourceTensor.clone().detach() or sourceTensor.clone().detach().requires_grad_(True), rather than torch.tensor(sourceTensor).\n",
      "  val_loss = loss_fn(classifierNet.forward(conc_out), torch.nn.functional.one_hot(torch.tensor(conc_label),num_classes=10).type(torch.float32))\n"
     ]
    },
    {
     "name": "stdout",
     "output_type": "stream",
     "text": [
      "\n",
      "\n",
      "\t VALIDATION - EPOCH 1/10 - loss: 2.300492\n",
      "\n",
      "\n",
      "EPOCH 2/10\n",
      "\n",
      "\n",
      "\t VALIDATION - EPOCH 2/10 - loss: 2.298317\n",
      "\n",
      "\n",
      "EPOCH 3/10\n",
      "\n",
      "\n",
      "\t VALIDATION - EPOCH 3/10 - loss: 2.296957\n",
      "\n",
      "\n",
      "EPOCH 4/10\n",
      "\n",
      "\n",
      "\t VALIDATION - EPOCH 4/10 - loss: 2.296364\n",
      "\n",
      "\n",
      "EPOCH 5/10\n",
      "\n",
      "\n",
      "\t VALIDATION - EPOCH 5/10 - loss: 2.295939\n",
      "\n",
      "\n",
      "EPOCH 6/10\n",
      "\n",
      "\n",
      "\t VALIDATION - EPOCH 6/10 - loss: 2.295702\n",
      "\n",
      "\n",
      "EPOCH 7/10\n",
      "\n",
      "\n",
      "\t VALIDATION - EPOCH 7/10 - loss: 2.295569\n",
      "\n",
      "\n",
      "EPOCH 8/10\n",
      "\n",
      "\n",
      "\t VALIDATION - EPOCH 8/10 - loss: 2.295240\n",
      "\n",
      "\n",
      "EPOCH 9/10\n"
     ]
    },
    {
     "ename": "KeyboardInterrupt",
     "evalue": "",
     "output_type": "error",
     "traceback": [
      "\u001b[1;31m---------------------------------------------------------------------------\u001b[0m",
      "\u001b[1;31mKeyboardInterrupt\u001b[0m                         Traceback (most recent call last)",
      "\u001b[1;32m<ipython-input-25-debacc16e0dd>\u001b[0m in \u001b[0;36m<module>\u001b[1;34m\u001b[0m\n\u001b[1;32m----> 1\u001b[1;33m \u001b[0mencoder\u001b[0m\u001b[1;33m,\u001b[0m\u001b[0mdecoder\u001b[0m\u001b[1;33m,\u001b[0m\u001b[0mtrain_loss\u001b[0m\u001b[1;33m,\u001b[0m\u001b[0mtest_loss\u001b[0m \u001b[1;33m=\u001b[0m \u001b[0mtraining_loop_sup\u001b[0m\u001b[1;33m(\u001b[0m\u001b[1;36m10\u001b[0m\u001b[1;33m,\u001b[0m\u001b[0mdevice\u001b[0m\u001b[1;33m,\u001b[0m\u001b[0mencoder\u001b[0m\u001b[1;33m,\u001b[0m\u001b[0mdecoder\u001b[0m\u001b[1;33m,\u001b[0m\u001b[0mtrain_dataloader\u001b[0m\u001b[1;33m,\u001b[0m\u001b[0mtest_dataloader\u001b[0m\u001b[1;33m,\u001b[0m\u001b[0mloss_fn\u001b[0m\u001b[1;33m,\u001b[0m\u001b[0moptim\u001b[0m\u001b[1;33m,\u001b[0m \u001b[0mclassifierNet\u001b[0m\u001b[1;33m)\u001b[0m\u001b[1;33m\u001b[0m\u001b[1;33m\u001b[0m\u001b[0m\n\u001b[0m",
      "\u001b[1;32mc:\\Users\\Filippo\\Documents\\POD\\Projects\\NNDL\\HW2\\training_func.py\u001b[0m in \u001b[0;36mtraining_loop_sup\u001b[1;34m(num_epochs, device, encoder, decoder, train_dataloader, test_dataloader, loss_fn, optim, classifierNet)\u001b[0m\n\u001b[0;32m     96\u001b[0m         \u001b[0mprint\u001b[0m\u001b[1;33m(\u001b[0m\u001b[1;34m'EPOCH %d/%d'\u001b[0m \u001b[1;33m%\u001b[0m \u001b[1;33m(\u001b[0m\u001b[0mepoch\u001b[0m \u001b[1;33m+\u001b[0m \u001b[1;36m1\u001b[0m\u001b[1;33m,\u001b[0m \u001b[0mnum_epochs\u001b[0m\u001b[1;33m)\u001b[0m\u001b[1;33m)\u001b[0m\u001b[1;33m\u001b[0m\u001b[1;33m\u001b[0m\u001b[0m\n\u001b[0;32m     97\u001b[0m         \u001b[1;31m### Training (use the training function)\u001b[0m\u001b[1;33m\u001b[0m\u001b[1;33m\u001b[0m\u001b[1;33m\u001b[0m\u001b[0m\n\u001b[1;32m---> 98\u001b[1;33m         train_epoch_sup(\n\u001b[0m\u001b[0;32m     99\u001b[0m             \u001b[0mencoder\u001b[0m\u001b[1;33m=\u001b[0m\u001b[0mencoder\u001b[0m\u001b[1;33m,\u001b[0m\u001b[1;33m\u001b[0m\u001b[1;33m\u001b[0m\u001b[0m\n\u001b[0;32m    100\u001b[0m             \u001b[0mdecoder\u001b[0m\u001b[1;33m=\u001b[0m\u001b[0mdecoder\u001b[0m\u001b[1;33m,\u001b[0m\u001b[1;33m\u001b[0m\u001b[1;33m\u001b[0m\u001b[0m\n",
      "\u001b[1;32mc:\\Users\\Filippo\\Documents\\POD\\Projects\\NNDL\\HW2\\training_func.py\u001b[0m in \u001b[0;36mtrain_epoch_sup\u001b[1;34m(encoder, decoder, device, dataloader, loss_fn, optimizer, classifierNet, train_loss_hist)\u001b[0m\n\u001b[0;32m    173\u001b[0m         \u001b[0mencoded_data\u001b[0m \u001b[1;33m=\u001b[0m \u001b[0mencoder\u001b[0m\u001b[1;33m(\u001b[0m\u001b[0mimage_batch\u001b[0m\u001b[1;33m)\u001b[0m\u001b[1;33m\u001b[0m\u001b[1;33m\u001b[0m\u001b[0m\n\u001b[0;32m    174\u001b[0m         \u001b[1;31m# Decode data\u001b[0m\u001b[1;33m\u001b[0m\u001b[1;33m\u001b[0m\u001b[1;33m\u001b[0m\u001b[0m\n\u001b[1;32m--> 175\u001b[1;33m         \u001b[0mdecoded_data\u001b[0m \u001b[1;33m=\u001b[0m \u001b[0mdecoder\u001b[0m\u001b[1;33m(\u001b[0m\u001b[0mencoded_data\u001b[0m\u001b[1;33m)\u001b[0m\u001b[1;33m\u001b[0m\u001b[1;33m\u001b[0m\u001b[0m\n\u001b[0m\u001b[0;32m    176\u001b[0m         \u001b[1;31m# Evaluate loss\u001b[0m\u001b[1;33m\u001b[0m\u001b[1;33m\u001b[0m\u001b[1;33m\u001b[0m\u001b[0m\n\u001b[0;32m    177\u001b[0m         \u001b[0mloss\u001b[0m \u001b[1;33m=\u001b[0m \u001b[0mloss_fn\u001b[0m\u001b[1;33m(\u001b[0m\u001b[0mclassifierNet\u001b[0m\u001b[1;33m.\u001b[0m\u001b[0mforward\u001b[0m\u001b[1;33m(\u001b[0m\u001b[0mdecoded_data\u001b[0m\u001b[1;33m)\u001b[0m\u001b[1;33m,\u001b[0m \u001b[0mtorch\u001b[0m\u001b[1;33m.\u001b[0m\u001b[0mnn\u001b[0m\u001b[1;33m.\u001b[0m\u001b[0mfunctional\u001b[0m\u001b[1;33m.\u001b[0m\u001b[0mone_hot\u001b[0m\u001b[1;33m(\u001b[0m\u001b[0mtorch\u001b[0m\u001b[1;33m.\u001b[0m\u001b[0mtensor\u001b[0m\u001b[1;33m(\u001b[0m\u001b[0mimage_label\u001b[0m\u001b[1;33m)\u001b[0m\u001b[1;33m,\u001b[0m\u001b[0mnum_classes\u001b[0m\u001b[1;33m=\u001b[0m\u001b[1;36m10\u001b[0m\u001b[1;33m)\u001b[0m\u001b[1;33m.\u001b[0m\u001b[0mtype\u001b[0m\u001b[1;33m(\u001b[0m\u001b[0mtorch\u001b[0m\u001b[1;33m.\u001b[0m\u001b[0mfloat32\u001b[0m\u001b[1;33m)\u001b[0m\u001b[1;33m)\u001b[0m\u001b[1;33m\u001b[0m\u001b[1;33m\u001b[0m\u001b[0m\n",
      "\u001b[1;32m~\\anaconda3\\envs\\torch\\lib\\site-packages\\torch\\nn\\modules\\module.py\u001b[0m in \u001b[0;36m_call_impl\u001b[1;34m(self, *input, **kwargs)\u001b[0m\n\u001b[0;32m   1100\u001b[0m         if not (self._backward_hooks or self._forward_hooks or self._forward_pre_hooks or _global_backward_hooks\n\u001b[0;32m   1101\u001b[0m                 or _global_forward_hooks or _global_forward_pre_hooks):\n\u001b[1;32m-> 1102\u001b[1;33m             \u001b[1;32mreturn\u001b[0m \u001b[0mforward_call\u001b[0m\u001b[1;33m(\u001b[0m\u001b[1;33m*\u001b[0m\u001b[0minput\u001b[0m\u001b[1;33m,\u001b[0m \u001b[1;33m**\u001b[0m\u001b[0mkwargs\u001b[0m\u001b[1;33m)\u001b[0m\u001b[1;33m\u001b[0m\u001b[1;33m\u001b[0m\u001b[0m\n\u001b[0m\u001b[0;32m   1103\u001b[0m         \u001b[1;31m# Do not call functions when jit is used\u001b[0m\u001b[1;33m\u001b[0m\u001b[1;33m\u001b[0m\u001b[1;33m\u001b[0m\u001b[0m\n\u001b[0;32m   1104\u001b[0m         \u001b[0mfull_backward_hooks\u001b[0m\u001b[1;33m,\u001b[0m \u001b[0mnon_full_backward_hooks\u001b[0m \u001b[1;33m=\u001b[0m \u001b[1;33m[\u001b[0m\u001b[1;33m]\u001b[0m\u001b[1;33m,\u001b[0m \u001b[1;33m[\u001b[0m\u001b[1;33m]\u001b[0m\u001b[1;33m\u001b[0m\u001b[1;33m\u001b[0m\u001b[0m\n",
      "\u001b[1;32mc:\\Users\\Filippo\\Documents\\POD\\Projects\\NNDL\\HW2\\decoders.py\u001b[0m in \u001b[0;36mforward\u001b[1;34m(self, x)\u001b[0m\n\u001b[0;32m     43\u001b[0m         \u001b[0mx\u001b[0m \u001b[1;33m=\u001b[0m \u001b[0mself\u001b[0m\u001b[1;33m.\u001b[0m\u001b[0munflatten\u001b[0m\u001b[1;33m(\u001b[0m\u001b[0mx\u001b[0m\u001b[1;33m)\u001b[0m\u001b[1;33m\u001b[0m\u001b[1;33m\u001b[0m\u001b[0m\n\u001b[0;32m     44\u001b[0m         \u001b[1;31m# Apply transposed convolutions\u001b[0m\u001b[1;33m\u001b[0m\u001b[1;33m\u001b[0m\u001b[1;33m\u001b[0m\u001b[0m\n\u001b[1;32m---> 45\u001b[1;33m         \u001b[0mx\u001b[0m \u001b[1;33m=\u001b[0m \u001b[0mself\u001b[0m\u001b[1;33m.\u001b[0m\u001b[0mdecoder_conv\u001b[0m\u001b[1;33m(\u001b[0m\u001b[0mx\u001b[0m\u001b[1;33m)\u001b[0m\u001b[1;33m\u001b[0m\u001b[1;33m\u001b[0m\u001b[0m\n\u001b[0m\u001b[0;32m     46\u001b[0m         \u001b[1;31m# Apply a sigmoid to force the output to be between 0 and 1 (valid pixel values)\u001b[0m\u001b[1;33m\u001b[0m\u001b[1;33m\u001b[0m\u001b[1;33m\u001b[0m\u001b[0m\n\u001b[0;32m     47\u001b[0m         \u001b[0mx\u001b[0m \u001b[1;33m=\u001b[0m \u001b[0mtorch\u001b[0m\u001b[1;33m.\u001b[0m\u001b[0msigmoid\u001b[0m\u001b[1;33m(\u001b[0m\u001b[0mx\u001b[0m\u001b[1;33m)\u001b[0m\u001b[1;33m\u001b[0m\u001b[1;33m\u001b[0m\u001b[0m\n",
      "\u001b[1;32m~\\anaconda3\\envs\\torch\\lib\\site-packages\\torch\\nn\\modules\\module.py\u001b[0m in \u001b[0;36m_call_impl\u001b[1;34m(self, *input, **kwargs)\u001b[0m\n\u001b[0;32m   1100\u001b[0m         if not (self._backward_hooks or self._forward_hooks or self._forward_pre_hooks or _global_backward_hooks\n\u001b[0;32m   1101\u001b[0m                 or _global_forward_hooks or _global_forward_pre_hooks):\n\u001b[1;32m-> 1102\u001b[1;33m             \u001b[1;32mreturn\u001b[0m \u001b[0mforward_call\u001b[0m\u001b[1;33m(\u001b[0m\u001b[1;33m*\u001b[0m\u001b[0minput\u001b[0m\u001b[1;33m,\u001b[0m \u001b[1;33m**\u001b[0m\u001b[0mkwargs\u001b[0m\u001b[1;33m)\u001b[0m\u001b[1;33m\u001b[0m\u001b[1;33m\u001b[0m\u001b[0m\n\u001b[0m\u001b[0;32m   1103\u001b[0m         \u001b[1;31m# Do not call functions when jit is used\u001b[0m\u001b[1;33m\u001b[0m\u001b[1;33m\u001b[0m\u001b[1;33m\u001b[0m\u001b[0m\n\u001b[0;32m   1104\u001b[0m         \u001b[0mfull_backward_hooks\u001b[0m\u001b[1;33m,\u001b[0m \u001b[0mnon_full_backward_hooks\u001b[0m \u001b[1;33m=\u001b[0m \u001b[1;33m[\u001b[0m\u001b[1;33m]\u001b[0m\u001b[1;33m,\u001b[0m \u001b[1;33m[\u001b[0m\u001b[1;33m]\u001b[0m\u001b[1;33m\u001b[0m\u001b[1;33m\u001b[0m\u001b[0m\n",
      "\u001b[1;32m~\\anaconda3\\envs\\torch\\lib\\site-packages\\torch\\nn\\modules\\container.py\u001b[0m in \u001b[0;36mforward\u001b[1;34m(self, input)\u001b[0m\n\u001b[0;32m    139\u001b[0m     \u001b[1;32mdef\u001b[0m \u001b[0mforward\u001b[0m\u001b[1;33m(\u001b[0m\u001b[0mself\u001b[0m\u001b[1;33m,\u001b[0m \u001b[0minput\u001b[0m\u001b[1;33m)\u001b[0m\u001b[1;33m:\u001b[0m\u001b[1;33m\u001b[0m\u001b[1;33m\u001b[0m\u001b[0m\n\u001b[0;32m    140\u001b[0m         \u001b[1;32mfor\u001b[0m \u001b[0mmodule\u001b[0m \u001b[1;32min\u001b[0m \u001b[0mself\u001b[0m\u001b[1;33m:\u001b[0m\u001b[1;33m\u001b[0m\u001b[1;33m\u001b[0m\u001b[0m\n\u001b[1;32m--> 141\u001b[1;33m             \u001b[0minput\u001b[0m \u001b[1;33m=\u001b[0m \u001b[0mmodule\u001b[0m\u001b[1;33m(\u001b[0m\u001b[0minput\u001b[0m\u001b[1;33m)\u001b[0m\u001b[1;33m\u001b[0m\u001b[1;33m\u001b[0m\u001b[0m\n\u001b[0m\u001b[0;32m    142\u001b[0m         \u001b[1;32mreturn\u001b[0m \u001b[0minput\u001b[0m\u001b[1;33m\u001b[0m\u001b[1;33m\u001b[0m\u001b[0m\n\u001b[0;32m    143\u001b[0m \u001b[1;33m\u001b[0m\u001b[0m\n",
      "\u001b[1;32m~\\anaconda3\\envs\\torch\\lib\\site-packages\\torch\\nn\\modules\\module.py\u001b[0m in \u001b[0;36m_call_impl\u001b[1;34m(self, *input, **kwargs)\u001b[0m\n\u001b[0;32m   1100\u001b[0m         if not (self._backward_hooks or self._forward_hooks or self._forward_pre_hooks or _global_backward_hooks\n\u001b[0;32m   1101\u001b[0m                 or _global_forward_hooks or _global_forward_pre_hooks):\n\u001b[1;32m-> 1102\u001b[1;33m             \u001b[1;32mreturn\u001b[0m \u001b[0mforward_call\u001b[0m\u001b[1;33m(\u001b[0m\u001b[1;33m*\u001b[0m\u001b[0minput\u001b[0m\u001b[1;33m,\u001b[0m \u001b[1;33m**\u001b[0m\u001b[0mkwargs\u001b[0m\u001b[1;33m)\u001b[0m\u001b[1;33m\u001b[0m\u001b[1;33m\u001b[0m\u001b[0m\n\u001b[0m\u001b[0;32m   1103\u001b[0m         \u001b[1;31m# Do not call functions when jit is used\u001b[0m\u001b[1;33m\u001b[0m\u001b[1;33m\u001b[0m\u001b[1;33m\u001b[0m\u001b[0m\n\u001b[0;32m   1104\u001b[0m         \u001b[0mfull_backward_hooks\u001b[0m\u001b[1;33m,\u001b[0m \u001b[0mnon_full_backward_hooks\u001b[0m \u001b[1;33m=\u001b[0m \u001b[1;33m[\u001b[0m\u001b[1;33m]\u001b[0m\u001b[1;33m,\u001b[0m \u001b[1;33m[\u001b[0m\u001b[1;33m]\u001b[0m\u001b[1;33m\u001b[0m\u001b[1;33m\u001b[0m\u001b[0m\n",
      "\u001b[1;32m~\\anaconda3\\envs\\torch\\lib\\site-packages\\torch\\nn\\modules\\conv.py\u001b[0m in \u001b[0;36mforward\u001b[1;34m(self, input, output_size)\u001b[0m\n\u001b[0;32m    921\u001b[0m             input, output_size, self.stride, self.padding, self.kernel_size, self.dilation)  # type: ignore[arg-type]\n\u001b[0;32m    922\u001b[0m \u001b[1;33m\u001b[0m\u001b[0m\n\u001b[1;32m--> 923\u001b[1;33m         return F.conv_transpose2d(\n\u001b[0m\u001b[0;32m    924\u001b[0m             \u001b[0minput\u001b[0m\u001b[1;33m,\u001b[0m \u001b[0mself\u001b[0m\u001b[1;33m.\u001b[0m\u001b[0mweight\u001b[0m\u001b[1;33m,\u001b[0m \u001b[0mself\u001b[0m\u001b[1;33m.\u001b[0m\u001b[0mbias\u001b[0m\u001b[1;33m,\u001b[0m \u001b[0mself\u001b[0m\u001b[1;33m.\u001b[0m\u001b[0mstride\u001b[0m\u001b[1;33m,\u001b[0m \u001b[0mself\u001b[0m\u001b[1;33m.\u001b[0m\u001b[0mpadding\u001b[0m\u001b[1;33m,\u001b[0m\u001b[1;33m\u001b[0m\u001b[1;33m\u001b[0m\u001b[0m\n\u001b[0;32m    925\u001b[0m             output_padding, self.groups, self.dilation)\n",
      "\u001b[1;31mKeyboardInterrupt\u001b[0m: "
     ]
    }
   ],
   "source": [
    "encoder,decoder,train_loss,test_loss = training_loop_sup(10,device,encoder,decoder,train_dataloader,test_dataloader,loss_fn,optim, classifierNet)"
   ]
  },
  {
   "cell_type": "markdown",
   "id": "df806f80",
   "metadata": {},
   "source": [
    "# Network analysis"
   ]
  },
  {
   "cell_type": "code",
   "execution_count": null,
   "id": "d56a1c99",
   "metadata": {},
   "outputs": [],
   "source": [
    "# losses plot\n",
    "f, ax = plt.subplots(figsize=(7, 7))\n",
    "sns.lineplot(x=np.arange(len(train_loss)),y=train_loss, label='Train loss', markers=True,  ax=ax)\n",
    "sns.lineplot(x=np.arange(len(val_loss)),y=val_loss, label='Validation loss',markers=True, ax=ax)\n",
    "\n",
    "ax.set_yscale(\"log\")\n",
    "\n",
    "plt.xlabel('Epoch')\n",
    "plt.ylabel('Loss')\n",
    "plt.legend()\n",
    "plt.show()"
   ]
  },
  {
   "cell_type": "code",
   "execution_count": null,
   "id": "2e18cd15",
   "metadata": {},
   "outputs": [],
   "source": [
    "### Get the encoded representation of the test samples\n",
    "encoded_samples = []\n",
    "for sample in tqdm(test_dataset):\n",
    "    img = sample[0].unsqueeze(0).to(device)\n",
    "    label = sample[1]\n",
    "    # Encode image\n",
    "    encoder.eval()\n",
    "    with torch.no_grad():\n",
    "        encoded_img  = encoder(img)\n",
    "    # Append to list\n",
    "    encoded_img = encoded_img.flatten().cpu().numpy()\n",
    "    encoded_sample = {f\"Enc. Variable {i}\": enc for i, enc in enumerate(encoded_img)}\n",
    "    encoded_sample['label'] = label\n",
    "    encoded_samples.append(encoded_sample)"
   ]
  },
  {
   "cell_type": "code",
   "execution_count": null,
   "id": "511b6c0e",
   "metadata": {},
   "outputs": [],
   "source": [
    "# Convert to a dataframe\n",
    "encoded_samples = pd.DataFrame(encoded_samples)\n",
    "encoded_samples"
   ]
  },
  {
   "cell_type": "code",
   "execution_count": null,
   "id": "ddecbe7f",
   "metadata": {},
   "outputs": [],
   "source": [
    "import plotly.express as px\n",
    "label_names=['t-shirt','trouser','pullover','dress','coat','sandal','shirt',\n",
    "             'sneaker','bag','boot']\n",
    "px.scatter(encoded_samples, x='Enc. Variable 0', y='Enc. Variable 1', color=[label_names[l] for l in encoded_samples.label.to_numpy()], opacity=0.7)"
   ]
  },
  {
   "cell_type": "code",
   "execution_count": null,
   "id": "3ed261d3",
   "metadata": {},
   "outputs": [],
   "source": [
    "if encoded_space_dim == 2:\n",
    "    # Generate a custom sample\n",
    "    custom_encoded_sample = [-6, -30.0]\n",
    "    encoded_value = torch.tensor(custom_encoded_sample).float().unsqueeze(0).to(device)\n",
    "\n",
    "    # Decode sample\n",
    "    decoder.eval()\n",
    "    with torch.no_grad():\n",
    "        generated_img  = decoder(encoded_value)\n",
    "\n",
    "    plt.figure(figsize=(12,10))\n",
    "    plt.imshow(generated_img.squeeze().cpu().numpy(), cmap='gist_gray')\n",
    "    plt.show()"
   ]
  },
  {
   "cell_type": "code",
   "execution_count": null,
   "id": "f6014fba",
   "metadata": {},
   "outputs": [],
   "source": [
    "from sklearn.manifold import TSNE\n",
    "\n",
    "tsne = TSNE(n_components=2)\n",
    "encoded_samples_reduced_TSNE = tsne.fit_transform(encoded_samples)\n",
    "plt.scatter(encoded_samples_reduced_TSNE[:,0], encoded_samples_reduced_TSNE[:,1], c=encoded_samples.label.to_numpy())"
   ]
  },
  {
   "cell_type": "code",
   "execution_count": null,
   "id": "b0679791",
   "metadata": {},
   "outputs": [],
   "source": [
    "from sklearn.decomposition import PCA\n",
    "\n",
    "pca = PCA(n_components=2)\n",
    "encoded_samples_reduced_PCA = pca.fit_transform(encoded_samples)\n",
    "encoded_samples_reduced_PCA"
   ]
  },
  {
   "cell_type": "code",
   "execution_count": null,
   "id": "8a52bfa6",
   "metadata": {},
   "outputs": [],
   "source": [
    "plt.scatter(encoded_samples_reduced_PCA[:,0], encoded_samples_reduced_PCA[:,1], c=encoded_samples.label.to_numpy())"
   ]
  },
  {
   "cell_type": "markdown",
   "id": "5be89501",
   "metadata": {},
   "source": [
    "# Variational Autoencoder"
   ]
  },
  {
   "cell_type": "code",
   "execution_count": 26,
   "id": "41fb9f4f",
   "metadata": {},
   "outputs": [],
   "source": [
    "encoder = Encoder(encoded_space_dim=4)\n",
    "decoder = Decoder(encoded_space_dim=2)\n",
    "loss_fn = torch.nn.MSELoss()"
   ]
  },
  {
   "cell_type": "code",
   "execution_count": 27,
   "id": "01024c23",
   "metadata": {},
   "outputs": [
    {
     "name": "stdout",
     "output_type": "stream",
     "text": [
      "EPOCH 1/10\n",
      "\n",
      "\n",
      "\t VALIDATION - EPOCH 1/10 - loss: 0.155250\n",
      "\n",
      "\n",
      "EPOCH 2/10\n",
      "\n",
      "\n",
      "\t VALIDATION - EPOCH 2/10 - loss: 0.155236\n",
      "\n",
      "\n",
      "EPOCH 3/10\n",
      "\n",
      "\n",
      "\t VALIDATION - EPOCH 3/10 - loss: 0.155263\n",
      "\n",
      "\n",
      "EPOCH 4/10\n",
      "\n",
      "\n",
      "\t VALIDATION - EPOCH 4/10 - loss: 0.155225\n",
      "\n",
      "\n",
      "EPOCH 5/10\n",
      "\n",
      "\n",
      "\t VALIDATION - EPOCH 5/10 - loss: 0.155191\n",
      "\n",
      "\n",
      "EPOCH 6/10\n",
      "\n",
      "\n",
      "\t VALIDATION - EPOCH 6/10 - loss: 0.155208\n",
      "\n",
      "\n",
      "EPOCH 7/10\n",
      "\n",
      "\n",
      "\t VALIDATION - EPOCH 7/10 - loss: 0.155244\n",
      "\n",
      "\n",
      "EPOCH 8/10\n",
      "\n",
      "\n",
      "\t VALIDATION - EPOCH 8/10 - loss: 0.155210\n",
      "\n",
      "\n",
      "EPOCH 9/10\n",
      "\n",
      "\n",
      "\t VALIDATION - EPOCH 9/10 - loss: 0.155222\n",
      "\n",
      "\n",
      "EPOCH 10/10\n",
      "\n",
      "\n",
      "\t VALIDATION - EPOCH 10/10 - loss: 0.155204\n",
      "\n",
      "\n"
     ]
    }
   ],
   "source": [
    "encoder,decoder,train_loss,test_loss = training_loop_autoenc(10,device,encoder,decoder,train_dataloader,test_dataloader,loss_fn,optim)"
   ]
  }
 ],
 "metadata": {
  "kernelspec": {
   "display_name": "Python 3",
   "language": "python",
   "name": "python3"
  },
  "language_info": {
   "codemirror_mode": {
    "name": "ipython",
    "version": 3
   },
   "file_extension": ".py",
   "mimetype": "text/x-python",
   "name": "python",
   "nbconvert_exporter": "python",
   "pygments_lexer": "ipython3",
   "version": "3.8.8"
  }
 },
 "nbformat": 4,
 "nbformat_minor": 5
}
