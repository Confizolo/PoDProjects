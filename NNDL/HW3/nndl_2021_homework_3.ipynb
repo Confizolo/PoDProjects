{
 "cells": [
  {
   "cell_type": "markdown",
   "id": "fc414240",
   "metadata": {
    "id": "-RW-LWJ2gbrh"
   },
   "source": [
    "#NEURAL NETWORKS AND DEEP LEARNING\n",
    "\n",
    "---\n",
    "A.A. 2021/22 (6 CFU) - Dr. Alberto Testolin, Dr. Umberto Michieli\n",
    "---\n",
    "\n",
    "\n",
    "## Lab. 06 - Reinforcement Learning\n",
    "\n",
    "Main reference: [Playing Atari with Deep Reinforcement Learning](https://www.cs.toronto.edu/~vmnih/docs/dqn.pdf)"
   ]
  }
 ],
 "metadata": {
  "language_info": {
   "name": "python"
  }
 },
 "nbformat": 4,
 "nbformat_minor": 5
}
