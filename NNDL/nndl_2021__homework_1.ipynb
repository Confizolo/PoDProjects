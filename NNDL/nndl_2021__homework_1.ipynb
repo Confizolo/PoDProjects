{
 "cells": [
  {
   "cell_type": "markdown",
   "metadata": {
    "id": "zYncZVOyF8Rb"
   },
   "source": [
    "# NEURAL NETWORKS AND DEEP LEARNING\n",
    "\n",
    "---\n",
    "A.A. 2021/22 (6 CFU) - Dr. Alberto Testolin, Dr. Umberto Michieli\n",
    "---\n"
   ]
  },
  {
   "cell_type": "markdown",
   "metadata": {
    "id": "AgHJFDwYvgHg"
   },
   "source": [
    "# Homework 1 - Supervised Deep Learning"
   ]
  },
  {
   "cell_type": "markdown",
   "metadata": {
    "id": "bNENm7RHGFMd"
   },
   "source": [
    "## General overview\n",
    "In this homework you will learn how to implement and test simple neural network models for solving supervised problems. It is divided in two tasks.\n",
    "\n",
    "* **Regression task**: \n",
    "the regression model will consist in a simple function approximation problem, similar to the one discussed during the Lab practices. \n",
    "\n",
    "* **Classification task**: \n",
    "the classification model will consist in a simple image recognition problem, where the goal is to correctly classify images of Zalando's article images (Fashion MNIST). \n",
    "\n",
    "In both cases, but especially for the classification problem, you should explore the use of advanced optimizers and regularization methods (e.g., initialization scheme, momentum, ADAM, early stopping, L2, L1 / sparsity, dropout…) to improve convergence of stochastic gradient descent and promote generalization. Learning hyperparameters should be tuned using appropriate search procedures, and final accuracy should be evaluated using a cross-validation setup. For the image classification task, you can also implement more advanced convolutional architectures and explore feature visualization techniques to better understand how the deep network is encoding information at different processing layers.\n"
   ]
  },
  {
   "cell_type": "markdown",
   "metadata": {
    "id": "bZGjMokMvk2h"
   },
   "source": [
    "\n",
    "## Technical notes\n",
    "The homework should be implemented in Python using the PyTorch framework. The student can explore additional libraries and tools to implement the models; however, please make sure you understand the code you are writing because during the exam you might receive specific questions related to your implementation. The entire source code required to run the homework must be uploaded as a compressed archive in a Moodle section dedicated to the homework.If your code will be entirely included in a single Python notebook, just upload the notebook file.\n",
    "\n"
   ]
  },
  {
   "cell_type": "markdown",
   "metadata": {
    "id": "UYZUBEMCvlpB"
   },
   "source": [
    "\n",
    "## Final report\n",
    "Along with the source code, you must separately upload a PDF file containing a brief report of your homework. The report should include a brief Introduction on which you explain the homework goals and the main implementation strategies you choose, a brief Method section where you describe your model architectures and hyperparameters, and a Result section where you present the simulation results. Total length should not exceed 6 pages, though you can include additional tables and figures in a final Appendix (optional). The report must be self-contained, so please make sure that all relevant results are explicitly included in the report / notebook.\n",
    "\n"
   ]
  },
  {
   "cell_type": "markdown",
   "metadata": {
    "id": "RchPc7G6vmRB"
   },
   "source": [
    "\n",
    "## Grade\n",
    "The maximum grade for this homework will be **8 points**. Points will be assigned based on the correct implementation of the following items:\n",
    "*\t2 pt: implement basic regression and classification tasks\n",
    "*\t2 pt: explore advanced optimizers and regularization methods (both tasks)\n",
    "*\t1 pt: optimize hyperparameters using grid/random search and cross-validation (both tasks)\n",
    "*\t2 pt: implement CNN for classification task\n",
    "*\t1 pt: visualize weight histograms, activation profiles and receptive fields\n"
   ]
  },
  {
   "cell_type": "markdown",
   "metadata": {
    "id": "LYE6Cjhgvm3B"
   },
   "source": [
    "\n",
    "## Deadline\n",
    "The complete homework (notebook or source code + report) must be submitted through Moodle at least 10 days before the chosen exam date.\n"
   ]
  },
  {
   "cell_type": "markdown",
   "metadata": {
    "id": "rZCClsi8vrYi"
   },
   "source": [
    "# Regression task"
   ]
  },
  {
   "cell_type": "markdown",
   "metadata": {
    "id": "pHeLKNYayXKO"
   },
   "source": [
    "## Guidelines"
   ]
  },
  {
   "cell_type": "markdown",
   "metadata": {
    "id": "zs0AM6W_yoMs"
   },
   "source": [
    "* The goal is to train a neural network to approximate an unknown function:\n",
    "$$ \n",
    "f:\\mathbb{R}→\\mathbb{R} \\\\\n",
    "x↦y=f(x) \\\\\n",
    "\\text{network}(x) \\approx f(x)\n",
    "$$\n",
    "* As training point, you only have noisy measures from the target function.\n",
    "$$\n",
    "\\hat{y} = f(x) + noise\n",
    "$$\n",
    "* Consider to create a validation set from you training data, or use a k-fold cross-validation strategy. You may find useful these functions from the `scikit-learn` library:\n",
    "    - [train_test_split](https://scikit-learn.org/stable/modules/generated/sklearn.model_selection.train_test_split.html)\n",
    "    - [KFold](https://scikit-learn.org/stable/modules/generated/sklearn.model_selection.KFold.html#sklearn.model_selection.KFold) "
   ]
  },
  {
   "cell_type": "markdown",
   "metadata": {
    "id": "JpHoPt5nyocz"
   },
   "source": [
    "## Dataset"
   ]
  },
  {
   "cell_type": "code",
   "execution_count": 1,
   "metadata": {
    "id": "3ViQh-gfzxNH"
   },
   "outputs": [],
   "source": [
    "import pandas as pd\n",
    "import matplotlib.pyplot as plt\n",
    "import torch\n",
    "import torch.nn as nn\n",
    "import torch.optim as optim\n",
    "import itertools\n",
    "import joblib\n",
    "from sklearn.model_selection import train_test_split\n",
    "from sklearn.model_selection import KFold\n",
    "from torch.utils.data import Dataset, DataLoader, TensorDataset\n",
    "import numpy as np\n",
    "from sklearn.model_selection import RandomizedSearchCV\n",
    "from skorch import NeuralNetRegressor\n",
    "from skorch import NeuralNetClassifier"
   ]
  },
  {
   "cell_type": "markdown",
   "metadata": {
    "id": "OjV_JeRcwrLC"
   },
   "source": [
    "The following cell of code will download the dataset and make it available in the local folder `regression_dataset`. There are two files:\n",
    "\n",
    "* `regression_dataset/train_data.csv`\n",
    "* `regression_dataset/test_data.csv`\n",
    "\n",
    "Use them to train and test your model. Each row contains two values, respactively the input and the target (label)."
   ]
  },
  {
   "cell_type": "code",
   "execution_count": 2,
   "metadata": {
    "colab": {
     "base_uri": "https://localhost:8080/"
    },
    "id": "QXCqDgEsvt96",
    "outputId": "e916e475-a824-4c00-f68e-6c859ea53b93"
   },
   "outputs": [
    {
     "name": "stderr",
     "output_type": "stream",
     "text": [
      "\"wget\" non � riconosciuto come comando interno o esterno,\n",
      " un programma eseguibile o un file batch.\n",
      "\"wget\" non � riconosciuto come comando interno o esterno,\n",
      " un programma eseguibile o un file batch.\n"
     ]
    }
   ],
   "source": [
    "!wget -P regression_dataset https://gitlab.dei.unipd.it/michieli/nnld-2021-22-lab-resources/-/raw/main/homework1/train_data.csv\n",
    "!wget -P regression_dataset https://gitlab.dei.unipd.it/michieli/nnld-2021-22-lab-resources/-/raw/main/homework1/test_data.csv "
   ]
  },
  {
   "cell_type": "markdown",
   "metadata": {
    "id": "FJRxVBksxsBw"
   },
   "source": [
    "How to load the data:"
   ]
  },
  {
   "cell_type": "code",
   "execution_count": 3,
   "metadata": {
    "id": "a-FdEP-JxwEu"
   },
   "outputs": [],
   "source": [
    "train_df = pd.read_csv('regression_dataset/train_data.csv')\n",
    "test_df = pd.read_csv('regression_dataset/test_data.csv')"
   ]
  },
  {
   "cell_type": "markdown",
   "metadata": {
    "id": "UgH9AOL8yAak"
   },
   "source": [
    "How to get a specific sample:"
   ]
  },
  {
   "cell_type": "code",
   "execution_count": 4,
   "metadata": {
    "colab": {
     "base_uri": "https://localhost:8080/"
    },
    "id": "Gz8mOEUcyJdw",
    "outputId": "7c74f02a-79f3-4bb2-dfd9-c43923651ef4"
   },
   "outputs": [
    {
     "name": "stdout",
     "output_type": "stream",
     "text": [
      "SAMPLE AT INDEX 0\n",
      "INPUT: -4.787870188090535\n",
      "LABEL: -1.216803599957529\n"
     ]
    }
   ],
   "source": [
    "sample_index = 0\n",
    "input = train_df.iloc[sample_index]['input']\n",
    "label = train_df.iloc[sample_index]['label']\n",
    "\n",
    "print(f\"SAMPLE AT INDEX {sample_index}\")\n",
    "print(f\"INPUT: {input}\")\n",
    "print(f\"LABEL: {label}\")"
   ]
  },
  {
   "cell_type": "markdown",
   "metadata": {
    "id": "o4FMs2rmzXps"
   },
   "source": [
    "All training points:"
   ]
  },
  {
   "cell_type": "code",
   "execution_count": 5,
   "metadata": {
    "colab": {
     "base_uri": "https://localhost:8080/",
     "height": 497
    },
    "id": "EXc_6w24zFEB",
    "outputId": "b4cef4b3-e5d7-4944-e598-64db5214e274",
    "scrolled": false
   },
   "outputs": [
    {
     "data": {
      "image/png": "[encoded data removed]",
      "text/plain": [
       "<Figure size 864x576 with 1 Axes>"
      ]
     },
     "metadata": {
      "needs_background": "light"
     },
     "output_type": "display_data"
    }
   ],
   "source": [
    "fig = plt.figure(figsize=(12,8))\n",
    "plt.scatter(train_df.input, train_df.label, label='Training points')\n",
    "plt.xlabel('input')\n",
    "plt.ylabel('label')\n",
    "plt.legend()\n",
    "plt.show()"
   ]
  },
  {
   "cell_type": "markdown",
   "metadata": {},
   "source": [
    "## Network definition"
   ]
  },
  {
   "cell_type": "code",
   "execution_count": 7,
   "metadata": {},
   "outputs": [],
   "source": [
    "class Net(nn.Module):\n",
    "    \"\"\"\n",
    "    Network with customizable set of hidden layers\n",
    "    \"\"\"\n",
    "    def __init__(self, N_in=1, N_hid=[10], N_out=1, act_func = nn.Sigmoid(), dropout = 0, act_output = False):\n",
    "        \"\"\"\n",
    "        Initialization function for the network\n",
    "        \n",
    "        Paramters\n",
    "        ----------\n",
    "        \n",
    "        N_in: Input layer size\n",
    "        N_out: Output layer size\n",
    "        N_hid: Array containing sizes of hidden layers\n",
    "        act_func: Activation function\n",
    "        dropout: Activate dropout between hidden layers\n",
    "        \n",
    "        \"\"\"\n",
    "        super(Net,self).__init__()\n",
    "        \n",
    "        self.N_in=N_in \n",
    "        self.N_hid=N_hid\n",
    "        self.N_out=N_out\n",
    "        self.act_func = act_func\n",
    "        self.dropout = dropout\n",
    "        self.act_output = act_output\n",
    "        \n",
    "        self.hid_layers = []\n",
    "        self.hid_layers.append(nn.Linear(in_features=N_in, out_features=N_hid[0]))\n",
    "        for i in range(1,len(N_hid)):\n",
    "            self.hid_layers.append(nn.Linear(in_features=N_hid[i-1], out_features=N_hid[i]))\n",
    "            \n",
    "        self.out_layer = nn.Linear(in_features=N_hid[-1], out_features=N_out)\n",
    "    \n",
    "        print('Network initialized')\n",
    "        \n",
    "    def forward(self, x):\n",
    "        for layer in self.hid_layers:\n",
    "            x = self.act_func(layer(x))\n",
    "            if self.dropout>0:\n",
    "                x = nn.Dropout(self.dropout)(x)\n",
    "  \n",
    "        x = self.out_layer(x)\n",
    "        \n",
    "        if self.act_output == True:\n",
    "            x = self.act_func(x)\n",
    "        return x"
   ]
  },
  {
   "cell_type": "markdown",
   "metadata": {},
   "source": [
    "## Network initialization"
   ]
  },
  {
   "cell_type": "code",
   "execution_count": 9,
   "metadata": {
    "scrolled": true
   },
   "outputs": [
    {
     "name": "stdout",
     "output_type": "stream",
     "text": [
      "Network initialized\n"
     ]
    }
   ],
   "source": [
    "torch.manual_seed(0)\n",
    "N_in = 1\n",
    "N_hid = [22,102]\n",
    "N_out = 1\n",
    "net = Net(N_in, N_hid, N_out,dropout=0.02, act_func=nn.ReLU())\n",
    "\n",
    "net_skorch = NeuralNetRegressor(\n",
    "            module=net,\n",
    "            module__N_in=N_in,\n",
    "            module__N_hid=N_hid,\n",
    "            module__N_out=N_out,\n",
    "            module__dropout=0,\n",
    "            module__act_func=nn.ReLU(),\n",
    "            module__act_output=False,\n",
    "            criterion= nn.MSELoss,\n",
    "            max_epochs=1000,\n",
    "            optimizer__lr = 0.28,\n",
    "            optimizer = optim.Adam,\n",
    "            criterion__reduction=\"mean\", \n",
    "            batch_size = 100,          \n",
    "            # train validation\n",
    "#            device='cuda',  # uncomment this to train with CUDA\n",
    ")"
   ]
  },
  {
   "cell_type": "markdown",
   "metadata": {},
   "source": [
    "## Observations \n",
    "Correct learning rate seems to be found between 1 and 0.01, since it allows to preserve training speed balanced with stability. Also it seems that ReLU works better than a Sigmoid with faster convergence while tanh seems to be comparable. Softmax instead has a worse effect on the overral result.\n",
    "\n",
    "Adam and SDG with momentum 0.9 seems to get the same result as Adam. Adagrad instead seems not as effective. RMSProp also is very instable and gives a very unstable path to convergence.\n",
    "\n",
    "L1Loss seems also to improve the result compared to MSELoss with the same learning rate. If we lower it a bit it seems that the convergence is improved a bit.\n",
    "\n",
    "In general by increasing the number of neurons the result is better, but up to a certain limit ([100,100] seems to be reasonable).\n",
    "\n",
    "Also the first layer seems not to be fundamental, while the largest effect is associated to the size of the second layer.\n",
    "\n",
    "Dropout instead has a bad effect on fitting, producing losses over two times the one seen in the best case\n",
    "\n",
    "Batch sizes must be higher than 10 in order to get a valid result. 100 seems to correspond to a good fit, since it defines the size of the full dataset."
   ]
  },
  {
   "cell_type": "markdown",
   "metadata": {},
   "source": [
    "## Dataset initialization"
   ]
  },
  {
   "cell_type": "code",
   "execution_count": 10,
   "metadata": {},
   "outputs": [],
   "source": [
    "input_data = torch.tensor(train_df[\"input\"].to_numpy().reshape([-1,1]),dtype=torch.float32)\n",
    "label_data =  torch.tensor(train_df[\"label\"].to_numpy().reshape([-1,1]), dtype=torch.float32)"
   ]
  },
  {
   "cell_type": "markdown",
   "metadata": {},
   "source": [
    "## Training"
   ]
  },
  {
   "cell_type": "code",
   "execution_count": 11,
   "metadata": {},
   "outputs": [
    {
     "name": "stdout",
     "output_type": "stream",
     "text": [
      "Re-initializing module because the following parameters were re-set: N_hid, N_in, N_out, act_func, act_output, dropout.\n",
      "Network initialized\n",
      "  epoch    train_loss    valid_loss     dur\n",
      "-------  ------------  ------------  ------\n",
      "      1       \u001b[36m10.2403\u001b[0m       \u001b[32m88.7178\u001b[0m  0.0623\n",
      "      2       68.4880       \u001b[32m22.1323\u001b[0m  0.0030\n",
      "      3       10.2989        \u001b[32m6.5097\u001b[0m  0.0048\n",
      "      4       12.8592       19.6571  0.0040\n",
      "      5       35.4284       12.1910  0.0030\n",
      "      6       22.6015        \u001b[32m3.9681\u001b[0m  0.0061\n",
      "      7        \u001b[36m3.8805\u001b[0m       13.1540  0.0040\n",
      "      8        5.4103       27.0708  0.0040\n",
      "      9       17.6090       25.9647  0.0040\n",
      "     10       18.4981       13.1943  0.0040\n",
      "     11        8.4343        4.0918  0.0029\n",
      "     12        \u001b[36m1.6994\u001b[0m        5.6033  0.0053\n",
      "     13        5.1471       10.5397  0.0041\n",
      "     14       11.3913       10.0076  0.0040\n",
      "     15       11.0550        5.2808  0.0039\n",
      "     16        5.2604        \u001b[32m3.4641\u001b[0m  0.0035\n",
      "     17        \u001b[36m1.6219\u001b[0m        7.3081  0.0040\n",
      "     18        3.7116       11.9668  0.0060\n",
      "     19        7.3667       11.8017  0.0038\n",
      "     20        7.2244        7.4027  0.0036\n",
      "     21        3.7622        3.7106  0.0056\n",
      "     22        \u001b[36m1.5357\u001b[0m        3.5782  0.0051\n",
      "     23        2.7922        5.0624  0.0029\n",
      "     24        4.9945        5.0582  0.0061\n",
      "     25        4.8336        3.6533  0.0033\n",
      "     26        2.6650        \u001b[32m3.3352\u001b[0m  0.0040\n",
      "     27        \u001b[36m1.4053\u001b[0m        5.0993  0.0046\n",
      "     28        2.3249        7.0167  0.0040\n",
      "     29        3.6207        6.9105  0.0054\n",
      "     30        3.2994        5.0936  0.0040\n",
      "     31        1.9014        3.5279  0.0030\n",
      "     32        \u001b[36m1.3532\u001b[0m        \u001b[32m3.1753\u001b[0m  0.0058\n",
      "     33        2.1213        3.2962  0.0040\n",
      "     34        2.7852        \u001b[32m3.1749\u001b[0m  0.0070\n",
      "     35        2.3134        3.2769  0.0038\n",
      "     36        1.4567        4.1943  0.0036\n",
      "     37        1.3983        5.3360  0.0060\n",
      "     38        1.9914        5.5266  0.0037\n",
      "     39        2.1742        4.5888  0.0073\n",
      "     40        1.6664        3.4976  0.0045\n",
      "     41        \u001b[36m1.2585\u001b[0m        \u001b[32m3.0250\u001b[0m  0.0031\n",
      "     42        1.4677        \u001b[32m2.9785\u001b[0m  0.0060\n",
      "     43        1.8035        \u001b[32m2.9455\u001b[0m  0.0044\n",
      "     44        1.6683        3.0734  0.0046\n",
      "     45        1.2888        3.6299  0.0027\n",
      "     46        \u001b[36m1.2354\u001b[0m        4.2630  0.0043\n",
      "     47        1.4815        4.3188  0.0050\n",
      "     48        1.5383        3.7356  0.0045\n",
      "     49        1.3018        3.0897  0.0045\n",
      "     50        \u001b[36m1.1566\u001b[0m        \u001b[32m2.7954\u001b[0m  0.0061\n",
      "     51        1.2796        \u001b[32m2.7377\u001b[0m  0.0030\n",
      "     52        1.3863        \u001b[32m2.7314\u001b[0m  0.0030\n",
      "     53        1.2689        2.8630  0.0052\n",
      "     54        \u001b[36m1.1258\u001b[0m        3.1825  0.0036\n",
      "     55        1.1665        3.4291  0.0030\n",
      "     56        1.2594        3.3422  0.0050\n",
      "     57        1.2086        3.0225  0.0043\n",
      "     58        \u001b[36m1.0966\u001b[0m        2.7548  0.0030\n",
      "     59        1.0976        \u001b[32m2.6449\u001b[0m  0.0044\n",
      "     60        1.1630        \u001b[32m2.6365\u001b[0m  0.0040\n",
      "     61        1.1418        2.7245  0.0026\n",
      "     62        \u001b[36m1.0608\u001b[0m        2.9158  0.0049\n",
      "     63        \u001b[36m1.0485\u001b[0m        3.0799  0.0040\n",
      "     64        1.0909        3.0566  0.0055\n",
      "     65        1.0799        2.8697  0.0040\n",
      "     66        \u001b[36m1.0227\u001b[0m        2.6813  0.0039\n",
      "     67        \u001b[36m1.0094\u001b[0m        \u001b[32m2.5865\u001b[0m  0.0058\n",
      "     68        1.0356        \u001b[32m2.5814\u001b[0m  0.0038\n",
      "     69        1.0263        2.6619  0.0047\n",
      "     70        \u001b[36m0.9853\u001b[0m        2.8067  0.0038\n",
      "     71        \u001b[36m0.9749\u001b[0m        2.9121  0.0035\n",
      "     72        0.9903        2.8757  0.0056\n",
      "     73        0.9795        2.7250  0.0040\n",
      "     74        \u001b[36m0.9493\u001b[0m        \u001b[32m2.5744\u001b[0m  0.0047\n",
      "     75        \u001b[36m0.9424\u001b[0m        \u001b[32m2.4932\u001b[0m  0.0034\n",
      "     76        0.9500        \u001b[32m2.4850\u001b[0m  0.0030\n",
      "     77        \u001b[36m0.9375\u001b[0m        2.5393  0.0061\n",
      "     78        \u001b[36m0.9153\u001b[0m        2.6233  0.0030\n",
      "     79        \u001b[36m0.9111\u001b[0m        2.6655  0.0050\n",
      "     80        0.9130        2.6189  0.0038\n",
      "     81        \u001b[36m0.8997\u001b[0m        2.5165  0.0035\n",
      "     82        \u001b[36m0.8837\u001b[0m        \u001b[32m2.4259\u001b[0m  0.0060\n",
      "     83        \u001b[36m0.8810\u001b[0m        \u001b[32m2.3828\u001b[0m  0.0038\n",
      "     84        \u001b[36m0.8786\u001b[0m        2.3890  0.0050\n",
      "     85        \u001b[36m0.8655\u001b[0m        2.4293  0.0040\n",
      "     86        \u001b[36m0.8542\u001b[0m        2.4664  0.0042\n",
      "     87        \u001b[36m0.8518\u001b[0m        2.4592  0.0053\n",
      "     88        \u001b[36m0.8461\u001b[0m        2.4040  0.0040\n",
      "     89        \u001b[36m0.8342\u001b[0m        \u001b[32m2.3374\u001b[0m  0.0041\n",
      "     90        \u001b[36m0.8264\u001b[0m        \u001b[32m2.2949\u001b[0m  0.0046\n",
      "     91        \u001b[36m0.8230\u001b[0m        \u001b[32m2.2886\u001b[0m  0.0041\n",
      "     92        \u001b[36m0.8154\u001b[0m        2.3125  0.0052\n",
      "     93        \u001b[36m0.8053\u001b[0m        2.3435  0.0040\n",
      "     94        \u001b[36m0.7996\u001b[0m        2.3491  0.0300\n",
      "     95        \u001b[36m0.7949\u001b[0m        2.3159  0.0039\n",
      "     96        \u001b[36m0.7865\u001b[0m        \u001b[32m2.2631\u001b[0m  0.0050\n",
      "     97        \u001b[36m0.7785\u001b[0m        \u001b[32m2.2204\u001b[0m  0.0029\n",
      "     98        \u001b[36m0.7736\u001b[0m        \u001b[32m2.2039\u001b[0m  0.0080\n",
      "     99        \u001b[36m0.7676\u001b[0m        2.2127  0.0048\n",
      "    100        \u001b[36m0.7596\u001b[0m        2.2320  0.0040\n",
      "    101        \u001b[36m0.7534\u001b[0m        2.2388  0.0033\n",
      "    102        \u001b[36m0.7483\u001b[0m        2.2188  0.0037\n",
      "    103        \u001b[36m0.7416\u001b[0m        \u001b[32m2.1803\u001b[0m  0.0050\n",
      "    104        \u001b[36m0.7346\u001b[0m        \u001b[32m2.1439\u001b[0m  0.0037\n",
      "    105        \u001b[36m0.7292\u001b[0m        \u001b[32m2.1240\u001b[0m  0.0056\n",
      "    106        \u001b[36m0.7236\u001b[0m        \u001b[32m2.1222\u001b[0m  0.0040\n",
      "    107        \u001b[36m0.7170\u001b[0m        2.1284  0.0048\n",
      "    108        \u001b[36m0.7110\u001b[0m        2.1272  0.0041\n",
      "    109        \u001b[36m0.7059\u001b[0m        \u001b[32m2.1093\u001b[0m  0.0041\n",
      "    110        \u001b[36m0.6999\u001b[0m        \u001b[32m2.0798\u001b[0m  0.0062\n",
      "    111        \u001b[36m0.6938\u001b[0m        \u001b[32m2.0523\u001b[0m  0.0040\n",
      "    112        \u001b[36m0.6886\u001b[0m        \u001b[32m2.0367\u001b[0m  0.0029\n",
      "    113        \u001b[36m0.6833\u001b[0m        \u001b[32m2.0336\u001b[0m  0.0030\n",
      "    114        \u001b[36m0.6775\u001b[0m        2.0351  0.0042\n",
      "    115        \u001b[36m0.6721\u001b[0m        \u001b[32m2.0301\u001b[0m  0.0064\n",
      "    116        \u001b[36m0.6670\u001b[0m        \u001b[32m2.0129\u001b[0m  0.0046\n",
      "    117        \u001b[36m0.6616\u001b[0m        \u001b[32m1.9883\u001b[0m  0.0030\n",
      "    118        \u001b[36m0.6563\u001b[0m        \u001b[32m1.9663\u001b[0m  0.0045\n",
      "    119        \u001b[36m0.6513\u001b[0m        \u001b[32m1.9538\u001b[0m  0.0030\n",
      "    120        \u001b[36m0.6463\u001b[0m        \u001b[32m1.9503\u001b[0m  0.0041\n",
      "    121        \u001b[36m0.6411\u001b[0m        \u001b[32m1.9492\u001b[0m  0.0040\n",
      "    122        \u001b[36m0.6362\u001b[0m        \u001b[32m1.9425\u001b[0m  0.0030\n",
      "    123        \u001b[36m0.6315\u001b[0m        \u001b[32m1.9270\u001b[0m  0.0060\n",
      "    124        \u001b[36m0.6265\u001b[0m        \u001b[32m1.9071\u001b[0m  0.0020\n",
      "    125        \u001b[36m0.6217\u001b[0m        \u001b[32m1.8898\u001b[0m  0.0055\n",
      "    126        \u001b[36m0.6171\u001b[0m        \u001b[32m1.8792\u001b[0m  0.0030\n",
      "    127        \u001b[36m0.6125\u001b[0m        \u001b[32m1.8739\u001b[0m  0.0030\n",
      "    128        \u001b[36m0.6078\u001b[0m        \u001b[32m1.8688\u001b[0m  0.0052\n",
      "    129        \u001b[36m0.6033\u001b[0m        \u001b[32m1.8587\u001b[0m  0.0037\n",
      "    130        \u001b[36m0.5989\u001b[0m        \u001b[32m1.8434\u001b[0m  0.0050\n",
      "    131        \u001b[36m0.5944\u001b[0m        \u001b[32m1.8267\u001b[0m  0.0030\n",
      "    132        \u001b[36m0.5901\u001b[0m        \u001b[32m1.8133\u001b[0m  0.0036\n",
      "    133        \u001b[36m0.5858\u001b[0m        \u001b[32m1.8046\u001b[0m  0.0040\n",
      "    134        \u001b[36m0.5815\u001b[0m        \u001b[32m1.7983\u001b[0m  0.0038\n",
      "    135        \u001b[36m0.5773\u001b[0m        \u001b[32m1.7901\u001b[0m  0.0050\n",
      "    136        \u001b[36m0.5732\u001b[0m        \u001b[32m1.7778\u001b[0m  0.0039\n",
      "    137        \u001b[36m0.5691\u001b[0m        \u001b[32m1.7627\u001b[0m  0.0050\n",
      "    138        \u001b[36m0.5651\u001b[0m        \u001b[32m1.7484\u001b[0m  0.0043\n",
      "    139        \u001b[36m0.5611\u001b[0m        \u001b[32m1.7376\u001b[0m  0.0046\n",
      "    140        \u001b[36m0.5572\u001b[0m        \u001b[32m1.7299\u001b[0m  0.0046\n",
      "    141        \u001b[36m0.5533\u001b[0m        \u001b[32m1.7228\u001b[0m  0.0049\n",
      "    142        \u001b[36m0.5495\u001b[0m        \u001b[32m1.7133\u001b[0m  0.0028\n",
      "    143        \u001b[36m0.5458\u001b[0m        \u001b[32m1.7009\u001b[0m  0.0060\n",
      "    144        \u001b[36m0.5420\u001b[0m        \u001b[32m1.6876\u001b[0m  0.0041\n",
      "    145        \u001b[36m0.5384\u001b[0m        \u001b[32m1.6759\u001b[0m  0.0073\n",
      "    146        \u001b[36m0.5348\u001b[0m        \u001b[32m1.6668\u001b[0m  0.0030\n",
      "    147        \u001b[36m0.5312\u001b[0m        \u001b[32m1.6591\u001b[0m  0.0048\n",
      "    148        \u001b[36m0.5277\u001b[0m        \u001b[32m1.6507\u001b[0m  0.0040\n",
      "    149        \u001b[36m0.5242\u001b[0m        \u001b[32m1.6402\u001b[0m  0.0030\n",
      "    150        \u001b[36m0.5208\u001b[0m        \u001b[32m1.6285\u001b[0m  0.0047\n",
      "    151        \u001b[36m0.5174\u001b[0m        \u001b[32m1.6173\u001b[0m  0.0040\n",
      "    152        \u001b[36m0.5141\u001b[0m        \u001b[32m1.6078\u001b[0m  0.0070\n",
      "    153        \u001b[36m0.5108\u001b[0m        \u001b[32m1.5996\u001b[0m  0.0042\n",
      "    154        \u001b[36m0.5075\u001b[0m        \u001b[32m1.5914\u001b[0m  0.0063\n",
      "    155        \u001b[36m0.5043\u001b[0m        \u001b[32m1.5817\u001b[0m  0.0046\n",
      "    156        \u001b[36m0.5012\u001b[0m        \u001b[32m1.5709\u001b[0m  0.0057\n",
      "    157        \u001b[36m0.4980\u001b[0m        \u001b[32m1.5601\u001b[0m  0.0029\n",
      "    158        \u001b[36m0.4950\u001b[0m        \u001b[32m1.5504\u001b[0m  0.0061\n",
      "    159        \u001b[36m0.4919\u001b[0m        \u001b[32m1.5421\u001b[0m  0.0039\n",
      "    160        \u001b[36m0.4890\u001b[0m        \u001b[32m1.5340\u001b[0m  0.0052\n",
      "    161        \u001b[36m0.4860\u001b[0m        \u001b[32m1.5251\u001b[0m  0.0033\n",
      "    162        \u001b[36m0.4831\u001b[0m        \u001b[32m1.5151\u001b[0m  0.0049\n",
      "    163        \u001b[36m0.4802\u001b[0m        \u001b[32m1.5049\u001b[0m  0.0040\n",
      "    164        \u001b[36m0.4774\u001b[0m        \u001b[32m1.4954\u001b[0m  0.0059\n",
      "    165        \u001b[36m0.4746\u001b[0m        \u001b[32m1.4869\u001b[0m  0.0050\n",
      "    166        \u001b[36m0.4719\u001b[0m        \u001b[32m1.4788\u001b[0m  0.0030\n",
      "    167        \u001b[36m0.4692\u001b[0m        \u001b[32m1.4704\u001b[0m  0.0040\n",
      "    168        \u001b[36m0.4665\u001b[0m        \u001b[32m1.4613\u001b[0m  0.0031\n",
      "    169        \u001b[36m0.4638\u001b[0m        \u001b[32m1.4519\u001b[0m  0.0043\n",
      "    170        \u001b[36m0.4612\u001b[0m        \u001b[32m1.4429\u001b[0m  0.0030\n",
      "    171        \u001b[36m0.4587\u001b[0m        \u001b[32m1.4346\u001b[0m  0.0065\n",
      "    172        \u001b[36m0.4561\u001b[0m        \u001b[32m1.4267\u001b[0m  0.0054\n",
      "    173        \u001b[36m0.4536\u001b[0m        \u001b[32m1.4185\u001b[0m  0.0040\n",
      "    174        \u001b[36m0.4512\u001b[0m        \u001b[32m1.4099\u001b[0m  0.0052\n",
      "    175        \u001b[36m0.4488\u001b[0m        \u001b[32m1.4011\u001b[0m  0.0048\n",
      "    176        \u001b[36m0.4464\u001b[0m        \u001b[32m1.3926\u001b[0m  0.0049\n",
      "    177        \u001b[36m0.4440\u001b[0m        \u001b[32m1.3846\u001b[0m  0.0033\n",
      "    178        \u001b[36m0.4417\u001b[0m        \u001b[32m1.3769\u001b[0m  0.0037\n",
      "    179        \u001b[36m0.4394\u001b[0m        \u001b[32m1.3691\u001b[0m  0.0039\n",
      "    180        \u001b[36m0.4371\u001b[0m        \u001b[32m1.3610\u001b[0m  0.0050\n",
      "    181        \u001b[36m0.4349\u001b[0m        \u001b[32m1.3526\u001b[0m  0.0040\n",
      "    182        \u001b[36m0.4327\u001b[0m        \u001b[32m1.3445\u001b[0m  0.0040\n",
      "    183        \u001b[36m0.4305\u001b[0m        \u001b[32m1.3368\u001b[0m  0.0060\n",
      "    184        \u001b[36m0.4284\u001b[0m        \u001b[32m1.3293\u001b[0m  0.0051\n",
      "    185        \u001b[36m0.4262\u001b[0m        \u001b[32m1.3218\u001b[0m  0.0040\n",
      "    186        \u001b[36m0.4242\u001b[0m        \u001b[32m1.3140\u001b[0m  0.0050\n",
      "    187        \u001b[36m0.4221\u001b[0m        \u001b[32m1.3062\u001b[0m  0.0050\n",
      "    188        \u001b[36m0.4201\u001b[0m        \u001b[32m1.2985\u001b[0m  0.0030\n",
      "    189        \u001b[36m0.4181\u001b[0m        \u001b[32m1.2911\u001b[0m  0.0035\n",
      "    190        \u001b[36m0.4161\u001b[0m        \u001b[32m1.2839\u001b[0m  0.0039\n",
      "    191        \u001b[36m0.4142\u001b[0m        \u001b[32m1.2767\u001b[0m  0.0030\n",
      "    192        \u001b[36m0.4122\u001b[0m        \u001b[32m1.2693\u001b[0m  0.0058\n",
      "    193        \u001b[36m0.4103\u001b[0m        \u001b[32m1.2619\u001b[0m  0.0040\n",
      "    194        \u001b[36m0.4085\u001b[0m        \u001b[32m1.2546\u001b[0m  0.0050\n",
      "    195        \u001b[36m0.4066\u001b[0m        \u001b[32m1.2476\u001b[0m  0.0040\n",
      "    196        \u001b[36m0.4048\u001b[0m        \u001b[32m1.2407\u001b[0m  0.0052\n",
      "    197        \u001b[36m0.4030\u001b[0m        \u001b[32m1.2338\u001b[0m  0.0047\n",
      "    198        \u001b[36m0.4012\u001b[0m        \u001b[32m1.2268\u001b[0m  0.0051\n",
      "    199        \u001b[36m0.3995\u001b[0m        \u001b[32m1.2197\u001b[0m  0.0038\n",
      "    200        \u001b[36m0.3978\u001b[0m        \u001b[32m1.2129\u001b[0m  0.0040\n",
      "    201        \u001b[36m0.3961\u001b[0m        \u001b[32m1.2062\u001b[0m  0.0040\n",
      "    202        \u001b[36m0.3944\u001b[0m        \u001b[32m1.1996\u001b[0m  0.0071\n",
      "    203        \u001b[36m0.3927\u001b[0m        \u001b[32m1.1930\u001b[0m  0.0038\n",
      "    204        \u001b[36m0.3911\u001b[0m        \u001b[32m1.1863\u001b[0m  0.0042\n",
      "    205        \u001b[36m0.3895\u001b[0m        \u001b[32m1.1797\u001b[0m  0.0029\n",
      "    206        \u001b[36m0.3879\u001b[0m        \u001b[32m1.1731\u001b[0m  0.0058\n",
      "    207        \u001b[36m0.3863\u001b[0m        \u001b[32m1.1668\u001b[0m  0.0040\n",
      "    208        \u001b[36m0.3848\u001b[0m        \u001b[32m1.1605\u001b[0m  0.0080\n",
      "    209        \u001b[36m0.3832\u001b[0m        \u001b[32m1.1541\u001b[0m  0.0040\n",
      "    210        \u001b[36m0.3817\u001b[0m        \u001b[32m1.1478\u001b[0m  0.0049\n",
      "    211        \u001b[36m0.3802\u001b[0m        \u001b[32m1.1415\u001b[0m  0.0042\n",
      "    212        \u001b[36m0.3788\u001b[0m        \u001b[32m1.1353\u001b[0m  0.0060\n",
      "    213        \u001b[36m0.3773\u001b[0m        \u001b[32m1.1293\u001b[0m  0.0045\n",
      "    214        \u001b[36m0.3759\u001b[0m        \u001b[32m1.1233\u001b[0m  0.0050\n",
      "    215        \u001b[36m0.3745\u001b[0m        \u001b[32m1.1172\u001b[0m  0.0044\n",
      "    216        \u001b[36m0.3731\u001b[0m        \u001b[32m1.1112\u001b[0m  0.0048\n",
      "    217        \u001b[36m0.3717\u001b[0m        \u001b[32m1.1053\u001b[0m  0.0040\n",
      "    218        \u001b[36m0.3703\u001b[0m        \u001b[32m1.0994\u001b[0m  0.0048\n",
      "    219        \u001b[36m0.3690\u001b[0m        \u001b[32m1.0936\u001b[0m  0.0030\n",
      "    220        \u001b[36m0.3677\u001b[0m        \u001b[32m1.0879\u001b[0m  0.0046\n",
      "    221        \u001b[36m0.3664\u001b[0m        \u001b[32m1.0822\u001b[0m  0.0031\n",
      "    222        \u001b[36m0.3651\u001b[0m        \u001b[32m1.0765\u001b[0m  0.0052\n",
      "    223        \u001b[36m0.3638\u001b[0m        \u001b[32m1.0709\u001b[0m  0.0030\n",
      "    224        \u001b[36m0.3625\u001b[0m        \u001b[32m1.0653\u001b[0m  0.0050\n",
      "    225        \u001b[36m0.3613\u001b[0m        \u001b[32m1.0598\u001b[0m  0.0040\n",
      "    226        \u001b[36m0.3601\u001b[0m        \u001b[32m1.0544\u001b[0m  0.0050\n",
      "    227        \u001b[36m0.3588\u001b[0m        \u001b[32m1.0489\u001b[0m  0.0043\n",
      "    228        \u001b[36m0.3576\u001b[0m        \u001b[32m1.0435\u001b[0m  0.0029\n",
      "    229        \u001b[36m0.3565\u001b[0m        \u001b[32m1.0382\u001b[0m  0.0048\n",
      "    230        \u001b[36m0.3553\u001b[0m        \u001b[32m1.0330\u001b[0m  0.0035\n",
      "    231        \u001b[36m0.3541\u001b[0m        \u001b[32m1.0278\u001b[0m  0.0044\n",
      "    232        \u001b[36m0.3530\u001b[0m        \u001b[32m1.0226\u001b[0m  0.0039\n",
      "    233        \u001b[36m0.3519\u001b[0m        \u001b[32m1.0174\u001b[0m  0.0051\n",
      "    234        \u001b[36m0.3507\u001b[0m        \u001b[32m1.0123\u001b[0m  0.0031\n",
      "    235        \u001b[36m0.3496\u001b[0m        \u001b[32m1.0072\u001b[0m  0.0060\n",
      "    236        \u001b[36m0.3486\u001b[0m        \u001b[32m1.0023\u001b[0m  0.0035\n",
      "    237        \u001b[36m0.3475\u001b[0m        \u001b[32m0.9973\u001b[0m  0.0060\n",
      "    238        \u001b[36m0.3464\u001b[0m        \u001b[32m0.9924\u001b[0m  0.0030\n",
      "    239        \u001b[36m0.3454\u001b[0m        \u001b[32m0.9875\u001b[0m  0.0060\n",
      "    240        \u001b[36m0.3443\u001b[0m        \u001b[32m0.9827\u001b[0m  0.0040\n",
      "    241        \u001b[36m0.3433\u001b[0m        \u001b[32m0.9779\u001b[0m  0.0068\n",
      "    242        \u001b[36m0.3423\u001b[0m        \u001b[32m0.9732\u001b[0m  0.0037\n",
      "    243        \u001b[36m0.3413\u001b[0m        \u001b[32m0.9685\u001b[0m  0.0050\n",
      "    244        \u001b[36m0.3403\u001b[0m        \u001b[32m0.9638\u001b[0m  0.0039\n",
      "    245        \u001b[36m0.3393\u001b[0m        \u001b[32m0.9592\u001b[0m  0.0060\n",
      "    246        \u001b[36m0.3384\u001b[0m        \u001b[32m0.9546\u001b[0m  0.0040\n",
      "    247        \u001b[36m0.3374\u001b[0m        \u001b[32m0.9501\u001b[0m  0.0052\n",
      "    248        \u001b[36m0.3365\u001b[0m        \u001b[32m0.9456\u001b[0m  0.0030\n",
      "    249        \u001b[36m0.3355\u001b[0m        \u001b[32m0.9411\u001b[0m  0.0055\n",
      "    250        \u001b[36m0.3346\u001b[0m        \u001b[32m0.9367\u001b[0m  0.0047\n",
      "    251        \u001b[36m0.3337\u001b[0m        \u001b[32m0.9323\u001b[0m  0.0043\n",
      "    252        \u001b[36m0.3328\u001b[0m        \u001b[32m0.9280\u001b[0m  0.0040\n",
      "    253        \u001b[36m0.3319\u001b[0m        \u001b[32m0.9237\u001b[0m  0.0049\n",
      "    254        \u001b[36m0.3310\u001b[0m        \u001b[32m0.9194\u001b[0m  0.0047\n",
      "    255        \u001b[36m0.3302\u001b[0m        \u001b[32m0.9152\u001b[0m  0.0043\n",
      "    256        \u001b[36m0.3293\u001b[0m        \u001b[32m0.9110\u001b[0m  0.0061\n",
      "    257        \u001b[36m0.3284\u001b[0m        \u001b[32m0.9069\u001b[0m  0.0030\n",
      "    258        \u001b[36m0.3276\u001b[0m        \u001b[32m0.9028\u001b[0m  0.0065\n",
      "    259        \u001b[36m0.3268\u001b[0m        \u001b[32m0.8987\u001b[0m  0.0042\n",
      "    260        \u001b[36m0.3259\u001b[0m        \u001b[32m0.8947\u001b[0m  0.0040\n",
      "    261        \u001b[36m0.3251\u001b[0m        \u001b[32m0.8907\u001b[0m  0.0035\n",
      "    262        \u001b[36m0.3243\u001b[0m        \u001b[32m0.8868\u001b[0m  0.0038\n",
      "    263        \u001b[36m0.3235\u001b[0m        \u001b[32m0.8828\u001b[0m  0.0057\n",
      "    264        \u001b[36m0.3227\u001b[0m        \u001b[32m0.8790\u001b[0m  0.0030\n",
      "    265        \u001b[36m0.3220\u001b[0m        \u001b[32m0.8751\u001b[0m  0.0050\n",
      "    266        \u001b[36m0.3212\u001b[0m        \u001b[32m0.8713\u001b[0m  0.0040\n",
      "    267        \u001b[36m0.3204\u001b[0m        \u001b[32m0.8675\u001b[0m  0.0093\n",
      "    268        \u001b[36m0.3197\u001b[0m        \u001b[32m0.8638\u001b[0m  0.0041\n",
      "    269        \u001b[36m0.3189\u001b[0m        \u001b[32m0.8601\u001b[0m  0.0045\n",
      "    270        \u001b[36m0.3182\u001b[0m        \u001b[32m0.8564\u001b[0m  0.0050\n",
      "    271        \u001b[36m0.3174\u001b[0m        \u001b[32m0.8528\u001b[0m  0.0031\n",
      "    272        \u001b[36m0.3167\u001b[0m        \u001b[32m0.8492\u001b[0m  0.0030\n",
      "    273        \u001b[36m0.3160\u001b[0m        \u001b[32m0.8456\u001b[0m  0.0038\n",
      "    274        \u001b[36m0.3153\u001b[0m        \u001b[32m0.8421\u001b[0m  0.0040\n",
      "    275        \u001b[36m0.3146\u001b[0m        \u001b[32m0.8386\u001b[0m  0.0031\n",
      "    276        \u001b[36m0.3139\u001b[0m        \u001b[32m0.8351\u001b[0m  0.0030\n",
      "    277        \u001b[36m0.3132\u001b[0m        \u001b[32m0.8316\u001b[0m  0.0040\n",
      "    278        \u001b[36m0.3125\u001b[0m        \u001b[32m0.8282\u001b[0m  0.0030\n",
      "    279        \u001b[36m0.3118\u001b[0m        \u001b[32m0.8249\u001b[0m  0.0050\n",
      "    280        \u001b[36m0.3112\u001b[0m        \u001b[32m0.8215\u001b[0m  0.0040\n",
      "    281        \u001b[36m0.3105\u001b[0m        \u001b[32m0.8182\u001b[0m  0.0050\n",
      "    282        \u001b[36m0.3099\u001b[0m        \u001b[32m0.8149\u001b[0m  0.0041\n",
      "    283        \u001b[36m0.3092\u001b[0m        \u001b[32m0.8117\u001b[0m  0.0040\n",
      "    284        \u001b[36m0.3086\u001b[0m        \u001b[32m0.8084\u001b[0m  0.0031\n",
      "    285        \u001b[36m0.3079\u001b[0m        \u001b[32m0.8053\u001b[0m  0.0060\n",
      "    286        \u001b[36m0.3073\u001b[0m        \u001b[32m0.8021\u001b[0m  0.0040\n",
      "    287        \u001b[36m0.3067\u001b[0m        \u001b[32m0.7990\u001b[0m  0.0061\n",
      "    288        \u001b[36m0.3061\u001b[0m        \u001b[32m0.7959\u001b[0m  0.0032\n",
      "    289        \u001b[36m0.3055\u001b[0m        \u001b[32m0.7928\u001b[0m  0.0055\n",
      "    290        \u001b[36m0.3049\u001b[0m        \u001b[32m0.7897\u001b[0m  0.0030\n",
      "    291        \u001b[36m0.3043\u001b[0m        \u001b[32m0.7867\u001b[0m  0.0055\n",
      "    292        \u001b[36m0.3037\u001b[0m        \u001b[32m0.7837\u001b[0m  0.0036\n",
      "    293        \u001b[36m0.3031\u001b[0m        \u001b[32m0.7808\u001b[0m  0.0047\n",
      "    294        \u001b[36m0.3025\u001b[0m        \u001b[32m0.7779\u001b[0m  0.0036\n",
      "    295        \u001b[36m0.3019\u001b[0m        \u001b[32m0.7749\u001b[0m  0.0036\n",
      "    296        \u001b[36m0.3014\u001b[0m        \u001b[32m0.7721\u001b[0m  0.0036\n",
      "    297        \u001b[36m0.3008\u001b[0m        \u001b[32m0.7692\u001b[0m  0.0038\n",
      "    298        \u001b[36m0.3002\u001b[0m        \u001b[32m0.7664\u001b[0m  0.0040\n",
      "    299        \u001b[36m0.2997\u001b[0m        \u001b[32m0.7636\u001b[0m  0.0034\n",
      "    300        \u001b[36m0.2991\u001b[0m        \u001b[32m0.7608\u001b[0m  0.0040\n",
      "    301        \u001b[36m0.2986\u001b[0m        \u001b[32m0.7581\u001b[0m  0.0030\n",
      "    302        \u001b[36m0.2980\u001b[0m        \u001b[32m0.7554\u001b[0m  0.0035\n",
      "    303        \u001b[36m0.2975\u001b[0m        \u001b[32m0.7527\u001b[0m  0.0026\n",
      "    304        \u001b[36m0.2970\u001b[0m        \u001b[32m0.7500\u001b[0m  0.0036\n",
      "    305        \u001b[36m0.2964\u001b[0m        \u001b[32m0.7474\u001b[0m  0.0146\n",
      "    306        \u001b[36m0.2959\u001b[0m        \u001b[32m0.7448\u001b[0m  0.0046\n",
      "    307        \u001b[36m0.2954\u001b[0m        \u001b[32m0.7422\u001b[0m  0.0053\n",
      "    308        \u001b[36m0.2949\u001b[0m        \u001b[32m0.7396\u001b[0m  0.0041\n",
      "    309        \u001b[36m0.2944\u001b[0m        \u001b[32m0.7371\u001b[0m  0.0040\n",
      "    310        \u001b[36m0.2939\u001b[0m        \u001b[32m0.7346\u001b[0m  0.0041\n",
      "    311        \u001b[36m0.2934\u001b[0m        \u001b[32m0.7321\u001b[0m  0.0049\n",
      "    312        \u001b[36m0.2929\u001b[0m        \u001b[32m0.7296\u001b[0m  0.0040\n",
      "    313        \u001b[36m0.2924\u001b[0m        \u001b[32m0.7272\u001b[0m  0.0050\n",
      "    314        \u001b[36m0.2919\u001b[0m        \u001b[32m0.7248\u001b[0m  0.0040\n",
      "    315        \u001b[36m0.2914\u001b[0m        \u001b[32m0.7224\u001b[0m  0.0055\n",
      "    316        \u001b[36m0.2910\u001b[0m        \u001b[32m0.7200\u001b[0m  0.0040\n",
      "    317        \u001b[36m0.2905\u001b[0m        \u001b[32m0.7176\u001b[0m  0.0054\n",
      "    318        \u001b[36m0.2900\u001b[0m        \u001b[32m0.7153\u001b[0m  0.0035\n",
      "    319        \u001b[36m0.2896\u001b[0m        \u001b[32m0.7130\u001b[0m  0.0041\n",
      "    320        \u001b[36m0.2891\u001b[0m        \u001b[32m0.7107\u001b[0m  0.0040\n",
      "    321        \u001b[36m0.2886\u001b[0m        \u001b[32m0.7085\u001b[0m  0.0040\n",
      "    322        \u001b[36m0.2882\u001b[0m        \u001b[32m0.7062\u001b[0m  0.0030\n",
      "    323        \u001b[36m0.2877\u001b[0m        \u001b[32m0.7040\u001b[0m  0.0047\n",
      "    324        \u001b[36m0.2873\u001b[0m        \u001b[32m0.7018\u001b[0m  0.0300\n",
      "    325        \u001b[36m0.2869\u001b[0m        \u001b[32m0.6996\u001b[0m  0.0071\n",
      "    326        \u001b[36m0.2864\u001b[0m        \u001b[32m0.6975\u001b[0m  0.0039\n",
      "    327        \u001b[36m0.2860\u001b[0m        \u001b[32m0.6954\u001b[0m  0.0060\n",
      "    328        \u001b[36m0.2856\u001b[0m        \u001b[32m0.6932\u001b[0m  0.0050\n",
      "    329        \u001b[36m0.2851\u001b[0m        \u001b[32m0.6911\u001b[0m  0.0040\n",
      "    330        \u001b[36m0.2847\u001b[0m        \u001b[32m0.6891\u001b[0m  0.0050\n",
      "    331        \u001b[36m0.2843\u001b[0m        \u001b[32m0.6870\u001b[0m  0.0050\n",
      "    332        \u001b[36m0.2839\u001b[0m        \u001b[32m0.6850\u001b[0m  0.0040\n",
      "    333        \u001b[36m0.2835\u001b[0m        \u001b[32m0.6830\u001b[0m  0.0115\n",
      "    334        \u001b[36m0.2830\u001b[0m        \u001b[32m0.6810\u001b[0m  0.0030\n",
      "    335        \u001b[36m0.2826\u001b[0m        \u001b[32m0.6790\u001b[0m  0.0040\n",
      "    336        \u001b[36m0.2822\u001b[0m        \u001b[32m0.6771\u001b[0m  0.0030\n",
      "    337        \u001b[36m0.2818\u001b[0m        \u001b[32m0.6751\u001b[0m  0.0046\n",
      "    338        \u001b[36m0.2814\u001b[0m        \u001b[32m0.6732\u001b[0m  0.0030\n",
      "    339        \u001b[36m0.2810\u001b[0m        \u001b[32m0.6713\u001b[0m  0.0050\n",
      "    340        \u001b[36m0.2806\u001b[0m        \u001b[32m0.6694\u001b[0m  0.0041\n",
      "    341        \u001b[36m0.2803\u001b[0m        \u001b[32m0.6676\u001b[0m  0.0052\n",
      "    342        \u001b[36m0.2799\u001b[0m        \u001b[32m0.6657\u001b[0m  0.0035\n",
      "    343        \u001b[36m0.2795\u001b[0m        \u001b[32m0.6639\u001b[0m  0.0037\n",
      "    344        \u001b[36m0.2791\u001b[0m        \u001b[32m0.6621\u001b[0m  0.0030\n",
      "    345        \u001b[36m0.2787\u001b[0m        \u001b[32m0.6603\u001b[0m  0.0043\n",
      "    346        \u001b[36m0.2783\u001b[0m        \u001b[32m0.6585\u001b[0m  0.0030\n",
      "    347        \u001b[36m0.2780\u001b[0m        \u001b[32m0.6568\u001b[0m  0.0044\n",
      "    348        \u001b[36m0.2776\u001b[0m        \u001b[32m0.6551\u001b[0m  0.0031\n",
      "    349        \u001b[36m0.2772\u001b[0m        \u001b[32m0.6533\u001b[0m  0.0030\n",
      "    350        \u001b[36m0.2769\u001b[0m        \u001b[32m0.6516\u001b[0m  0.0040\n",
      "    351        \u001b[36m0.2765\u001b[0m        \u001b[32m0.6499\u001b[0m  0.0040\n",
      "    352        \u001b[36m0.2762\u001b[0m        \u001b[32m0.6483\u001b[0m  0.0040\n",
      "    353        \u001b[36m0.2758\u001b[0m        \u001b[32m0.6466\u001b[0m  0.0027\n",
      "    354        \u001b[36m0.2754\u001b[0m        \u001b[32m0.6450\u001b[0m  0.0041\n",
      "    355        \u001b[36m0.2751\u001b[0m        \u001b[32m0.6434\u001b[0m  0.0048\n",
      "    356        \u001b[36m0.2747\u001b[0m        \u001b[32m0.6418\u001b[0m  0.0043\n",
      "    357        \u001b[36m0.2744\u001b[0m        \u001b[32m0.6402\u001b[0m  0.0050\n",
      "    358        \u001b[36m0.2741\u001b[0m        \u001b[32m0.6386\u001b[0m  0.0040\n",
      "    359        \u001b[36m0.2737\u001b[0m        \u001b[32m0.6370\u001b[0m  0.0050\n",
      "    360        \u001b[36m0.2734\u001b[0m        \u001b[32m0.6355\u001b[0m  0.0039\n",
      "    361        \u001b[36m0.2730\u001b[0m        \u001b[32m0.6340\u001b[0m  0.0040\n",
      "    362        \u001b[36m0.2727\u001b[0m        \u001b[32m0.6324\u001b[0m  0.0045\n",
      "    363        \u001b[36m0.2724\u001b[0m        \u001b[32m0.6309\u001b[0m  0.0039\n",
      "    364        \u001b[36m0.2720\u001b[0m        \u001b[32m0.6295\u001b[0m  0.0030\n",
      "    365        \u001b[36m0.2717\u001b[0m        \u001b[32m0.6280\u001b[0m  0.0065\n",
      "    366        \u001b[36m0.2714\u001b[0m        \u001b[32m0.6265\u001b[0m  0.0028\n",
      "    367        \u001b[36m0.2711\u001b[0m        \u001b[32m0.6251\u001b[0m  0.0055\n",
      "    368        \u001b[36m0.2707\u001b[0m        \u001b[32m0.6237\u001b[0m  0.0035\n",
      "    369        \u001b[36m0.2704\u001b[0m        \u001b[32m0.6223\u001b[0m  0.0044\n",
      "    370        \u001b[36m0.2701\u001b[0m        \u001b[32m0.6209\u001b[0m  0.0060\n",
      "    371        \u001b[36m0.2698\u001b[0m        \u001b[32m0.6195\u001b[0m  0.0083\n",
      "    372        \u001b[36m0.2695\u001b[0m        \u001b[32m0.6181\u001b[0m  0.0042\n",
      "    373        \u001b[36m0.2692\u001b[0m        \u001b[32m0.6168\u001b[0m  0.0043\n",
      "    374        \u001b[36m0.2689\u001b[0m        \u001b[32m0.6154\u001b[0m  0.0055\n",
      "    375        \u001b[36m0.2685\u001b[0m        \u001b[32m0.6141\u001b[0m  0.0040\n",
      "    376        \u001b[36m0.2682\u001b[0m        \u001b[32m0.6128\u001b[0m  0.0050\n",
      "    377        \u001b[36m0.2679\u001b[0m        \u001b[32m0.6115\u001b[0m  0.0089\n",
      "    378        \u001b[36m0.2676\u001b[0m        \u001b[32m0.6102\u001b[0m  0.0046\n",
      "    379        \u001b[36m0.2673\u001b[0m        \u001b[32m0.6089\u001b[0m  0.0036\n",
      "    380        \u001b[36m0.2670\u001b[0m        \u001b[32m0.6076\u001b[0m  0.0047\n",
      "    381        \u001b[36m0.2667\u001b[0m        \u001b[32m0.6064\u001b[0m  0.0040\n",
      "    382        \u001b[36m0.2664\u001b[0m        \u001b[32m0.6051\u001b[0m  0.0052\n",
      "    383        \u001b[36m0.2661\u001b[0m        \u001b[32m0.6039\u001b[0m  0.0140\n",
      "    384        \u001b[36m0.2659\u001b[0m        \u001b[32m0.6027\u001b[0m  0.0050\n",
      "    385        \u001b[36m0.2656\u001b[0m        \u001b[32m0.6015\u001b[0m  0.0029\n",
      "    386        \u001b[36m0.2653\u001b[0m        \u001b[32m0.6003\u001b[0m  0.0052\n",
      "    387        \u001b[36m0.2650\u001b[0m        \u001b[32m0.5991\u001b[0m  0.0030\n",
      "    388        \u001b[36m0.2647\u001b[0m        \u001b[32m0.5979\u001b[0m  0.0058\n",
      "    389        \u001b[36m0.2644\u001b[0m        \u001b[32m0.5968\u001b[0m  0.0059\n",
      "    390        \u001b[36m0.2641\u001b[0m        \u001b[32m0.5956\u001b[0m  0.0026\n",
      "    391        \u001b[36m0.2639\u001b[0m        \u001b[32m0.5945\u001b[0m  0.0040\n",
      "    392        \u001b[36m0.2636\u001b[0m        \u001b[32m0.5934\u001b[0m  0.0038\n",
      "    393        \u001b[36m0.2633\u001b[0m        \u001b[32m0.5923\u001b[0m  0.0040\n",
      "    394        \u001b[36m0.2630\u001b[0m        \u001b[32m0.5912\u001b[0m  0.0040\n",
      "    395        \u001b[36m0.2628\u001b[0m        \u001b[32m0.5901\u001b[0m  0.0029\n",
      "    396        \u001b[36m0.2625\u001b[0m        \u001b[32m0.5890\u001b[0m  0.0035\n",
      "    397        \u001b[36m0.2622\u001b[0m        \u001b[32m0.5879\u001b[0m  0.0040\n",
      "    398        \u001b[36m0.2619\u001b[0m        \u001b[32m0.5869\u001b[0m  0.0050\n",
      "    399        \u001b[36m0.2617\u001b[0m        \u001b[32m0.5858\u001b[0m  0.0041\n",
      "    400        \u001b[36m0.2614\u001b[0m        \u001b[32m0.5848\u001b[0m  0.0044\n",
      "    401        \u001b[36m0.2611\u001b[0m        \u001b[32m0.5837\u001b[0m  0.0037\n",
      "    402        \u001b[36m0.2609\u001b[0m        \u001b[32m0.5827\u001b[0m  0.0044\n",
      "    403        \u001b[36m0.2606\u001b[0m        \u001b[32m0.5817\u001b[0m  0.0038\n",
      "    404        \u001b[36m0.2604\u001b[0m        \u001b[32m0.5807\u001b[0m  0.0038\n",
      "    405        \u001b[36m0.2601\u001b[0m        \u001b[32m0.5797\u001b[0m  0.0040\n",
      "    406        \u001b[36m0.2598\u001b[0m        \u001b[32m0.5788\u001b[0m  0.0040\n",
      "    407        \u001b[36m0.2596\u001b[0m        \u001b[32m0.5778\u001b[0m  0.0040\n",
      "    408        \u001b[36m0.2593\u001b[0m        \u001b[32m0.5768\u001b[0m  0.0094\n",
      "    409        \u001b[36m0.2591\u001b[0m        \u001b[32m0.5759\u001b[0m  0.0039\n",
      "    410        \u001b[36m0.2588\u001b[0m        \u001b[32m0.5749\u001b[0m  0.0047\n",
      "    411        \u001b[36m0.2586\u001b[0m        \u001b[32m0.5740\u001b[0m  0.0040\n",
      "    412        \u001b[36m0.2583\u001b[0m        \u001b[32m0.5731\u001b[0m  0.0058\n",
      "    413        \u001b[36m0.2581\u001b[0m        \u001b[32m0.5722\u001b[0m  0.0038\n",
      "    414        \u001b[36m0.2578\u001b[0m        \u001b[32m0.5713\u001b[0m  0.0030\n",
      "    415        \u001b[36m0.2576\u001b[0m        \u001b[32m0.5704\u001b[0m  0.0030\n",
      "    416        \u001b[36m0.2573\u001b[0m        \u001b[32m0.5695\u001b[0m  0.0040\n",
      "    417        \u001b[36m0.2571\u001b[0m        \u001b[32m0.5686\u001b[0m  0.0040\n",
      "    418        \u001b[36m0.2568\u001b[0m        \u001b[32m0.5678\u001b[0m  0.0028\n",
      "    419        \u001b[36m0.2566\u001b[0m        \u001b[32m0.5669\u001b[0m  0.0040\n",
      "    420        \u001b[36m0.2563\u001b[0m        \u001b[32m0.5660\u001b[0m  0.0030\n",
      "    421        \u001b[36m0.2561\u001b[0m        \u001b[32m0.5652\u001b[0m  0.0040\n",
      "    422        \u001b[36m0.2559\u001b[0m        \u001b[32m0.5644\u001b[0m  0.0040\n",
      "    423        \u001b[36m0.2556\u001b[0m        \u001b[32m0.5635\u001b[0m  0.0040\n",
      "    424        \u001b[36m0.2554\u001b[0m        \u001b[32m0.5627\u001b[0m  0.0040\n",
      "    425        \u001b[36m0.2551\u001b[0m        \u001b[32m0.5619\u001b[0m  0.0040\n",
      "    426        \u001b[36m0.2549\u001b[0m        \u001b[32m0.5611\u001b[0m  0.0038\n",
      "    427        \u001b[36m0.2547\u001b[0m        \u001b[32m0.5603\u001b[0m  0.0040\n",
      "    428        \u001b[36m0.2544\u001b[0m        \u001b[32m0.5595\u001b[0m  0.0040\n",
      "    429        \u001b[36m0.2542\u001b[0m        \u001b[32m0.5588\u001b[0m  0.0038\n",
      "    430        \u001b[36m0.2540\u001b[0m        \u001b[32m0.5580\u001b[0m  0.0038\n",
      "    431        \u001b[36m0.2537\u001b[0m        \u001b[32m0.5572\u001b[0m  0.0043\n",
      "    432        \u001b[36m0.2535\u001b[0m        \u001b[32m0.5565\u001b[0m  0.0040\n",
      "    433        \u001b[36m0.2533\u001b[0m        \u001b[32m0.5557\u001b[0m  0.0040\n",
      "    434        \u001b[36m0.2531\u001b[0m        \u001b[32m0.5550\u001b[0m  0.0030\n",
      "    435        \u001b[36m0.2528\u001b[0m        \u001b[32m0.5542\u001b[0m  0.0040\n",
      "    436        \u001b[36m0.2526\u001b[0m        \u001b[32m0.5535\u001b[0m  0.0040\n",
      "    437        \u001b[36m0.2524\u001b[0m        \u001b[32m0.5528\u001b[0m  0.0043\n",
      "    438        \u001b[36m0.2522\u001b[0m        \u001b[32m0.5521\u001b[0m  0.0050\n",
      "    439        \u001b[36m0.2519\u001b[0m        \u001b[32m0.5514\u001b[0m  0.0041\n",
      "    440        \u001b[36m0.2517\u001b[0m        \u001b[32m0.5507\u001b[0m  0.0040\n",
      "    441        \u001b[36m0.2515\u001b[0m        \u001b[32m0.5500\u001b[0m  0.0018\n",
      "    442        \u001b[36m0.2513\u001b[0m        \u001b[32m0.5493\u001b[0m  0.0030\n",
      "    443        \u001b[36m0.2511\u001b[0m        \u001b[32m0.5486\u001b[0m  0.0049\n",
      "    444        \u001b[36m0.2508\u001b[0m        \u001b[32m0.5480\u001b[0m  0.0030\n",
      "    445        \u001b[36m0.2506\u001b[0m        \u001b[32m0.5473\u001b[0m  0.0050\n",
      "    446        \u001b[36m0.2504\u001b[0m        \u001b[32m0.5466\u001b[0m  0.0039\n",
      "    447        \u001b[36m0.2502\u001b[0m        \u001b[32m0.5460\u001b[0m  0.0040\n",
      "    448        \u001b[36m0.2500\u001b[0m        \u001b[32m0.5454\u001b[0m  0.0047\n",
      "    449        \u001b[36m0.2497\u001b[0m        \u001b[32m0.5447\u001b[0m  0.0033\n",
      "    450        \u001b[36m0.2495\u001b[0m        \u001b[32m0.5441\u001b[0m  0.0046\n",
      "    451        \u001b[36m0.2493\u001b[0m        \u001b[32m0.5435\u001b[0m  0.0043\n",
      "    452        \u001b[36m0.2491\u001b[0m        \u001b[32m0.5428\u001b[0m  0.0028\n",
      "    453        \u001b[36m0.2489\u001b[0m        \u001b[32m0.5422\u001b[0m  0.0042\n",
      "    454        \u001b[36m0.2487\u001b[0m        \u001b[32m0.5416\u001b[0m  0.0040\n",
      "    455        \u001b[36m0.2485\u001b[0m        \u001b[32m0.5410\u001b[0m  0.0031\n",
      "    456        \u001b[36m0.2483\u001b[0m        \u001b[32m0.5404\u001b[0m  0.0030\n",
      "    457        \u001b[36m0.2481\u001b[0m        \u001b[32m0.5398\u001b[0m  0.0030\n",
      "    458        \u001b[36m0.2478\u001b[0m        \u001b[32m0.5392\u001b[0m  0.0030\n",
      "    459        \u001b[36m0.2476\u001b[0m        \u001b[32m0.5387\u001b[0m  0.0046\n",
      "    460        \u001b[36m0.2474\u001b[0m        \u001b[32m0.5381\u001b[0m  0.0060\n",
      "    461        \u001b[36m0.2472\u001b[0m        \u001b[32m0.5375\u001b[0m  0.0040\n",
      "    462        \u001b[36m0.2470\u001b[0m        \u001b[32m0.5370\u001b[0m  0.0043\n",
      "    463        \u001b[36m0.2468\u001b[0m        \u001b[32m0.5364\u001b[0m  0.0041\n",
      "    464        \u001b[36m0.2466\u001b[0m        \u001b[32m0.5359\u001b[0m  0.0032\n",
      "    465        \u001b[36m0.2464\u001b[0m        \u001b[32m0.5353\u001b[0m  0.0030\n",
      "    466        \u001b[36m0.2462\u001b[0m        \u001b[32m0.5348\u001b[0m  0.0043\n",
      "    467        \u001b[36m0.2460\u001b[0m        \u001b[32m0.5342\u001b[0m  0.0039\n",
      "    468        \u001b[36m0.2458\u001b[0m        \u001b[32m0.5337\u001b[0m  0.0059\n",
      "    469        \u001b[36m0.2456\u001b[0m        \u001b[32m0.5332\u001b[0m  0.0034\n",
      "    470        \u001b[36m0.2454\u001b[0m        \u001b[32m0.5327\u001b[0m  0.0039\n",
      "    471        \u001b[36m0.2452\u001b[0m        \u001b[32m0.5322\u001b[0m  0.0110\n",
      "    472        \u001b[36m0.2450\u001b[0m        \u001b[32m0.5316\u001b[0m  0.0050\n",
      "    473        \u001b[36m0.2448\u001b[0m        \u001b[32m0.5311\u001b[0m  0.0041\n",
      "    474        \u001b[36m0.2446\u001b[0m        \u001b[32m0.5306\u001b[0m  0.0039\n",
      "    475        \u001b[36m0.2444\u001b[0m        \u001b[32m0.5301\u001b[0m  0.0031\n",
      "    476        \u001b[36m0.2442\u001b[0m        \u001b[32m0.5297\u001b[0m  0.0038\n",
      "    477        \u001b[36m0.2440\u001b[0m        \u001b[32m0.5292\u001b[0m  0.0041\n",
      "    478        \u001b[36m0.2438\u001b[0m        \u001b[32m0.5287\u001b[0m  0.0044\n",
      "    479        \u001b[36m0.2436\u001b[0m        \u001b[32m0.5282\u001b[0m  0.0030\n",
      "    480        \u001b[36m0.2434\u001b[0m        \u001b[32m0.5277\u001b[0m  0.0031\n",
      "    481        \u001b[36m0.2432\u001b[0m        \u001b[32m0.5273\u001b[0m  0.0038\n",
      "    482        \u001b[36m0.2430\u001b[0m        \u001b[32m0.5268\u001b[0m  0.0038\n",
      "    483        \u001b[36m0.2428\u001b[0m        \u001b[32m0.5264\u001b[0m  0.0040\n",
      "    484        \u001b[36m0.2426\u001b[0m        \u001b[32m0.5259\u001b[0m  0.0048\n",
      "    485        \u001b[36m0.2425\u001b[0m        \u001b[32m0.5255\u001b[0m  0.0030\n",
      "    486        \u001b[36m0.2423\u001b[0m        \u001b[32m0.5250\u001b[0m  0.0050\n",
      "    487        \u001b[36m0.2421\u001b[0m        \u001b[32m0.5246\u001b[0m  0.0040\n",
      "    488        \u001b[36m0.2419\u001b[0m        \u001b[32m0.5241\u001b[0m  0.0040\n",
      "    489        \u001b[36m0.2417\u001b[0m        \u001b[32m0.5237\u001b[0m  0.0060\n",
      "    490        \u001b[36m0.2415\u001b[0m        \u001b[32m0.5233\u001b[0m  0.0039\n",
      "    491        \u001b[36m0.2413\u001b[0m        \u001b[32m0.5229\u001b[0m  0.0050\n",
      "    492        \u001b[36m0.2411\u001b[0m        \u001b[32m0.5224\u001b[0m  0.0041\n",
      "    493        \u001b[36m0.2409\u001b[0m        \u001b[32m0.5220\u001b[0m  0.0030\n",
      "    494        \u001b[36m0.2408\u001b[0m        \u001b[32m0.5216\u001b[0m  0.0050\n",
      "    495        \u001b[36m0.2406\u001b[0m        \u001b[32m0.5212\u001b[0m  0.0030\n",
      "    496        \u001b[36m0.2404\u001b[0m        \u001b[32m0.5208\u001b[0m  0.0029\n",
      "    497        \u001b[36m0.2402\u001b[0m        \u001b[32m0.5204\u001b[0m  0.0045\n",
      "    498        \u001b[36m0.2400\u001b[0m        \u001b[32m0.5200\u001b[0m  0.0036\n",
      "    499        \u001b[36m0.2398\u001b[0m        \u001b[32m0.5196\u001b[0m  0.0036\n",
      "    500        \u001b[36m0.2396\u001b[0m        \u001b[32m0.5192\u001b[0m  0.0043\n",
      "    501        \u001b[36m0.2395\u001b[0m        \u001b[32m0.5188\u001b[0m  0.0031\n",
      "    502        \u001b[36m0.2393\u001b[0m        \u001b[32m0.5185\u001b[0m  0.0039\n",
      "    503        \u001b[36m0.2391\u001b[0m        \u001b[32m0.5181\u001b[0m  0.0031\n",
      "    504        \u001b[36m0.2389\u001b[0m        \u001b[32m0.5177\u001b[0m  0.0041\n",
      "    505        \u001b[36m0.2387\u001b[0m        \u001b[32m0.5173\u001b[0m  0.0030\n",
      "    506        \u001b[36m0.2385\u001b[0m        \u001b[32m0.5170\u001b[0m  0.0050\n",
      "    507        \u001b[36m0.2384\u001b[0m        \u001b[32m0.5166\u001b[0m  0.0041\n",
      "    508        \u001b[36m0.2382\u001b[0m        \u001b[32m0.5163\u001b[0m  0.0048\n",
      "    509        \u001b[36m0.2380\u001b[0m        \u001b[32m0.5159\u001b[0m  0.0040\n",
      "    510        \u001b[36m0.2378\u001b[0m        \u001b[32m0.5155\u001b[0m  0.0045\n",
      "    511        \u001b[36m0.2376\u001b[0m        \u001b[32m0.5152\u001b[0m  0.0030\n",
      "    512        \u001b[36m0.2375\u001b[0m        \u001b[32m0.5149\u001b[0m  0.0040\n",
      "    513        \u001b[36m0.2373\u001b[0m        \u001b[32m0.5145\u001b[0m  0.0041\n",
      "    514        \u001b[36m0.2371\u001b[0m        \u001b[32m0.5142\u001b[0m  0.0030\n",
      "    515        \u001b[36m0.2369\u001b[0m        \u001b[32m0.5138\u001b[0m  0.0029\n",
      "    516        \u001b[36m0.2367\u001b[0m        \u001b[32m0.5135\u001b[0m  0.0030\n",
      "    517        \u001b[36m0.2366\u001b[0m        \u001b[32m0.5132\u001b[0m  0.0050\n",
      "    518        \u001b[36m0.2364\u001b[0m        \u001b[32m0.5128\u001b[0m  0.0040\n",
      "    519        \u001b[36m0.2362\u001b[0m        \u001b[32m0.5125\u001b[0m  0.0041\n",
      "    520        \u001b[36m0.2360\u001b[0m        \u001b[32m0.5122\u001b[0m  0.0040\n",
      "    521        \u001b[36m0.2359\u001b[0m        \u001b[32m0.5119\u001b[0m  0.0042\n",
      "    522        \u001b[36m0.2357\u001b[0m        \u001b[32m0.5116\u001b[0m  0.0041\n",
      "    523        \u001b[36m0.2355\u001b[0m        \u001b[32m0.5113\u001b[0m  0.0040\n",
      "    524        \u001b[36m0.2353\u001b[0m        \u001b[32m0.5110\u001b[0m  0.0044\n",
      "    525        \u001b[36m0.2352\u001b[0m        \u001b[32m0.5106\u001b[0m  0.0042\n",
      "    526        \u001b[36m0.2350\u001b[0m        \u001b[32m0.5103\u001b[0m  0.0040\n",
      "    527        \u001b[36m0.2348\u001b[0m        \u001b[32m0.5100\u001b[0m  0.0030\n",
      "    528        \u001b[36m0.2346\u001b[0m        \u001b[32m0.5097\u001b[0m  0.0042\n",
      "    529        \u001b[36m0.2345\u001b[0m        \u001b[32m0.5095\u001b[0m  0.0044\n",
      "    530        \u001b[36m0.2343\u001b[0m        \u001b[32m0.5092\u001b[0m  0.0050\n",
      "    531        \u001b[36m0.2341\u001b[0m        \u001b[32m0.5089\u001b[0m  0.0042\n",
      "    532        \u001b[36m0.2340\u001b[0m        \u001b[32m0.5086\u001b[0m  0.0039\n",
      "    533        \u001b[36m0.2338\u001b[0m        \u001b[32m0.5083\u001b[0m  0.0028\n",
      "    534        \u001b[36m0.2336\u001b[0m        \u001b[32m0.5080\u001b[0m  0.0048\n",
      "    535        \u001b[36m0.2335\u001b[0m        \u001b[32m0.5077\u001b[0m  0.0041\n",
      "    536        \u001b[36m0.2333\u001b[0m        \u001b[32m0.5075\u001b[0m  0.0038\n",
      "    537        \u001b[36m0.2331\u001b[0m        \u001b[32m0.5072\u001b[0m  0.0050\n",
      "    538        \u001b[36m0.2329\u001b[0m        \u001b[32m0.5069\u001b[0m  0.0030\n",
      "    539        \u001b[36m0.2328\u001b[0m        \u001b[32m0.5067\u001b[0m  0.0050\n",
      "    540        \u001b[36m0.2326\u001b[0m        \u001b[32m0.5064\u001b[0m  0.0041\n",
      "    541        \u001b[36m0.2324\u001b[0m        \u001b[32m0.5061\u001b[0m  0.0040\n",
      "    542        \u001b[36m0.2323\u001b[0m        \u001b[32m0.5059\u001b[0m  0.0052\n",
      "    543        \u001b[36m0.2321\u001b[0m        \u001b[32m0.5056\u001b[0m  0.0027\n",
      "    544        \u001b[36m0.2319\u001b[0m        \u001b[32m0.5053\u001b[0m  0.0045\n",
      "    545        \u001b[36m0.2318\u001b[0m        \u001b[32m0.5051\u001b[0m  0.0040\n",
      "    546        \u001b[36m0.2316\u001b[0m        \u001b[32m0.5048\u001b[0m  0.0050\n",
      "    547        \u001b[36m0.2314\u001b[0m        \u001b[32m0.5046\u001b[0m  0.0040\n",
      "    548        \u001b[36m0.2313\u001b[0m        \u001b[32m0.5043\u001b[0m  0.0042\n",
      "    549        \u001b[36m0.2311\u001b[0m        \u001b[32m0.5041\u001b[0m  0.0040\n",
      "    550        \u001b[36m0.2309\u001b[0m        \u001b[32m0.5039\u001b[0m  0.0049\n",
      "    551        \u001b[36m0.2308\u001b[0m        \u001b[32m0.5036\u001b[0m  0.0032\n",
      "    552        \u001b[36m0.2306\u001b[0m        \u001b[32m0.5034\u001b[0m  0.0031\n",
      "    553        \u001b[36m0.2305\u001b[0m        \u001b[32m0.5031\u001b[0m  0.0029\n",
      "    554        \u001b[36m0.2303\u001b[0m        \u001b[32m0.5029\u001b[0m  0.0036\n",
      "    555        \u001b[36m0.2301\u001b[0m        \u001b[32m0.5027\u001b[0m  0.0030\n",
      "    556        \u001b[36m0.2300\u001b[0m        \u001b[32m0.5025\u001b[0m  0.0042\n",
      "    557        \u001b[36m0.2298\u001b[0m        \u001b[32m0.5022\u001b[0m  0.0055\n",
      "    558        \u001b[36m0.2296\u001b[0m        \u001b[32m0.5020\u001b[0m  0.0039\n",
      "    559        \u001b[36m0.2295\u001b[0m        \u001b[32m0.5018\u001b[0m  0.0040\n",
      "    560        \u001b[36m0.2293\u001b[0m        \u001b[32m0.5016\u001b[0m  0.0052\n",
      "    561        \u001b[36m0.2292\u001b[0m        \u001b[32m0.5013\u001b[0m  0.0028\n",
      "    562        \u001b[36m0.2290\u001b[0m        \u001b[32m0.5011\u001b[0m  0.0047\n",
      "    563        \u001b[36m0.2288\u001b[0m        \u001b[32m0.5009\u001b[0m  0.0040\n",
      "    564        \u001b[36m0.2287\u001b[0m        \u001b[32m0.5007\u001b[0m  0.0053\n",
      "    565        \u001b[36m0.2285\u001b[0m        \u001b[32m0.5005\u001b[0m  0.0050\n",
      "    566        \u001b[36m0.2284\u001b[0m        \u001b[32m0.5003\u001b[0m  0.0050\n",
      "    567        \u001b[36m0.2282\u001b[0m        \u001b[32m0.5001\u001b[0m  0.0037\n",
      "    568        \u001b[36m0.2280\u001b[0m        \u001b[32m0.4999\u001b[0m  0.0030\n",
      "    569        \u001b[36m0.2279\u001b[0m        \u001b[32m0.4997\u001b[0m  0.0029\n",
      "    570        \u001b[36m0.2277\u001b[0m        \u001b[32m0.4995\u001b[0m  0.0072\n",
      "    571        \u001b[36m0.2276\u001b[0m        \u001b[32m0.4992\u001b[0m  0.0049\n",
      "    572        \u001b[36m0.2274\u001b[0m        \u001b[32m0.4991\u001b[0m  0.0042\n",
      "    573        \u001b[36m0.2272\u001b[0m        \u001b[32m0.4989\u001b[0m  0.0040\n",
      "    574        \u001b[36m0.2271\u001b[0m        \u001b[32m0.4987\u001b[0m  0.0047\n",
      "    575        \u001b[36m0.2269\u001b[0m        \u001b[32m0.4985\u001b[0m  0.0042\n",
      "    576        \u001b[36m0.2268\u001b[0m        \u001b[32m0.4983\u001b[0m  0.0030\n",
      "    577        \u001b[36m0.2266\u001b[0m        \u001b[32m0.4981\u001b[0m  0.0050\n",
      "    578        \u001b[36m0.2265\u001b[0m        \u001b[32m0.4979\u001b[0m  0.0037\n",
      "    579        \u001b[36m0.2263\u001b[0m        \u001b[32m0.4977\u001b[0m  0.0027\n",
      "    580        \u001b[36m0.2262\u001b[0m        \u001b[32m0.4975\u001b[0m  0.0036\n",
      "    581        \u001b[36m0.2260\u001b[0m        \u001b[32m0.4973\u001b[0m  0.0043\n",
      "    582        \u001b[36m0.2258\u001b[0m        \u001b[32m0.4972\u001b[0m  0.0040\n",
      "    583        \u001b[36m0.2257\u001b[0m        \u001b[32m0.4970\u001b[0m  0.0039\n",
      "    584        \u001b[36m0.2255\u001b[0m        \u001b[32m0.4968\u001b[0m  0.0059\n",
      "    585        \u001b[36m0.2254\u001b[0m        \u001b[32m0.4966\u001b[0m  0.0038\n",
      "    586        \u001b[36m0.2252\u001b[0m        \u001b[32m0.4964\u001b[0m  0.0031\n",
      "    587        \u001b[36m0.2251\u001b[0m        \u001b[32m0.4963\u001b[0m  0.0043\n",
      "    588        \u001b[36m0.2249\u001b[0m        \u001b[32m0.4961\u001b[0m  0.0027\n",
      "    589        \u001b[36m0.2248\u001b[0m        \u001b[32m0.4959\u001b[0m  0.0039\n",
      "    590        \u001b[36m0.2246\u001b[0m        \u001b[32m0.4958\u001b[0m  0.0100\n",
      "    591        \u001b[36m0.2245\u001b[0m        \u001b[32m0.4956\u001b[0m  0.0045\n",
      "    592        \u001b[36m0.2243\u001b[0m        \u001b[32m0.4954\u001b[0m  0.0040\n",
      "    593        \u001b[36m0.2242\u001b[0m        \u001b[32m0.4953\u001b[0m  0.0020\n",
      "    594        \u001b[36m0.2240\u001b[0m        \u001b[32m0.4951\u001b[0m  0.0031\n",
      "    595        \u001b[36m0.2239\u001b[0m        \u001b[32m0.4949\u001b[0m  0.0042\n",
      "    596        \u001b[36m0.2237\u001b[0m        \u001b[32m0.4948\u001b[0m  0.0039\n",
      "    597        \u001b[36m0.2236\u001b[0m        \u001b[32m0.4946\u001b[0m  0.0040\n",
      "    598        \u001b[36m0.2234\u001b[0m        \u001b[32m0.4945\u001b[0m  0.0031\n",
      "    599        \u001b[36m0.2233\u001b[0m        \u001b[32m0.4943\u001b[0m  0.0050\n",
      "    600        \u001b[36m0.2231\u001b[0m        \u001b[32m0.4941\u001b[0m  0.0036\n",
      "    601        \u001b[36m0.2230\u001b[0m        \u001b[32m0.4940\u001b[0m  0.0049\n",
      "    602        \u001b[36m0.2228\u001b[0m        \u001b[32m0.4938\u001b[0m  0.0040\n",
      "    603        \u001b[36m0.2227\u001b[0m        \u001b[32m0.4937\u001b[0m  0.0041\n",
      "    604        \u001b[36m0.2225\u001b[0m        \u001b[32m0.4935\u001b[0m  0.0040\n",
      "    605        \u001b[36m0.2224\u001b[0m        \u001b[32m0.4934\u001b[0m  0.0027\n",
      "    606        \u001b[36m0.2222\u001b[0m        \u001b[32m0.4932\u001b[0m  0.0050\n",
      "    607        \u001b[36m0.2221\u001b[0m        \u001b[32m0.4931\u001b[0m  0.0037\n",
      "    608        \u001b[36m0.2219\u001b[0m        \u001b[32m0.4929\u001b[0m  0.0037\n",
      "    609        \u001b[36m0.2218\u001b[0m        \u001b[32m0.4928\u001b[0m  0.0030\n",
      "    610        \u001b[36m0.2216\u001b[0m        \u001b[32m0.4927\u001b[0m  0.0040\n",
      "    611        \u001b[36m0.2215\u001b[0m        \u001b[32m0.4925\u001b[0m  0.0041\n",
      "    612        \u001b[36m0.2213\u001b[0m        \u001b[32m0.4924\u001b[0m  0.0041\n",
      "    613        \u001b[36m0.2212\u001b[0m        \u001b[32m0.4922\u001b[0m  0.0050\n",
      "    614        \u001b[36m0.2211\u001b[0m        \u001b[32m0.4921\u001b[0m  0.0041\n",
      "    615        \u001b[36m0.2209\u001b[0m        \u001b[32m0.4920\u001b[0m  0.0029\n",
      "    616        \u001b[36m0.2208\u001b[0m        \u001b[32m0.4918\u001b[0m  0.0034\n",
      "    617        \u001b[36m0.2206\u001b[0m        \u001b[32m0.4917\u001b[0m  0.0040\n",
      "    618        \u001b[36m0.2205\u001b[0m        \u001b[32m0.4916\u001b[0m  0.0036\n",
      "    619        \u001b[36m0.2203\u001b[0m        \u001b[32m0.4914\u001b[0m  0.0032\n",
      "    620        \u001b[36m0.2202\u001b[0m        \u001b[32m0.4913\u001b[0m  0.0040\n",
      "    621        \u001b[36m0.2200\u001b[0m        \u001b[32m0.4912\u001b[0m  0.0045\n",
      "    622        \u001b[36m0.2199\u001b[0m        \u001b[32m0.4910\u001b[0m  0.0040\n",
      "    623        \u001b[36m0.2198\u001b[0m        \u001b[32m0.4909\u001b[0m  0.0029\n",
      "    624        \u001b[36m0.2196\u001b[0m        \u001b[32m0.4908\u001b[0m  0.0053\n",
      "    625        \u001b[36m0.2195\u001b[0m        \u001b[32m0.4906\u001b[0m  0.0040\n",
      "    626        \u001b[36m0.2193\u001b[0m        \u001b[32m0.4905\u001b[0m  0.0029\n",
      "    627        \u001b[36m0.2192\u001b[0m        \u001b[32m0.4904\u001b[0m  0.0044\n",
      "    628        \u001b[36m0.2190\u001b[0m        \u001b[32m0.4903\u001b[0m  0.0038\n",
      "    629        \u001b[36m0.2189\u001b[0m        \u001b[32m0.4902\u001b[0m  0.0044\n",
      "    630        \u001b[36m0.2188\u001b[0m        \u001b[32m0.4900\u001b[0m  0.0031\n",
      "    631        \u001b[36m0.2186\u001b[0m        \u001b[32m0.4899\u001b[0m  0.0046\n",
      "    632        \u001b[36m0.2185\u001b[0m        \u001b[32m0.4898\u001b[0m  0.0049\n",
      "    633        \u001b[36m0.2183\u001b[0m        \u001b[32m0.4897\u001b[0m  0.0034\n",
      "    634        \u001b[36m0.2182\u001b[0m        \u001b[32m0.4896\u001b[0m  0.0030\n",
      "    635        \u001b[36m0.2181\u001b[0m        \u001b[32m0.4894\u001b[0m  0.0028\n",
      "    636        \u001b[36m0.2179\u001b[0m        \u001b[32m0.4893\u001b[0m  0.0038\n",
      "    637        \u001b[36m0.2178\u001b[0m        \u001b[32m0.4892\u001b[0m  0.0032\n",
      "    638        \u001b[36m0.2176\u001b[0m        \u001b[32m0.4891\u001b[0m  0.0060\n",
      "    639        \u001b[36m0.2175\u001b[0m        \u001b[32m0.4890\u001b[0m  0.0050\n",
      "    640        \u001b[36m0.2174\u001b[0m        \u001b[32m0.4889\u001b[0m  0.0037\n",
      "    641        \u001b[36m0.2172\u001b[0m        \u001b[32m0.4888\u001b[0m  0.0040\n",
      "    642        \u001b[36m0.2171\u001b[0m        \u001b[32m0.4886\u001b[0m  0.0028\n",
      "    643        \u001b[36m0.2170\u001b[0m        \u001b[32m0.4885\u001b[0m  0.0030\n",
      "    644        \u001b[36m0.2168\u001b[0m        \u001b[32m0.4884\u001b[0m  0.0045\n",
      "    645        \u001b[36m0.2167\u001b[0m        \u001b[32m0.4883\u001b[0m  0.0050\n",
      "    646        \u001b[36m0.2165\u001b[0m        \u001b[32m0.4882\u001b[0m  0.0040\n",
      "    647        \u001b[36m0.2164\u001b[0m        \u001b[32m0.4881\u001b[0m  0.0037\n",
      "    648        \u001b[36m0.2163\u001b[0m        \u001b[32m0.4880\u001b[0m  0.0047\n",
      "    649        \u001b[36m0.2161\u001b[0m        \u001b[32m0.4879\u001b[0m  0.0050\n",
      "    650        \u001b[36m0.2160\u001b[0m        \u001b[32m0.4878\u001b[0m  0.0050\n",
      "    651        \u001b[36m0.2159\u001b[0m        \u001b[32m0.4877\u001b[0m  0.0080\n",
      "    652        \u001b[36m0.2157\u001b[0m        \u001b[32m0.4876\u001b[0m  0.0049\n",
      "    653        \u001b[36m0.2156\u001b[0m        \u001b[32m0.4875\u001b[0m  0.0049\n",
      "    654        \u001b[36m0.2155\u001b[0m        \u001b[32m0.4874\u001b[0m  0.0041\n",
      "    655        \u001b[36m0.2153\u001b[0m        \u001b[32m0.4873\u001b[0m  0.0040\n",
      "    656        \u001b[36m0.2152\u001b[0m        \u001b[32m0.4872\u001b[0m  0.0040\n",
      "    657        \u001b[36m0.2151\u001b[0m        \u001b[32m0.4871\u001b[0m  0.0050\n",
      "    658        \u001b[36m0.2149\u001b[0m        \u001b[32m0.4870\u001b[0m  0.0030\n",
      "    659        \u001b[36m0.2148\u001b[0m        \u001b[32m0.4869\u001b[0m  0.0040\n",
      "    660        \u001b[36m0.2147\u001b[0m        \u001b[32m0.4868\u001b[0m  0.0038\n",
      "    661        \u001b[36m0.2145\u001b[0m        \u001b[32m0.4867\u001b[0m  0.0060\n",
      "    662        \u001b[36m0.2144\u001b[0m        \u001b[32m0.4866\u001b[0m  0.0050\n",
      "    663        \u001b[36m0.2143\u001b[0m        \u001b[32m0.4865\u001b[0m  0.0040\n",
      "    664        \u001b[36m0.2141\u001b[0m        \u001b[32m0.4864\u001b[0m  0.0047\n",
      "    665        \u001b[36m0.2140\u001b[0m        \u001b[32m0.4863\u001b[0m  0.0045\n",
      "    666        \u001b[36m0.2139\u001b[0m        \u001b[32m0.4862\u001b[0m  0.0040\n",
      "    667        \u001b[36m0.2137\u001b[0m        \u001b[32m0.4861\u001b[0m  0.0048\n",
      "    668        \u001b[36m0.2136\u001b[0m        \u001b[32m0.4860\u001b[0m  0.0039\n",
      "    669        \u001b[36m0.2135\u001b[0m        \u001b[32m0.4859\u001b[0m  0.0044\n",
      "    670        \u001b[36m0.2133\u001b[0m        \u001b[32m0.4859\u001b[0m  0.0038\n",
      "    671        \u001b[36m0.2132\u001b[0m        \u001b[32m0.4858\u001b[0m  0.0043\n",
      "    672        \u001b[36m0.2131\u001b[0m        \u001b[32m0.4857\u001b[0m  0.0050\n",
      "    673        \u001b[36m0.2130\u001b[0m        \u001b[32m0.4856\u001b[0m  0.0040\n",
      "    674        \u001b[36m0.2128\u001b[0m        \u001b[32m0.4855\u001b[0m  0.0036\n",
      "    675        \u001b[36m0.2127\u001b[0m        \u001b[32m0.4854\u001b[0m  0.0040\n",
      "    676        \u001b[36m0.2126\u001b[0m        \u001b[32m0.4853\u001b[0m  0.0040\n",
      "    677        \u001b[36m0.2124\u001b[0m        \u001b[32m0.4852\u001b[0m  0.0049\n",
      "    678        \u001b[36m0.2123\u001b[0m        \u001b[32m0.4852\u001b[0m  0.0033\n",
      "    679        \u001b[36m0.2122\u001b[0m        \u001b[32m0.4851\u001b[0m  0.0039\n",
      "    680        \u001b[36m0.2121\u001b[0m        \u001b[32m0.4850\u001b[0m  0.0040\n",
      "    681        \u001b[36m0.2119\u001b[0m        \u001b[32m0.4849\u001b[0m  0.0051\n",
      "    682        \u001b[36m0.2118\u001b[0m        \u001b[32m0.4848\u001b[0m  0.0035\n",
      "    683        \u001b[36m0.2117\u001b[0m        \u001b[32m0.4847\u001b[0m  0.0040\n",
      "    684        \u001b[36m0.2115\u001b[0m        \u001b[32m0.4847\u001b[0m  0.0040\n",
      "    685        \u001b[36m0.2114\u001b[0m        \u001b[32m0.4846\u001b[0m  0.0028\n",
      "    686        \u001b[36m0.2113\u001b[0m        \u001b[32m0.4845\u001b[0m  0.0040\n",
      "    687        \u001b[36m0.2112\u001b[0m        \u001b[32m0.4844\u001b[0m  0.0035\n",
      "    688        \u001b[36m0.2110\u001b[0m        \u001b[32m0.4843\u001b[0m  0.0055\n",
      "    689        \u001b[36m0.2109\u001b[0m        \u001b[32m0.4843\u001b[0m  0.0040\n",
      "    690        \u001b[36m0.2108\u001b[0m        \u001b[32m0.4842\u001b[0m  0.0040\n",
      "    691        \u001b[36m0.2107\u001b[0m        \u001b[32m0.4841\u001b[0m  0.0040\n",
      "    692        \u001b[36m0.2105\u001b[0m        \u001b[32m0.4840\u001b[0m  0.0048\n",
      "    693        \u001b[36m0.2104\u001b[0m        \u001b[32m0.4839\u001b[0m  0.0030\n",
      "    694        \u001b[36m0.2103\u001b[0m        \u001b[32m0.4839\u001b[0m  0.0030\n",
      "    695        \u001b[36m0.2102\u001b[0m        \u001b[32m0.4838\u001b[0m  0.0041\n",
      "    696        \u001b[36m0.2100\u001b[0m        \u001b[32m0.4837\u001b[0m  0.0039\n",
      "    697        \u001b[36m0.2099\u001b[0m        \u001b[32m0.4836\u001b[0m  0.0045\n",
      "    698        \u001b[36m0.2098\u001b[0m        \u001b[32m0.4836\u001b[0m  0.0041\n",
      "    699        \u001b[36m0.2097\u001b[0m        \u001b[32m0.4835\u001b[0m  0.0040\n",
      "    700        \u001b[36m0.2096\u001b[0m        \u001b[32m0.4834\u001b[0m  0.0028\n",
      "    701        \u001b[36m0.2094\u001b[0m        \u001b[32m0.4834\u001b[0m  0.0050\n",
      "    702        \u001b[36m0.2093\u001b[0m        \u001b[32m0.4833\u001b[0m  0.0029\n",
      "    703        \u001b[36m0.2092\u001b[0m        \u001b[32m0.4832\u001b[0m  0.0040\n",
      "    704        \u001b[36m0.2091\u001b[0m        \u001b[32m0.4831\u001b[0m  0.0039\n",
      "    705        \u001b[36m0.2089\u001b[0m        \u001b[32m0.4831\u001b[0m  0.0037\n",
      "    706        \u001b[36m0.2088\u001b[0m        \u001b[32m0.4830\u001b[0m  0.0050\n",
      "    707        \u001b[36m0.2087\u001b[0m        \u001b[32m0.4829\u001b[0m  0.0044\n",
      "    708        \u001b[36m0.2086\u001b[0m        \u001b[32m0.4829\u001b[0m  0.0029\n",
      "    709        \u001b[36m0.2085\u001b[0m        \u001b[32m0.4828\u001b[0m  0.0052\n",
      "    710        \u001b[36m0.2083\u001b[0m        \u001b[32m0.4827\u001b[0m  0.0051\n",
      "    711        \u001b[36m0.2082\u001b[0m        \u001b[32m0.4826\u001b[0m  0.0028\n",
      "    712        \u001b[36m0.2081\u001b[0m        \u001b[32m0.4826\u001b[0m  0.0044\n",
      "    713        \u001b[36m0.2080\u001b[0m        \u001b[32m0.4825\u001b[0m  0.0034\n",
      "    714        \u001b[36m0.2079\u001b[0m        \u001b[32m0.4824\u001b[0m  0.0041\n",
      "    715        \u001b[36m0.2077\u001b[0m        \u001b[32m0.4824\u001b[0m  0.0040\n",
      "    716        \u001b[36m0.2076\u001b[0m        \u001b[32m0.4823\u001b[0m  0.0040\n",
      "    717        \u001b[36m0.2075\u001b[0m        \u001b[32m0.4822\u001b[0m  0.0050\n",
      "    718        \u001b[36m0.2074\u001b[0m        \u001b[32m0.4822\u001b[0m  0.0050\n",
      "    719        \u001b[36m0.2073\u001b[0m        \u001b[32m0.4821\u001b[0m  0.0040\n",
      "    720        \u001b[36m0.2072\u001b[0m        \u001b[32m0.4820\u001b[0m  0.0044\n",
      "    721        \u001b[36m0.2070\u001b[0m        \u001b[32m0.4820\u001b[0m  0.0040\n",
      "    722        \u001b[36m0.2069\u001b[0m        \u001b[32m0.4819\u001b[0m  0.0051\n",
      "    723        \u001b[36m0.2068\u001b[0m        \u001b[32m0.4818\u001b[0m  0.0040\n",
      "    724        \u001b[36m0.2067\u001b[0m        \u001b[32m0.4818\u001b[0m  0.0040\n",
      "    725        \u001b[36m0.2066\u001b[0m        \u001b[32m0.4817\u001b[0m  0.0046\n",
      "    726        \u001b[36m0.2065\u001b[0m        \u001b[32m0.4817\u001b[0m  0.0045\n",
      "    727        \u001b[36m0.2063\u001b[0m        \u001b[32m0.4816\u001b[0m  0.0040\n",
      "    728        \u001b[36m0.2062\u001b[0m        \u001b[32m0.4815\u001b[0m  0.0044\n",
      "    729        \u001b[36m0.2061\u001b[0m        \u001b[32m0.4815\u001b[0m  0.0040\n",
      "    730        \u001b[36m0.2060\u001b[0m        \u001b[32m0.4814\u001b[0m  0.0038\n",
      "    731        \u001b[36m0.2059\u001b[0m        \u001b[32m0.4813\u001b[0m  0.0040\n",
      "    732        \u001b[36m0.2058\u001b[0m        \u001b[32m0.4813\u001b[0m  0.0037\n",
      "    733        \u001b[36m0.2056\u001b[0m        \u001b[32m0.4812\u001b[0m  0.0047\n",
      "    734        \u001b[36m0.2055\u001b[0m        \u001b[32m0.4812\u001b[0m  0.0050\n",
      "    735        \u001b[36m0.2054\u001b[0m        \u001b[32m0.4811\u001b[0m  0.0036\n",
      "    736        \u001b[36m0.2053\u001b[0m        \u001b[32m0.4810\u001b[0m  0.0050\n",
      "    737        \u001b[36m0.2052\u001b[0m        \u001b[32m0.4810\u001b[0m  0.0041\n",
      "    738        \u001b[36m0.2051\u001b[0m        \u001b[32m0.4809\u001b[0m  0.0062\n",
      "    739        \u001b[36m0.2050\u001b[0m        \u001b[32m0.4809\u001b[0m  0.0055\n",
      "    740        \u001b[36m0.2049\u001b[0m        \u001b[32m0.4808\u001b[0m  0.0045\n",
      "    741        \u001b[36m0.2047\u001b[0m        \u001b[32m0.4807\u001b[0m  0.0059\n",
      "    742        \u001b[36m0.2046\u001b[0m        \u001b[32m0.4807\u001b[0m  0.0040\n",
      "    743        \u001b[36m0.2045\u001b[0m        \u001b[32m0.4806\u001b[0m  0.0049\n",
      "    744        \u001b[36m0.2044\u001b[0m        \u001b[32m0.4806\u001b[0m  0.0050\n",
      "    745        \u001b[36m0.2043\u001b[0m        \u001b[32m0.4805\u001b[0m  0.0038\n",
      "    746        \u001b[36m0.2042\u001b[0m        \u001b[32m0.4805\u001b[0m  0.0040\n",
      "    747        \u001b[36m0.2041\u001b[0m        \u001b[32m0.4804\u001b[0m  0.0040\n",
      "    748        \u001b[36m0.2040\u001b[0m        \u001b[32m0.4803\u001b[0m  0.0040\n",
      "    749        \u001b[36m0.2039\u001b[0m        \u001b[32m0.4803\u001b[0m  0.0050\n",
      "    750        \u001b[36m0.2037\u001b[0m        \u001b[32m0.4802\u001b[0m  0.0041\n",
      "    751        \u001b[36m0.2036\u001b[0m        \u001b[32m0.4802\u001b[0m  0.0048\n",
      "    752        \u001b[36m0.2035\u001b[0m        \u001b[32m0.4801\u001b[0m  0.0040\n",
      "    753        \u001b[36m0.2034\u001b[0m        \u001b[32m0.4801\u001b[0m  0.0040\n",
      "    754        \u001b[36m0.2033\u001b[0m        \u001b[32m0.4800\u001b[0m  0.0060\n",
      "    755        \u001b[36m0.2032\u001b[0m        \u001b[32m0.4800\u001b[0m  0.0058\n",
      "    756        \u001b[36m0.2031\u001b[0m        \u001b[32m0.4799\u001b[0m  0.0040\n",
      "    757        \u001b[36m0.2030\u001b[0m        \u001b[32m0.4799\u001b[0m  0.0050\n",
      "    758        \u001b[36m0.2029\u001b[0m        \u001b[32m0.4798\u001b[0m  0.0062\n",
      "    759        \u001b[36m0.2028\u001b[0m        \u001b[32m0.4797\u001b[0m  0.0037\n",
      "    760        \u001b[36m0.2026\u001b[0m        \u001b[32m0.4797\u001b[0m  0.0030\n",
      "    761        \u001b[36m0.2025\u001b[0m        \u001b[32m0.4796\u001b[0m  0.0055\n",
      "    762        \u001b[36m0.2024\u001b[0m        \u001b[32m0.4796\u001b[0m  0.0046\n",
      "    763        \u001b[36m0.2023\u001b[0m        \u001b[32m0.4795\u001b[0m  0.0030\n",
      "    764        \u001b[36m0.2022\u001b[0m        \u001b[32m0.4795\u001b[0m  0.0072\n",
      "    765        \u001b[36m0.2021\u001b[0m        \u001b[32m0.4794\u001b[0m  0.0056\n",
      "    766        \u001b[36m0.2020\u001b[0m        \u001b[32m0.4794\u001b[0m  0.0040\n",
      "    767        \u001b[36m0.2019\u001b[0m        \u001b[32m0.4793\u001b[0m  0.0043\n",
      "    768        \u001b[36m0.2018\u001b[0m        \u001b[32m0.4793\u001b[0m  0.0041\n",
      "    769        \u001b[36m0.2017\u001b[0m        \u001b[32m0.4792\u001b[0m  0.0035\n",
      "    770        \u001b[36m0.2016\u001b[0m        \u001b[32m0.4792\u001b[0m  0.0041\n",
      "    771        \u001b[36m0.2015\u001b[0m        \u001b[32m0.4791\u001b[0m  0.0048\n",
      "    772        \u001b[36m0.2014\u001b[0m        \u001b[32m0.4791\u001b[0m  0.0055\n",
      "    773        \u001b[36m0.2013\u001b[0m        \u001b[32m0.4790\u001b[0m  0.0050\n",
      "    774        \u001b[36m0.2012\u001b[0m        \u001b[32m0.4790\u001b[0m  0.0027\n",
      "    775        \u001b[36m0.2011\u001b[0m        \u001b[32m0.4789\u001b[0m  0.0040\n",
      "    776        \u001b[36m0.2010\u001b[0m        \u001b[32m0.4789\u001b[0m  0.0040\n",
      "    777        \u001b[36m0.2009\u001b[0m        \u001b[32m0.4788\u001b[0m  0.0029\n",
      "    778        \u001b[36m0.2007\u001b[0m        \u001b[32m0.4788\u001b[0m  0.0041\n",
      "    779        \u001b[36m0.2006\u001b[0m        \u001b[32m0.4787\u001b[0m  0.0040\n",
      "    780        \u001b[36m0.2005\u001b[0m        \u001b[32m0.4787\u001b[0m  0.0040\n",
      "    781        \u001b[36m0.2004\u001b[0m        \u001b[32m0.4786\u001b[0m  0.0051\n",
      "    782        \u001b[36m0.2003\u001b[0m        \u001b[32m0.4786\u001b[0m  0.0052\n",
      "    783        \u001b[36m0.2002\u001b[0m        \u001b[32m0.4785\u001b[0m  0.0095\n",
      "    784        \u001b[36m0.2001\u001b[0m        \u001b[32m0.4785\u001b[0m  0.0029\n",
      "    785        \u001b[36m0.2000\u001b[0m        \u001b[32m0.4784\u001b[0m  0.0032\n",
      "    786        \u001b[36m0.1999\u001b[0m        \u001b[32m0.4784\u001b[0m  0.0041\n",
      "    787        \u001b[36m0.1998\u001b[0m        \u001b[32m0.4783\u001b[0m  0.0050\n",
      "    788        \u001b[36m0.1997\u001b[0m        \u001b[32m0.4783\u001b[0m  0.0050\n",
      "    789        \u001b[36m0.1996\u001b[0m        \u001b[32m0.4782\u001b[0m  0.0035\n",
      "    790        \u001b[36m0.1995\u001b[0m        \u001b[32m0.4782\u001b[0m  0.0046\n",
      "    791        \u001b[36m0.1994\u001b[0m        \u001b[32m0.4782\u001b[0m  0.0030\n",
      "    792        \u001b[36m0.1993\u001b[0m        \u001b[32m0.4781\u001b[0m  0.0038\n",
      "    793        \u001b[36m0.1992\u001b[0m        \u001b[32m0.4781\u001b[0m  0.0047\n",
      "    794        \u001b[36m0.1991\u001b[0m        \u001b[32m0.4780\u001b[0m  0.0050\n",
      "    795        \u001b[36m0.1990\u001b[0m        \u001b[32m0.4780\u001b[0m  0.0040\n",
      "    796        \u001b[36m0.1989\u001b[0m        \u001b[32m0.4779\u001b[0m  0.0031\n",
      "    797        \u001b[36m0.1988\u001b[0m        \u001b[32m0.4779\u001b[0m  0.0044\n",
      "    798        \u001b[36m0.1987\u001b[0m        \u001b[32m0.4778\u001b[0m  0.0040\n",
      "    799        \u001b[36m0.1986\u001b[0m        \u001b[32m0.4778\u001b[0m  0.0036\n",
      "    800        \u001b[36m0.1985\u001b[0m        \u001b[32m0.4777\u001b[0m  0.0040\n",
      "    801        \u001b[36m0.1984\u001b[0m        \u001b[32m0.4777\u001b[0m  0.0040\n",
      "    802        \u001b[36m0.1983\u001b[0m        \u001b[32m0.4776\u001b[0m  0.0048\n",
      "    803        \u001b[36m0.1982\u001b[0m        \u001b[32m0.4776\u001b[0m  0.0047\n",
      "    804        \u001b[36m0.1981\u001b[0m        \u001b[32m0.4776\u001b[0m  0.0041\n",
      "    805        \u001b[36m0.1980\u001b[0m        \u001b[32m0.4775\u001b[0m  0.0039\n",
      "    806        \u001b[36m0.1979\u001b[0m        \u001b[32m0.4775\u001b[0m  0.0028\n",
      "    807        \u001b[36m0.1978\u001b[0m        \u001b[32m0.4774\u001b[0m  0.0180\n",
      "    808        \u001b[36m0.1977\u001b[0m        \u001b[32m0.4774\u001b[0m  0.0032\n",
      "    809        \u001b[36m0.1976\u001b[0m        \u001b[32m0.4773\u001b[0m  0.0060\n",
      "    810        \u001b[36m0.1976\u001b[0m        \u001b[32m0.4773\u001b[0m  0.0040\n",
      "    811        \u001b[36m0.1975\u001b[0m        \u001b[32m0.4773\u001b[0m  0.0046\n",
      "    812        \u001b[36m0.1974\u001b[0m        \u001b[32m0.4772\u001b[0m  0.0041\n",
      "    813        \u001b[36m0.1973\u001b[0m        \u001b[32m0.4772\u001b[0m  0.0041\n",
      "    814        \u001b[36m0.1972\u001b[0m        \u001b[32m0.4771\u001b[0m  0.0038\n",
      "    815        \u001b[36m0.1971\u001b[0m        \u001b[32m0.4771\u001b[0m  0.0040\n",
      "    816        \u001b[36m0.1970\u001b[0m        \u001b[32m0.4770\u001b[0m  0.0049\n",
      "    817        \u001b[36m0.1969\u001b[0m        \u001b[32m0.4770\u001b[0m  0.0030\n",
      "    818        \u001b[36m0.1968\u001b[0m        \u001b[32m0.4770\u001b[0m  0.0041\n",
      "    819        \u001b[36m0.1967\u001b[0m        \u001b[32m0.4769\u001b[0m  0.0030\n",
      "    820        \u001b[36m0.1966\u001b[0m        \u001b[32m0.4769\u001b[0m  0.0050\n",
      "    821        \u001b[36m0.1965\u001b[0m        \u001b[32m0.4768\u001b[0m  0.0049\n",
      "    822        \u001b[36m0.1964\u001b[0m        \u001b[32m0.4768\u001b[0m  0.0050\n",
      "    823        \u001b[36m0.1963\u001b[0m        \u001b[32m0.4767\u001b[0m  0.0050\n",
      "    824        \u001b[36m0.1962\u001b[0m        \u001b[32m0.4767\u001b[0m  0.0026\n",
      "    825        \u001b[36m0.1961\u001b[0m        \u001b[32m0.4767\u001b[0m  0.0040\n",
      "    826        \u001b[36m0.1960\u001b[0m        \u001b[32m0.4766\u001b[0m  0.0028\n",
      "    827        \u001b[36m0.1959\u001b[0m        \u001b[32m0.4766\u001b[0m  0.0040\n",
      "    828        \u001b[36m0.1959\u001b[0m        \u001b[32m0.4765\u001b[0m  0.0049\n",
      "    829        \u001b[36m0.1958\u001b[0m        \u001b[32m0.4765\u001b[0m  0.0057\n",
      "    830        \u001b[36m0.1957\u001b[0m        \u001b[32m0.4764\u001b[0m  0.0050\n",
      "    831        \u001b[36m0.1956\u001b[0m        \u001b[32m0.4764\u001b[0m  0.0039\n",
      "    832        \u001b[36m0.1955\u001b[0m        \u001b[32m0.4764\u001b[0m  0.0040\n",
      "    833        \u001b[36m0.1954\u001b[0m        \u001b[32m0.4763\u001b[0m  0.0030\n",
      "    834        \u001b[36m0.1953\u001b[0m        \u001b[32m0.4763\u001b[0m  0.0031\n",
      "    835        \u001b[36m0.1952\u001b[0m        \u001b[32m0.4762\u001b[0m  0.0030\n",
      "    836        \u001b[36m0.1951\u001b[0m        \u001b[32m0.4762\u001b[0m  0.0040\n",
      "    837        \u001b[36m0.1950\u001b[0m        \u001b[32m0.4762\u001b[0m  0.0040\n",
      "    838        \u001b[36m0.1949\u001b[0m        \u001b[32m0.4761\u001b[0m  0.0029\n",
      "    839        \u001b[36m0.1949\u001b[0m        \u001b[32m0.4761\u001b[0m  0.0041\n",
      "    840        \u001b[36m0.1948\u001b[0m        \u001b[32m0.4760\u001b[0m  0.0050\n",
      "    841        \u001b[36m0.1947\u001b[0m        \u001b[32m0.4760\u001b[0m  0.0044\n",
      "    842        \u001b[36m0.1946\u001b[0m        \u001b[32m0.4760\u001b[0m  0.0043\n",
      "    843        \u001b[36m0.1945\u001b[0m        \u001b[32m0.4759\u001b[0m  0.0040\n",
      "    844        \u001b[36m0.1944\u001b[0m        \u001b[32m0.4759\u001b[0m  0.0031\n",
      "    845        \u001b[36m0.1943\u001b[0m        \u001b[32m0.4758\u001b[0m  0.0030\n",
      "    846        \u001b[36m0.1942\u001b[0m        \u001b[32m0.4758\u001b[0m  0.0032\n",
      "    847        \u001b[36m0.1941\u001b[0m        \u001b[32m0.4758\u001b[0m  0.0041\n",
      "    848        \u001b[36m0.1941\u001b[0m        \u001b[32m0.4757\u001b[0m  0.0040\n",
      "    849        \u001b[36m0.1940\u001b[0m        \u001b[32m0.4757\u001b[0m  0.0052\n",
      "    850        \u001b[36m0.1939\u001b[0m        \u001b[32m0.4756\u001b[0m  0.0048\n",
      "    851        \u001b[36m0.1938\u001b[0m        \u001b[32m0.4756\u001b[0m  0.0047\n",
      "    852        \u001b[36m0.1937\u001b[0m        \u001b[32m0.4756\u001b[0m  0.0031\n",
      "    853        \u001b[36m0.1936\u001b[0m        \u001b[32m0.4755\u001b[0m  0.0039\n",
      "    854        \u001b[36m0.1935\u001b[0m        \u001b[32m0.4755\u001b[0m  0.0044\n",
      "    855        \u001b[36m0.1934\u001b[0m        \u001b[32m0.4755\u001b[0m  0.0050\n",
      "    856        \u001b[36m0.1934\u001b[0m        \u001b[32m0.4754\u001b[0m  0.0038\n",
      "    857        \u001b[36m0.1933\u001b[0m        \u001b[32m0.4754\u001b[0m  0.0055\n",
      "    858        \u001b[36m0.1932\u001b[0m        \u001b[32m0.4753\u001b[0m  0.0049\n",
      "    859        \u001b[36m0.1931\u001b[0m        \u001b[32m0.4753\u001b[0m  0.0030\n",
      "    860        \u001b[36m0.1930\u001b[0m        \u001b[32m0.4753\u001b[0m  0.0049\n",
      "    861        \u001b[36m0.1929\u001b[0m        \u001b[32m0.4752\u001b[0m  0.0042\n",
      "    862        \u001b[36m0.1928\u001b[0m        \u001b[32m0.4752\u001b[0m  0.0040\n",
      "    863        \u001b[36m0.1928\u001b[0m        \u001b[32m0.4751\u001b[0m  0.0041\n",
      "    864        \u001b[36m0.1927\u001b[0m        \u001b[32m0.4751\u001b[0m  0.0041\n",
      "    865        \u001b[36m0.1926\u001b[0m        \u001b[32m0.4751\u001b[0m  0.0042\n",
      "    866        \u001b[36m0.1925\u001b[0m        \u001b[32m0.4750\u001b[0m  0.0030\n",
      "    867        \u001b[36m0.1924\u001b[0m        \u001b[32m0.4750\u001b[0m  0.0035\n",
      "    868        \u001b[36m0.1923\u001b[0m        \u001b[32m0.4750\u001b[0m  0.0040\n",
      "    869        \u001b[36m0.1922\u001b[0m        \u001b[32m0.4749\u001b[0m  0.0039\n",
      "    870        \u001b[36m0.1922\u001b[0m        \u001b[32m0.4749\u001b[0m  0.0041\n",
      "    871        \u001b[36m0.1921\u001b[0m        \u001b[32m0.4748\u001b[0m  0.0060\n",
      "    872        \u001b[36m0.1920\u001b[0m        \u001b[32m0.4748\u001b[0m  0.0040\n",
      "    873        \u001b[36m0.1919\u001b[0m        \u001b[32m0.4748\u001b[0m  0.0035\n",
      "    874        \u001b[36m0.1918\u001b[0m        \u001b[32m0.4747\u001b[0m  0.0040\n",
      "    875        \u001b[36m0.1918\u001b[0m        \u001b[32m0.4747\u001b[0m  0.0029\n",
      "    876        \u001b[36m0.1917\u001b[0m        \u001b[32m0.4747\u001b[0m  0.0040\n",
      "    877        \u001b[36m0.1916\u001b[0m        \u001b[32m0.4746\u001b[0m  0.0036\n",
      "    878        \u001b[36m0.1915\u001b[0m        \u001b[32m0.4746\u001b[0m  0.0040\n",
      "    879        \u001b[36m0.1914\u001b[0m        \u001b[32m0.4746\u001b[0m  0.0030\n",
      "    880        \u001b[36m0.1913\u001b[0m        \u001b[32m0.4745\u001b[0m  0.0052\n",
      "    881        \u001b[36m0.1913\u001b[0m        \u001b[32m0.4745\u001b[0m  0.0038\n",
      "    882        \u001b[36m0.1912\u001b[0m        \u001b[32m0.4744\u001b[0m  0.0026\n",
      "    883        \u001b[36m0.1911\u001b[0m        \u001b[32m0.4744\u001b[0m  0.0039\n",
      "    884        \u001b[36m0.1910\u001b[0m        \u001b[32m0.4744\u001b[0m  0.0039\n",
      "    885        \u001b[36m0.1909\u001b[0m        \u001b[32m0.4743\u001b[0m  0.0040\n",
      "    886        \u001b[36m0.1909\u001b[0m        \u001b[32m0.4743\u001b[0m  0.0040\n",
      "    887        \u001b[36m0.1908\u001b[0m        \u001b[32m0.4743\u001b[0m  0.0054\n",
      "    888        \u001b[36m0.1907\u001b[0m        \u001b[32m0.4742\u001b[0m  0.0051\n",
      "    889        \u001b[36m0.1906\u001b[0m        \u001b[32m0.4742\u001b[0m  0.0049\n",
      "    890        \u001b[36m0.1905\u001b[0m        \u001b[32m0.4742\u001b[0m  0.0060\n",
      "    891        \u001b[36m0.1905\u001b[0m        \u001b[32m0.4741\u001b[0m  0.0046\n",
      "    892        \u001b[36m0.1904\u001b[0m        \u001b[32m0.4741\u001b[0m  0.0040\n",
      "    893        \u001b[36m0.1903\u001b[0m        \u001b[32m0.4741\u001b[0m  0.0030\n",
      "    894        \u001b[36m0.1902\u001b[0m        \u001b[32m0.4740\u001b[0m  0.0046\n",
      "    895        \u001b[36m0.1901\u001b[0m        \u001b[32m0.4740\u001b[0m  0.0033\n",
      "    896        \u001b[36m0.1901\u001b[0m        \u001b[32m0.4739\u001b[0m  0.0040\n",
      "    897        \u001b[36m0.1900\u001b[0m        \u001b[32m0.4739\u001b[0m  0.0048\n",
      "    898        \u001b[36m0.1899\u001b[0m        \u001b[32m0.4739\u001b[0m  0.0040\n",
      "    899        \u001b[36m0.1898\u001b[0m        \u001b[32m0.4738\u001b[0m  0.0042\n",
      "    900        \u001b[36m0.1898\u001b[0m        \u001b[32m0.4738\u001b[0m  0.0045\n",
      "    901        \u001b[36m0.1897\u001b[0m        \u001b[32m0.4738\u001b[0m  0.0039\n",
      "    902        \u001b[36m0.1896\u001b[0m        \u001b[32m0.4737\u001b[0m  0.0040\n",
      "    903        \u001b[36m0.1895\u001b[0m        \u001b[32m0.4737\u001b[0m  0.0040\n",
      "    904        \u001b[36m0.1894\u001b[0m        \u001b[32m0.4737\u001b[0m  0.0030\n",
      "    905        \u001b[36m0.1894\u001b[0m        \u001b[32m0.4736\u001b[0m  0.0040\n",
      "    906        \u001b[36m0.1893\u001b[0m        \u001b[32m0.4736\u001b[0m  0.0031\n",
      "    907        \u001b[36m0.1892\u001b[0m        \u001b[32m0.4736\u001b[0m  0.0038\n",
      "    908        \u001b[36m0.1891\u001b[0m        \u001b[32m0.4735\u001b[0m  0.0037\n",
      "    909        \u001b[36m0.1891\u001b[0m        \u001b[32m0.4735\u001b[0m  0.0040\n",
      "    910        \u001b[36m0.1890\u001b[0m        \u001b[32m0.4735\u001b[0m  0.0040\n",
      "    911        \u001b[36m0.1889\u001b[0m        \u001b[32m0.4734\u001b[0m  0.0040\n",
      "    912        \u001b[36m0.1888\u001b[0m        \u001b[32m0.4734\u001b[0m  0.0044\n",
      "    913        \u001b[36m0.1888\u001b[0m        \u001b[32m0.4734\u001b[0m  0.0050\n",
      "    914        \u001b[36m0.1887\u001b[0m        \u001b[32m0.4733\u001b[0m  0.0039\n",
      "    915        \u001b[36m0.1886\u001b[0m        \u001b[32m0.4733\u001b[0m  0.0030\n",
      "    916        \u001b[36m0.1885\u001b[0m        \u001b[32m0.4732\u001b[0m  0.0050\n",
      "    917        \u001b[36m0.1885\u001b[0m        \u001b[32m0.4732\u001b[0m  0.0040\n",
      "    918        \u001b[36m0.1884\u001b[0m        \u001b[32m0.4732\u001b[0m  0.0034\n",
      "    919        \u001b[36m0.1883\u001b[0m        \u001b[32m0.4731\u001b[0m  0.0050\n",
      "    920        \u001b[36m0.1882\u001b[0m        \u001b[32m0.4731\u001b[0m  0.0044\n",
      "    921        \u001b[36m0.1882\u001b[0m        \u001b[32m0.4731\u001b[0m  0.0039\n",
      "    922        \u001b[36m0.1881\u001b[0m        \u001b[32m0.4730\u001b[0m  0.0030\n",
      "    923        \u001b[36m0.1880\u001b[0m        \u001b[32m0.4730\u001b[0m  0.0047\n",
      "    924        \u001b[36m0.1879\u001b[0m        \u001b[32m0.4730\u001b[0m  0.0047\n",
      "    925        \u001b[36m0.1879\u001b[0m        \u001b[32m0.4729\u001b[0m  0.0051\n",
      "    926        \u001b[36m0.1878\u001b[0m        \u001b[32m0.4729\u001b[0m  0.0052\n",
      "    927        \u001b[36m0.1877\u001b[0m        \u001b[32m0.4729\u001b[0m  0.0043\n",
      "    928        \u001b[36m0.1877\u001b[0m        \u001b[32m0.4728\u001b[0m  0.0040\n",
      "    929        \u001b[36m0.1876\u001b[0m        \u001b[32m0.4728\u001b[0m  0.0046\n",
      "    930        \u001b[36m0.1875\u001b[0m        \u001b[32m0.4728\u001b[0m  0.0031\n",
      "    931        \u001b[36m0.1874\u001b[0m        \u001b[32m0.4727\u001b[0m  0.0030\n",
      "    932        \u001b[36m0.1874\u001b[0m        \u001b[32m0.4727\u001b[0m  0.0037\n",
      "    933        \u001b[36m0.1873\u001b[0m        \u001b[32m0.4727\u001b[0m  0.0038\n",
      "    934        \u001b[36m0.1872\u001b[0m        \u001b[32m0.4726\u001b[0m  0.0030\n",
      "    935        \u001b[36m0.1872\u001b[0m        \u001b[32m0.4726\u001b[0m  0.0040\n",
      "    936        \u001b[36m0.1871\u001b[0m        \u001b[32m0.4726\u001b[0m  0.0047\n",
      "    937        \u001b[36m0.1870\u001b[0m        \u001b[32m0.4725\u001b[0m  0.0047\n",
      "    938        \u001b[36m0.1869\u001b[0m        \u001b[32m0.4725\u001b[0m  0.0041\n",
      "    939        \u001b[36m0.1869\u001b[0m        \u001b[32m0.4725\u001b[0m  0.0050\n",
      "    940        \u001b[36m0.1868\u001b[0m        \u001b[32m0.4724\u001b[0m  0.0039\n",
      "    941        \u001b[36m0.1867\u001b[0m        \u001b[32m0.4724\u001b[0m  0.0042\n",
      "    942        \u001b[36m0.1867\u001b[0m        \u001b[32m0.4724\u001b[0m  0.0040\n",
      "    943        \u001b[36m0.1866\u001b[0m        \u001b[32m0.4723\u001b[0m  0.0040\n",
      "    944        \u001b[36m0.1865\u001b[0m        \u001b[32m0.4723\u001b[0m  0.0045\n",
      "    945        \u001b[36m0.1865\u001b[0m        \u001b[32m0.4723\u001b[0m  0.0041\n",
      "    946        \u001b[36m0.1864\u001b[0m        \u001b[32m0.4722\u001b[0m  0.0046\n",
      "    947        \u001b[36m0.1863\u001b[0m        \u001b[32m0.4722\u001b[0m  0.0041\n",
      "    948        \u001b[36m0.1862\u001b[0m        \u001b[32m0.4722\u001b[0m  0.0048\n",
      "    949        \u001b[36m0.1862\u001b[0m        \u001b[32m0.4721\u001b[0m  0.0048\n",
      "    950        \u001b[36m0.1861\u001b[0m        \u001b[32m0.4721\u001b[0m  0.0113\n",
      "    951        \u001b[36m0.1860\u001b[0m        \u001b[32m0.4721\u001b[0m  0.0036\n",
      "    952        \u001b[36m0.1860\u001b[0m        \u001b[32m0.4720\u001b[0m  0.0041\n",
      "    953        \u001b[36m0.1859\u001b[0m        \u001b[32m0.4720\u001b[0m  0.0055\n",
      "    954        \u001b[36m0.1858\u001b[0m        \u001b[32m0.4720\u001b[0m  0.0038\n",
      "    955        \u001b[36m0.1858\u001b[0m        \u001b[32m0.4720\u001b[0m  0.0051\n",
      "    956        \u001b[36m0.1857\u001b[0m        \u001b[32m0.4719\u001b[0m  0.0045\n",
      "    957        \u001b[36m0.1856\u001b[0m        \u001b[32m0.4719\u001b[0m  0.0041\n",
      "    958        \u001b[36m0.1856\u001b[0m        \u001b[32m0.4719\u001b[0m  0.0039\n",
      "    959        \u001b[36m0.1855\u001b[0m        \u001b[32m0.4718\u001b[0m  0.0041\n",
      "    960        \u001b[36m0.1854\u001b[0m        \u001b[32m0.4718\u001b[0m  0.0058\n",
      "    961        \u001b[36m0.1854\u001b[0m        \u001b[32m0.4718\u001b[0m  0.0050\n",
      "    962        \u001b[36m0.1853\u001b[0m        \u001b[32m0.4717\u001b[0m  0.0055\n",
      "    963        \u001b[36m0.1852\u001b[0m        \u001b[32m0.4717\u001b[0m  0.0049\n",
      "    964        \u001b[36m0.1852\u001b[0m        \u001b[32m0.4717\u001b[0m  0.0053\n",
      "    965        \u001b[36m0.1851\u001b[0m        \u001b[32m0.4716\u001b[0m  0.0045\n",
      "    966        \u001b[36m0.1850\u001b[0m        \u001b[32m0.4716\u001b[0m  0.0040\n",
      "    967        \u001b[36m0.1850\u001b[0m        \u001b[32m0.4716\u001b[0m  0.0053\n",
      "    968        \u001b[36m0.1849\u001b[0m        \u001b[32m0.4715\u001b[0m  0.0040\n",
      "    969        \u001b[36m0.1848\u001b[0m        \u001b[32m0.4715\u001b[0m  0.0030\n",
      "    970        \u001b[36m0.1848\u001b[0m        \u001b[32m0.4715\u001b[0m  0.0040\n",
      "    971        \u001b[36m0.1847\u001b[0m        \u001b[32m0.4714\u001b[0m  0.0040\n",
      "    972        \u001b[36m0.1846\u001b[0m        \u001b[32m0.4714\u001b[0m  0.0042\n",
      "    973        \u001b[36m0.1846\u001b[0m        \u001b[32m0.4714\u001b[0m  0.0051\n",
      "    974        \u001b[36m0.1845\u001b[0m        \u001b[32m0.4713\u001b[0m  0.0040\n",
      "    975        \u001b[36m0.1845\u001b[0m        \u001b[32m0.4713\u001b[0m  0.0055\n",
      "    976        \u001b[36m0.1844\u001b[0m        \u001b[32m0.4713\u001b[0m  0.0030\n",
      "    977        \u001b[36m0.1843\u001b[0m        \u001b[32m0.4713\u001b[0m  0.0052\n",
      "    978        \u001b[36m0.1843\u001b[0m        \u001b[32m0.4712\u001b[0m  0.0103\n",
      "    979        \u001b[36m0.1842\u001b[0m        \u001b[32m0.4712\u001b[0m  0.0037\n",
      "    980        \u001b[36m0.1841\u001b[0m        \u001b[32m0.4712\u001b[0m  0.0051\n",
      "    981        \u001b[36m0.1841\u001b[0m        \u001b[32m0.4711\u001b[0m  0.0035\n",
      "    982        \u001b[36m0.1840\u001b[0m        \u001b[32m0.4711\u001b[0m  0.0049\n",
      "    983        \u001b[36m0.1839\u001b[0m        \u001b[32m0.4711\u001b[0m  0.0040\n",
      "    984        \u001b[36m0.1839\u001b[0m        \u001b[32m0.4710\u001b[0m  0.0040\n",
      "    985        \u001b[36m0.1838\u001b[0m        \u001b[32m0.4710\u001b[0m  0.0040\n",
      "    986        \u001b[36m0.1838\u001b[0m        \u001b[32m0.4710\u001b[0m  0.0042\n",
      "    987        \u001b[36m0.1837\u001b[0m        \u001b[32m0.4709\u001b[0m  0.0037\n",
      "    988        \u001b[36m0.1836\u001b[0m        \u001b[32m0.4709\u001b[0m  0.0040\n",
      "    989        \u001b[36m0.1836\u001b[0m        \u001b[32m0.4709\u001b[0m  0.0025\n",
      "    990        \u001b[36m0.1835\u001b[0m        \u001b[32m0.4708\u001b[0m  0.0038\n",
      "    991        \u001b[36m0.1835\u001b[0m        \u001b[32m0.4708\u001b[0m  0.0040\n",
      "    992        \u001b[36m0.1834\u001b[0m        \u001b[32m0.4708\u001b[0m  0.0040\n",
      "    993        \u001b[36m0.1833\u001b[0m        \u001b[32m0.4708\u001b[0m  0.0038\n",
      "    994        \u001b[36m0.1833\u001b[0m        \u001b[32m0.4707\u001b[0m  0.0050\n",
      "    995        \u001b[36m0.1832\u001b[0m        \u001b[32m0.4707\u001b[0m  0.0049\n",
      "    996        \u001b[36m0.1831\u001b[0m        \u001b[32m0.4707\u001b[0m  0.0048\n",
      "    997        \u001b[36m0.1831\u001b[0m        \u001b[32m0.4706\u001b[0m  0.0050\n",
      "    998        \u001b[36m0.1830\u001b[0m        \u001b[32m0.4706\u001b[0m  0.0049\n",
      "    999        \u001b[36m0.1830\u001b[0m        \u001b[32m0.4706\u001b[0m  0.0040\n",
      "   1000        \u001b[36m0.1829\u001b[0m        \u001b[32m0.4705\u001b[0m  0.0027\n"
     ]
    },
    {
     "data": {
      "text/plain": [
       "<class 'skorch.regressor.NeuralNetRegressor'>[initialized](\n",
       "  module_=Net(\n",
       "    (act_func): ReLU()\n",
       "    (out_layer): Linear(in_features=102, out_features=1, bias=True)\n",
       "  ),\n",
       ")"
      ]
     },
     "execution_count": 11,
     "metadata": {},
     "output_type": "execute_result"
    }
   ],
   "source": [
    "net_skorch.fit(input_data, label_data)"
   ]
  },
  {
   "cell_type": "markdown",
   "metadata": {},
   "source": [
    "## Losses"
   ]
  },
  {
   "cell_type": "code",
   "execution_count": 129,
   "metadata": {},
   "outputs": [],
   "source": [
    "train_loss = net_skorch.history[:, 'train_loss']\n",
    "val_loss = net_skorch.history[:, 'valid_loss']"
   ]
  },
  {
   "cell_type": "code",
   "execution_count": 130,
   "metadata": {
    "scrolled": true
   },
   "outputs": [
    {
     "data": {
      "image/png": "[encoded data removed]",
      "text/plain": [
       "<Figure size 864x576 with 1 Axes>"
      ]
     },
     "metadata": {
      "needs_background": "light"
     },
     "output_type": "display_data"
    }
   ],
   "source": [
    "# Plot losses\n",
    "plt.figure(figsize=(12,8))\n",
    "plt.semilogy(train_loss, label='Train loss')\n",
    "plt.semilogy(val_loss, label='Validation loss')\n",
    "plt.xlabel('Epoch')\n",
    "plt.ylabel('Loss')\n",
    "plt.grid()\n",
    "plt.legend()\n",
    "plt.show()"
   ]
  },
  {
   "cell_type": "markdown",
   "metadata": {},
   "source": [
    "## Result"
   ]
  },
  {
   "cell_type": "code",
   "execution_count": 131,
   "metadata": {},
   "outputs": [
    {
     "data": {
      "image/png": "[encoded data removed]",
      "text/plain": [
       "<Figure size 864x576 with 1 Axes>"
      ]
     },
     "metadata": {
      "needs_background": "light"
     },
     "output_type": "display_data"
    }
   ],
   "source": [
    "# Convert x_vec and y_vec to numpy one dimensional arrays\n",
    "x_vec = torch.tensor(np.linspace(5,-5,100).reshape(-1,1),dtype=torch.float32)\n",
    "y_vec = net_skorch.predict(x_vec)\n",
    "\n",
    "# Plot output\n",
    "plt.figure(figsize=(12,8))\n",
    "plt.plot(np.linspace(5,-5,100), y_vec, label='Network output', c = \"Red\")\n",
    "plt.scatter(train_df.input, train_df.label, label='Training points')\n",
    "plt.xlabel('x')\n",
    "plt.ylabel('y')\n",
    "plt.grid()\n",
    "plt.legend()\n",
    "plt.show()"
   ]
  },
  {
   "cell_type": "markdown",
   "metadata": {},
   "source": [
    "## Layer activations"
   ]
  },
  {
   "cell_type": "code",
   "execution_count": 132,
   "metadata": {},
   "outputs": [],
   "source": [
    "#---Activation profiles---#\n",
    "\n",
    "#Add a fordard_hook to each layer to record all the activations\n",
    "acts = []\n",
    "\n",
    "def activation_hook(module, input, output):\n",
    "    acts.append(output.detach())\n",
    "\n",
    "#Add hook to each layer\n",
    "for layer in net.hid_layers:\n",
    "    layer.register_forward_hook(activation_hook)"
   ]
  },
  {
   "cell_type": "code",
   "execution_count": 133,
   "metadata": {},
   "outputs": [
    {
     "name": "stderr",
     "output_type": "stream",
     "text": [
      "<ipython-input-133-c432541d63a9>:1: UserWarning: To copy construct from a tensor, it is recommended to use sourceTensor.clone().detach() or sourceTensor.clone().detach().requires_grad_(True), rather than torch.tensor(sourceTensor).\n",
      "  y_test = net(torch.tensor(x_vec).unsqueeze(1))\n"
     ]
    },
    {
     "data": {
      "text/plain": [
       "torch.Size([100, 1, 1])"
      ]
     },
     "execution_count": 133,
     "metadata": {},
     "output_type": "execute_result"
    }
   ],
   "source": [
    "y_test = net(torch.tensor(x_vec).unsqueeze(1))\n"
   ]
  },
  {
   "cell_type": "code",
   "execution_count": 142,
   "metadata": {},
   "outputs": [
    {
     "data": {
      "text/plain": [
       "torch.Size([100, 1, 50])"
      ]
     },
     "execution_count": 142,
     "metadata": {},
     "output_type": "execute_result"
    }
   ],
   "source": [
    "acts[0].shape"
   ]
  },
  {
   "cell_type": "code",
   "execution_count": 152,
   "metadata": {},
   "outputs": [
    {
     "data": {
      "image/png": "[encoded data removed]",
      "text/plain": [
       "<Figure size 720x720 with 2 Axes>"
      ]
     },
     "metadata": {
      "needs_background": "light"
     },
     "output_type": "display_data"
    }
   ],
   "source": [
    "fig, axes = plt.subplots(2,1, figsize = (10,10))\n",
    "for act,ax in zip(acts,axes.flatten()):\n",
    "    ax.plot(x_vec,act.reshape(act.shape[0],act.shape[2]))"
   ]
  },
  {
   "cell_type": "markdown",
   "metadata": {},
   "source": [
    "## Weight visualization"
   ]
  },
  {
   "cell_type": "code",
   "execution_count": 158,
   "metadata": {},
   "outputs": [
    {
     "data": {
      "image/png": "[encoded data removed]",
      "text/plain": [
       "<Figure size 720x720 with 2 Axes>"
      ]
     },
     "metadata": {
      "needs_background": "light"
     },
     "output_type": "display_data"
    }
   ],
   "source": [
    "fig, axes = plt.subplots(2,1, figsize = (10,10))\n",
    "for layer,ax in zip(net.hid_layers,axes.flatten()):\n",
    "    ax.hist(layer.weight.detach().numpy().flatten())"
   ]
  },
  {
   "cell_type": "markdown",
   "metadata": {},
   "source": [
    "## GridSearch"
   ]
  },
  {
   "cell_type": "code",
   "execution_count": null,
   "metadata": {},
   "outputs": [],
   "source": [
    "params = {\n",
    "    'lr': np.arange(0.01,1,0.09),\n",
    "    'module__N_hid' : [[i,j] for i in np.arange(2,120,20) for j in np.arange(2,120,20)],\n",
    "}\n",
    "\n",
    "rs = RandomizedSearchCV(estimator = net_skorch, \n",
    "                   param_distributions = params, \n",
    "                   cv = 5, n_iter = 100)\n",
    "rs.fit(input_data, label_data)\n",
    "print(rs.best_score_, rs.best_params_)"
   ]
  },
  {
   "cell_type": "markdown",
   "metadata": {
    "id": "SxW5QfJRvWV9"
   },
   "source": [
    "# Classification task"
   ]
  },
  {
   "cell_type": "markdown",
   "metadata": {
    "id": "cPTFyWeOyiR-"
   },
   "source": [
    "## Guidelines"
   ]
  },
  {
   "cell_type": "markdown",
   "metadata": {
    "id": "m8E-82AGylxj"
   },
   "source": [
    "* The goal is to train a neural network that maps an input image (from fashionMNIST) to one of ten classes (multi-class classification problem with mutually exclusive classes).\n",
    "* Define a proper loss (e.g. [torch.nn.CrossEntropyLoss](https://pytorch.org/docs/stable/generated/torch.nn.CrossEntropyLoss.html#torch.nn.CrossEntropyLoss))\n",
    "* Also here, consider to create a validation set from you training data, or use a k-fold cross-validation strategy.\n",
    "* Pay attention to the shape, data type and output values range. If needed, modify them accordingly to your implementation (read carefully the documentation of the layers that you use, e.g. [torch.nn.Conv2d](https://pytorch.org/docs/stable/generated/torch.nn.Conv2d.html)).\n",
    "* Explore different optimizers, acivation functions, network architectures. Analyze the effect of different regularization methods, such as dropout layers, random transformations (image rotation, scaling, add noise...) or L2 regularization (weight decay)."
   ]
  },
  {
   "cell_type": "markdown",
   "metadata": {
    "id": "rsvBiTw7ykT5"
   },
   "source": [
    "## Dataset"
   ]
  },
  {
   "cell_type": "code",
   "execution_count": 2,
   "metadata": {
    "id": "lrkanzKpwaFJ"
   },
   "outputs": [],
   "source": [
    "import torch\n",
    "import torchvision\n",
    "import matplotlib.pyplot as plt\n",
    "import numpy as np\n",
    "from sklearn.metrics import confusion_matrix\n",
    "from sklearn.metrics import plot_confusion_matrix\n",
    "\n",
    "from torch.nn.functional import one_hot"
   ]
  },
  {
   "cell_type": "markdown",
   "metadata": {
    "id": "EYaGs-I_zRk-"
   },
   "source": [
    "Download the dataset:"
   ]
  },
  {
   "cell_type": "code",
   "execution_count": 3,
   "metadata": {
    "colab": {
     "base_uri": "https://localhost:8080/",
     "height": 467,
     "referenced_widgets": [
      "32e794677d834420bdb9c664cff6f7cc",
      "acac05934e5647e8ad42893b8a6c10d1",
      "cf57be0a6c7340ca8b54e0809ba0fbc9",
      "7b8fe897f59046e68eb75a8cdd5e92de",
      "d9277c7a992c4f9491530f6d443fc68e",
      "9db22c25d6474d8288fa40aad726393d",
      "dec4e52f4ae04b298abc0f125c300534",
      "827906e0ccbc4881922c18683a4e97bb",
      "28234bab3d1d43aea0e50d1245cd16f2",
      "c8805dcf332245e18439d109c50466d2",
      "b39d8e8b9e1647449544903cc5a2ba34",
      "b1d7c852c19d4178974246cef1db19ca",
      "77f5bffcf0494c3db33df30552e15b8e",
      "182a074481514dbc9f92a1a31923be73",
      "0ca774af453d49e586dd4ac4fdac9663",
      "3129bcbfd8ad40cb8797f60fe984fe3c",
      "f0e07a02ccce46caaccca01b8fa93686",
      "65abcefd8e25405aa5006179d335d2c5",
      "beeeefdc08e24464ba4369da9cd7faea",
      "abdc7c640853476eb2bd1f4edbbe9d24",
      "c0494a7e04d549b5a9323fa43d9ad3b2",
      "72ad719dc306468cb506250d92f570ae",
      "54fd73e547ed43639e80285963517549",
      "f38390085e504e048e77154395244471",
      "6d9710d95a8247a5b7bc391a2350e55c",
      "ead636b58dfc422596f2e5e53119c830",
      "4c06f483297d47a2a1f81d3dde6007b5",
      "1329211232b54ee48ee7b37e38a0416f",
      "f311b7a94b244f87b5badd6824089d38",
      "108907707fb246c6aa2eb0055f22b6ad",
      "99a1e802632c4a1ab0976776641fce8c",
      "4725b0ab205e4520a3ad0004728ac82c",
      "eaf3615362384da3961655307f87bc3a",
      "b1c6d5b7f8504d84a9782a36e6491712",
      "df911c163a5a49f982caafcbced21920",
      "24139599cc964b0283c787010d446db3",
      "7904076e1ed94fe7ae911266d6f7cc29",
      "8b5cad589d3e4d65a86420980287059a",
      "60f1c19eede14af189bcd752f09e0b2e",
      "672dd44117534a09b867291ac9f70974",
      "cd2038d9851a4a4d8c7e107edf02cca1",
      "1fbf8bf7242b415c9cccda738b25ed04",
      "a68d8cc7829f45718e72751c24dc728f",
      "6cdcb148e8a446be913504e4d9e16634"
     ]
    },
    "id": "6wRuRn08zVO9",
    "outputId": "4339f423-432c-43b4-e41e-323165e22cd4",
    "scrolled": true
   },
   "outputs": [],
   "source": [
    "train_dataset = torchvision.datasets.FashionMNIST('classifier_data', train=True, download=True)\n",
    "test_dataset  = torchvision.datasets.FashionMNIST('classifier_data', train=False, download=True)\n",
    "y_train = np.array([y for x, y in iter(train_dataset)])"
   ]
  },
  {
   "cell_type": "markdown",
   "metadata": {
    "id": "IUIZu5YpzMT9"
   },
   "source": [
    "How to get an image and the corresponding label:"
   ]
  },
  {
   "cell_type": "code",
   "execution_count": 4,
   "metadata": {
    "colab": {
     "base_uri": "https://localhost:8080/",
     "height": 517
    },
    "id": "SGXmy4mNwfk4",
    "outputId": "0eb1ac12-8be0-4bab-ff62-5e58b28c65a0"
   },
   "outputs": [
    {
     "name": "stdout",
     "output_type": "stream",
     "text": [
      "SAMPLE AT INDEX 0\n",
      "LABEL: 9\n"
     ]
    },
    {
     "data": {
      "image/png": "[encoded data removed]",
      "text/plain": [
       "<Figure size 576x576 with 1 Axes>"
      ]
     },
     "metadata": {
      "needs_background": "light"
     },
     "output_type": "display_data"
    }
   ],
   "source": [
    "sample_index = 0\n",
    "image = train_dataset[sample_index][0]\n",
    "label = train_dataset[sample_index][1]\n",
    "\n",
    "fig = plt.figure(figsize=(8,8))\n",
    "plt.imshow(image, cmap='Greys')\n",
    "print(f\"SAMPLE AT INDEX {sample_index}\")\n",
    "print(f\"LABEL: {label}\")"
   ]
  },
  {
   "cell_type": "code",
   "execution_count": 5,
   "metadata": {},
   "outputs": [
    {
     "data": {
      "text/plain": [
       "(28, 28)"
      ]
     },
     "execution_count": 5,
     "metadata": {},
     "output_type": "execute_result"
    }
   ],
   "source": [
    "np.array(image).shape"
   ]
  },
  {
   "cell_type": "markdown",
   "metadata": {
    "id": "1SesSIfKyzMJ"
   },
   "source": [
    "The output of the dataset is a PIL Image, a python object specifically developed to manage and process images. PyTorch supports this format, and there are useful transforms available natively in the framework: https://pytorch.org/docs/stable/torchvision/transforms.html\n",
    "\n",
    "If you want, you can easily convert a PIL image to a numpy array and entirely ignore the PIL object:"
   ]
  },
  {
   "cell_type": "code",
   "execution_count": 6,
   "metadata": {
    "colab": {
     "base_uri": "https://localhost:8080/"
    },
    "id": "ezDSC_cCxK6y",
    "outputId": "9c65be12-c2e7-46ca-a882-33f3406268be"
   },
   "outputs": [
    {
     "name": "stdout",
     "output_type": "stream",
     "text": [
      "Numpy array shape: (28, 28)\n",
      "Numpy array type: uint8\n"
     ]
    }
   ],
   "source": [
    "image_numpy = np.array(image)\n",
    "\n",
    "print(f'Numpy array shape: {image_numpy.shape}')\n",
    "print(f'Numpy array type: {image_numpy.dtype}')"
   ]
  },
  {
   "cell_type": "markdown",
   "metadata": {
    "id": "cq4D90vE2cxm"
   },
   "source": [
    "To transform a PIL Image directly to a PyTorch tensor, instead:"
   ]
  },
  {
   "cell_type": "code",
   "execution_count": 7,
   "metadata": {
    "colab": {
     "base_uri": "https://localhost:8080/"
    },
    "id": "tCFlk263x0Aa",
    "outputId": "c67b1e26-9359-49a5-aa20-ec5a7f4b8b6d"
   },
   "outputs": [
    {
     "name": "stdout",
     "output_type": "stream",
     "text": [
      "PyTorch tensor shape: torch.Size([1, 28, 28])\n",
      "PyTorch tensor type: torch.float32\n"
     ]
    }
   ],
   "source": [
    "to_tensor = torchvision.transforms.ToTensor()\n",
    "image_tensor = to_tensor(image)\n",
    "\n",
    "print(f'PyTorch tensor shape: {image_tensor.shape}')\n",
    "print(f'PyTorch tensor type: {image_tensor.dtype}')"
   ]
  },
  {
   "cell_type": "markdown",
   "metadata": {},
   "source": [
    "## Models definition"
   ]
  },
  {
   "cell_type": "code",
   "execution_count": 13,
   "metadata": {},
   "outputs": [],
   "source": [
    "class ConvolutionalNet(nn.Module):\n",
    "    \"\"\"\n",
    "    Network with customizable set of hidden layers\n",
    "    \"\"\"\n",
    "    def __init__(self,  dropout=0, act_func=nn.ReLU(), linear_size = 15, conv0_size = 18, conv1_size = 9, kernel_size_pooling=2):\n",
    "        \"\"\"\n",
    "        Initialization function for the network\n",
    "        \n",
    "        Parameters\n",
    "        ----------\n",
    "        \n",
    "        N_in: Input layer size\n",
    "        N_out: Output layer size\n",
    "        N_hid: Array containing sizes of hidden layers\n",
    "        act_func: Activation function\n",
    "        dropout: Activate dropout between hidden layers\n",
    "        \n",
    "\n",
    "        (c_out,(h_in+2*padding-dilation*(kernel_size-1)-1)/stride+1,(w_in+2*padding-dilation*(kernel_size-1)-1)/stride+1)\n",
    "        \"\"\"\n",
    "        super(ConvolutionalNet,self).__init__()\n",
    "        \n",
    "        self.kernel_size0 = 2\n",
    "        self.padding0 = 1\n",
    "        self.stride0 = 2\n",
    "        self.dilation0 = 1\n",
    "\n",
    "        self.kernel_size1 = 3\n",
    "        self.padding1 = 1\n",
    "        self.stride1 = 2\n",
    "        self.dilation1 = 1\n",
    "        \n",
    "        self.kernel_size_pooling = kernel_size_pooling\n",
    "        \n",
    "        self.linear_size = linear_size\n",
    "        self.conv0_size = conv0_size\n",
    "        self.conv1_size = conv1_size     \n",
    "        self.act_func = act_func\n",
    "        self.final_func = nn.Softmax(dim=1)\n",
    "        self.N_out= 10\n",
    "        self.dropout = dropout\n",
    "        self.dropout_func = nn.Dropout(self.dropout)\n",
    "\n",
    "        self.conv0 = nn.Conv2d(1,self.conv0_size,kernel_size=self.kernel_size0,padding=self.padding0,stride=self.stride0,dilation=self.dilation0) #(1,28,28) -> (self.conv0_size,15,15)\n",
    "        \n",
    "        self.conv1 = nn.Conv2d(self.conv0_size,self.conv1_size,kernel_size=self.kernel_size1,padding=self.padding1,stride=self.stride1,dilation=self.dilation1) #(self.conv0_size,15,15) -> (self.conv1_size,8,8)\n",
    "\n",
    "        self.max_pool = nn.MaxPool2d(kernel_size=self.kernel_size_pooling) #(self.conv1_size,8,8)->(self.conv1_size,4,4)\n",
    "\n",
    "        self.lin_layer = nn.Linear(in_features=self.conv1_size*4*4, out_features=self.linear_size)          \n",
    "        self.out_layer = nn.Linear(in_features=self.linear_size, out_features=self.N_out)\n",
    "        \n",
    "        print('Network initialized')\n",
    "        \n",
    "    def forward(self, x):\n",
    "        \n",
    "        x = self.conv0(x)\n",
    "        x = self.act_func(x)\n",
    "                \n",
    "        x = self.conv1(x)\n",
    "        x = self.act_func(x)\n",
    "        \n",
    "        x = self.max_pool(x)\n",
    "        \n",
    "        x = self.dropout_func(x)\n",
    "\n",
    "        x = x.view(-1,self.conv1_size*4*4)\n",
    "        x = self.lin_layer(x)\n",
    "        x = self.act_func(x)\n",
    "        \n",
    "        x = self.out_layer(x)\n",
    "        \n",
    "        x = self.final_func(x)\n",
    "        return x"
   ]
  },
  {
   "cell_type": "markdown",
   "metadata": {},
   "source": [
    "## Model implementation"
   ]
  },
  {
   "cell_type": "code",
   "execution_count": 14,
   "metadata": {
    "scrolled": true
   },
   "outputs": [
    {
     "name": "stdout",
     "output_type": "stream",
     "text": [
      "Network initialized\n"
     ]
    }
   ],
   "source": [
    "torch.manual_seed(0)\n",
    "classifierNet = ConvolutionalNet()\n",
    "\n",
    "net_skorch = NeuralNetClassifier(\n",
    "            module=classifierNet,\n",
    "            module__act_func=nn.ReLU(),\n",
    "            criterion= nn.CrossEntropyLoss,\n",
    "            max_epochs=50,\n",
    "            optimizer__lr = 1e-3,\n",
    "            module__linear_size=16,\n",
    "            optimizer = optim.Adam,\n",
    "            batch_size = 1000,          \n",
    "            # train validation\n",
    "#            device='cuda',  # uncomment this to train with CUDA\n",
    ")"
   ]
  },
  {
   "cell_type": "markdown",
   "metadata": {},
   "source": [
    "## Notes"
   ]
  },
  {
   "cell_type": "markdown",
   "metadata": {},
   "source": [
    "A kernel dilation is negleted since it would reduce consistently the output size. Linear layer size also seems to return good results if it corresponds to the current convolutional layer size. Padding 1 has been observed to be the best value for the first layer. With some values the learning seems to be stuck. Also large values of kernel size seems to be very inefficient during training.\n",
    "\n",
    "Max Pooling doesn't seems to help much. Up to now the best architecture is built as two convolutional layer and a linear one"
   ]
  },
  {
   "cell_type": "markdown",
   "metadata": {},
   "source": [
    "## Dataset instantiation"
   ]
  },
  {
   "cell_type": "code",
   "execution_count": 10,
   "metadata": {},
   "outputs": [
    {
     "name": "stderr",
     "output_type": "stream",
     "text": [
      "C:\\Users\\Filippo\\anaconda3\\envs\\torch\\lib\\site-packages\\torchvision\\datasets\\mnist.py:62: UserWarning: train_data has been renamed data\n",
      "  warnings.warn(\"train_data has been renamed data\")\n",
      "C:\\Users\\Filippo\\anaconda3\\envs\\torch\\lib\\site-packages\\torchvision\\datasets\\mnist.py:52: UserWarning: train_labels has been renamed targets\n",
      "  warnings.warn(\"train_labels has been renamed targets\")\n"
     ]
    }
   ],
   "source": [
    "input_data = train_dataset.train_data.type(torch.float32).reshape(60000,1,28,28)\n",
    "label_data = train_dataset.train_labels.type(torch.int64).reshape(60000)"
   ]
  },
  {
   "cell_type": "markdown",
   "metadata": {},
   "source": [
    "## Gridsearch"
   ]
  },
  {
   "cell_type": "code",
   "execution_count": 11,
   "metadata": {},
   "outputs": [
    {
     "name": "stdout",
     "output_type": "stream",
     "text": [
      "Re-initializing module because the following parameters were re-set: N_hid, act_func, linear_size.\n"
     ]
    },
    {
     "ename": "TypeError",
     "evalue": "__init__() got an unexpected keyword argument 'N_hid'",
     "output_type": "error",
     "traceback": [
      "\u001b[1;31m---------------------------------------------------------------------------\u001b[0m",
      "\u001b[1;31mTypeError\u001b[0m                                 Traceback (most recent call last)",
      "\u001b[1;32m<ipython-input-11-41b6dbe6b85a>\u001b[0m in \u001b[0;36m<module>\u001b[1;34m\u001b[0m\n\u001b[0;32m      7\u001b[0m                    \u001b[0mparam_distributions\u001b[0m \u001b[1;33m=\u001b[0m \u001b[0mparams\u001b[0m\u001b[1;33m,\u001b[0m\u001b[1;33m\u001b[0m\u001b[1;33m\u001b[0m\u001b[0m\n\u001b[0;32m      8\u001b[0m                    cv = 5, n_iter = 500)\n\u001b[1;32m----> 9\u001b[1;33m \u001b[0mrs\u001b[0m\u001b[1;33m.\u001b[0m\u001b[0mfit\u001b[0m\u001b[1;33m(\u001b[0m\u001b[0minput_data\u001b[0m\u001b[1;33m,\u001b[0m \u001b[0mlabel_data\u001b[0m\u001b[1;33m)\u001b[0m\u001b[1;33m\u001b[0m\u001b[1;33m\u001b[0m\u001b[0m\n\u001b[0m\u001b[0;32m     10\u001b[0m \u001b[0mprint\u001b[0m\u001b[1;33m(\u001b[0m\u001b[0mrs\u001b[0m\u001b[1;33m.\u001b[0m\u001b[0mbest_score_\u001b[0m\u001b[1;33m,\u001b[0m \u001b[0mrs\u001b[0m\u001b[1;33m.\u001b[0m\u001b[0mbest_params_\u001b[0m\u001b[1;33m)\u001b[0m\u001b[1;33m\u001b[0m\u001b[1;33m\u001b[0m\u001b[0m\n",
      "\u001b[1;32m~\\anaconda3\\envs\\torch\\lib\\site-packages\\sklearn\\utils\\validation.py\u001b[0m in \u001b[0;36minner_f\u001b[1;34m(*args, **kwargs)\u001b[0m\n\u001b[0;32m     61\u001b[0m             \u001b[0mextra_args\u001b[0m \u001b[1;33m=\u001b[0m \u001b[0mlen\u001b[0m\u001b[1;33m(\u001b[0m\u001b[0margs\u001b[0m\u001b[1;33m)\u001b[0m \u001b[1;33m-\u001b[0m \u001b[0mlen\u001b[0m\u001b[1;33m(\u001b[0m\u001b[0mall_args\u001b[0m\u001b[1;33m)\u001b[0m\u001b[1;33m\u001b[0m\u001b[1;33m\u001b[0m\u001b[0m\n\u001b[0;32m     62\u001b[0m             \u001b[1;32mif\u001b[0m \u001b[0mextra_args\u001b[0m \u001b[1;33m<=\u001b[0m \u001b[1;36m0\u001b[0m\u001b[1;33m:\u001b[0m\u001b[1;33m\u001b[0m\u001b[1;33m\u001b[0m\u001b[0m\n\u001b[1;32m---> 63\u001b[1;33m                 \u001b[1;32mreturn\u001b[0m \u001b[0mf\u001b[0m\u001b[1;33m(\u001b[0m\u001b[1;33m*\u001b[0m\u001b[0margs\u001b[0m\u001b[1;33m,\u001b[0m \u001b[1;33m**\u001b[0m\u001b[0mkwargs\u001b[0m\u001b[1;33m)\u001b[0m\u001b[1;33m\u001b[0m\u001b[1;33m\u001b[0m\u001b[0m\n\u001b[0m\u001b[0;32m     64\u001b[0m \u001b[1;33m\u001b[0m\u001b[0m\n\u001b[0;32m     65\u001b[0m             \u001b[1;31m# extra_args > 0\u001b[0m\u001b[1;33m\u001b[0m\u001b[1;33m\u001b[0m\u001b[1;33m\u001b[0m\u001b[0m\n",
      "\u001b[1;32m~\\anaconda3\\envs\\torch\\lib\\site-packages\\sklearn\\model_selection\\_search.py\u001b[0m in \u001b[0;36mfit\u001b[1;34m(self, X, y, groups, **fit_params)\u001b[0m\n\u001b[0;32m    839\u001b[0m                 \u001b[1;32mreturn\u001b[0m \u001b[0mresults\u001b[0m\u001b[1;33m\u001b[0m\u001b[1;33m\u001b[0m\u001b[0m\n\u001b[0;32m    840\u001b[0m \u001b[1;33m\u001b[0m\u001b[0m\n\u001b[1;32m--> 841\u001b[1;33m             \u001b[0mself\u001b[0m\u001b[1;33m.\u001b[0m\u001b[0m_run_search\u001b[0m\u001b[1;33m(\u001b[0m\u001b[0mevaluate_candidates\u001b[0m\u001b[1;33m)\u001b[0m\u001b[1;33m\u001b[0m\u001b[1;33m\u001b[0m\u001b[0m\n\u001b[0m\u001b[0;32m    842\u001b[0m \u001b[1;33m\u001b[0m\u001b[0m\n\u001b[0;32m    843\u001b[0m             \u001b[1;31m# multimetric is determined here because in the case of a callable\u001b[0m\u001b[1;33m\u001b[0m\u001b[1;33m\u001b[0m\u001b[1;33m\u001b[0m\u001b[0m\n",
      "\u001b[1;32m~\\anaconda3\\envs\\torch\\lib\\site-packages\\sklearn\\model_selection\\_search.py\u001b[0m in \u001b[0;36m_run_search\u001b[1;34m(self, evaluate_candidates)\u001b[0m\n\u001b[0;32m   1617\u001b[0m     \u001b[1;32mdef\u001b[0m \u001b[0m_run_search\u001b[0m\u001b[1;33m(\u001b[0m\u001b[0mself\u001b[0m\u001b[1;33m,\u001b[0m \u001b[0mevaluate_candidates\u001b[0m\u001b[1;33m)\u001b[0m\u001b[1;33m:\u001b[0m\u001b[1;33m\u001b[0m\u001b[1;33m\u001b[0m\u001b[0m\n\u001b[0;32m   1618\u001b[0m         \u001b[1;34m\"\"\"Search n_iter candidates from param_distributions\"\"\"\u001b[0m\u001b[1;33m\u001b[0m\u001b[1;33m\u001b[0m\u001b[0m\n\u001b[1;32m-> 1619\u001b[1;33m         evaluate_candidates(ParameterSampler(\n\u001b[0m\u001b[0;32m   1620\u001b[0m             \u001b[0mself\u001b[0m\u001b[1;33m.\u001b[0m\u001b[0mparam_distributions\u001b[0m\u001b[1;33m,\u001b[0m \u001b[0mself\u001b[0m\u001b[1;33m.\u001b[0m\u001b[0mn_iter\u001b[0m\u001b[1;33m,\u001b[0m\u001b[1;33m\u001b[0m\u001b[1;33m\u001b[0m\u001b[0m\n\u001b[0;32m   1621\u001b[0m             random_state=self.random_state))\n",
      "\u001b[1;32m~\\anaconda3\\envs\\torch\\lib\\site-packages\\sklearn\\model_selection\\_search.py\u001b[0m in \u001b[0;36mevaluate_candidates\u001b[1;34m(candidate_params, cv, more_results)\u001b[0m\n\u001b[0;32m    793\u001b[0m                               n_splits, n_candidates, n_candidates * n_splits))\n\u001b[0;32m    794\u001b[0m \u001b[1;33m\u001b[0m\u001b[0m\n\u001b[1;32m--> 795\u001b[1;33m                 out = parallel(delayed(_fit_and_score)(clone(base_estimator),\n\u001b[0m\u001b[0;32m    796\u001b[0m                                                        \u001b[0mX\u001b[0m\u001b[1;33m,\u001b[0m \u001b[0my\u001b[0m\u001b[1;33m,\u001b[0m\u001b[1;33m\u001b[0m\u001b[1;33m\u001b[0m\u001b[0m\n\u001b[0;32m    797\u001b[0m                                                        \u001b[0mtrain\u001b[0m\u001b[1;33m=\u001b[0m\u001b[0mtrain\u001b[0m\u001b[1;33m,\u001b[0m \u001b[0mtest\u001b[0m\u001b[1;33m=\u001b[0m\u001b[0mtest\u001b[0m\u001b[1;33m,\u001b[0m\u001b[1;33m\u001b[0m\u001b[1;33m\u001b[0m\u001b[0m\n",
      "\u001b[1;32m~\\anaconda3\\envs\\torch\\lib\\site-packages\\joblib\\parallel.py\u001b[0m in \u001b[0;36m__call__\u001b[1;34m(self, iterable)\u001b[0m\n\u001b[0;32m   1039\u001b[0m             \u001b[1;31m# remaining jobs.\u001b[0m\u001b[1;33m\u001b[0m\u001b[1;33m\u001b[0m\u001b[1;33m\u001b[0m\u001b[0m\n\u001b[0;32m   1040\u001b[0m             \u001b[0mself\u001b[0m\u001b[1;33m.\u001b[0m\u001b[0m_iterating\u001b[0m \u001b[1;33m=\u001b[0m \u001b[1;32mFalse\u001b[0m\u001b[1;33m\u001b[0m\u001b[1;33m\u001b[0m\u001b[0m\n\u001b[1;32m-> 1041\u001b[1;33m             \u001b[1;32mif\u001b[0m \u001b[0mself\u001b[0m\u001b[1;33m.\u001b[0m\u001b[0mdispatch_one_batch\u001b[0m\u001b[1;33m(\u001b[0m\u001b[0miterator\u001b[0m\u001b[1;33m)\u001b[0m\u001b[1;33m:\u001b[0m\u001b[1;33m\u001b[0m\u001b[1;33m\u001b[0m\u001b[0m\n\u001b[0m\u001b[0;32m   1042\u001b[0m                 \u001b[0mself\u001b[0m\u001b[1;33m.\u001b[0m\u001b[0m_iterating\u001b[0m \u001b[1;33m=\u001b[0m \u001b[0mself\u001b[0m\u001b[1;33m.\u001b[0m\u001b[0m_original_iterator\u001b[0m \u001b[1;32mis\u001b[0m \u001b[1;32mnot\u001b[0m \u001b[1;32mNone\u001b[0m\u001b[1;33m\u001b[0m\u001b[1;33m\u001b[0m\u001b[0m\n\u001b[0;32m   1043\u001b[0m \u001b[1;33m\u001b[0m\u001b[0m\n",
      "\u001b[1;32m~\\anaconda3\\envs\\torch\\lib\\site-packages\\joblib\\parallel.py\u001b[0m in \u001b[0;36mdispatch_one_batch\u001b[1;34m(self, iterator)\u001b[0m\n\u001b[0;32m    857\u001b[0m                 \u001b[1;32mreturn\u001b[0m \u001b[1;32mFalse\u001b[0m\u001b[1;33m\u001b[0m\u001b[1;33m\u001b[0m\u001b[0m\n\u001b[0;32m    858\u001b[0m             \u001b[1;32melse\u001b[0m\u001b[1;33m:\u001b[0m\u001b[1;33m\u001b[0m\u001b[1;33m\u001b[0m\u001b[0m\n\u001b[1;32m--> 859\u001b[1;33m                 \u001b[0mself\u001b[0m\u001b[1;33m.\u001b[0m\u001b[0m_dispatch\u001b[0m\u001b[1;33m(\u001b[0m\u001b[0mtasks\u001b[0m\u001b[1;33m)\u001b[0m\u001b[1;33m\u001b[0m\u001b[1;33m\u001b[0m\u001b[0m\n\u001b[0m\u001b[0;32m    860\u001b[0m                 \u001b[1;32mreturn\u001b[0m \u001b[1;32mTrue\u001b[0m\u001b[1;33m\u001b[0m\u001b[1;33m\u001b[0m\u001b[0m\n\u001b[0;32m    861\u001b[0m \u001b[1;33m\u001b[0m\u001b[0m\n",
      "\u001b[1;32m~\\anaconda3\\envs\\torch\\lib\\site-packages\\joblib\\parallel.py\u001b[0m in \u001b[0;36m_dispatch\u001b[1;34m(self, batch)\u001b[0m\n\u001b[0;32m    775\u001b[0m         \u001b[1;32mwith\u001b[0m \u001b[0mself\u001b[0m\u001b[1;33m.\u001b[0m\u001b[0m_lock\u001b[0m\u001b[1;33m:\u001b[0m\u001b[1;33m\u001b[0m\u001b[1;33m\u001b[0m\u001b[0m\n\u001b[0;32m    776\u001b[0m             \u001b[0mjob_idx\u001b[0m \u001b[1;33m=\u001b[0m \u001b[0mlen\u001b[0m\u001b[1;33m(\u001b[0m\u001b[0mself\u001b[0m\u001b[1;33m.\u001b[0m\u001b[0m_jobs\u001b[0m\u001b[1;33m)\u001b[0m\u001b[1;33m\u001b[0m\u001b[1;33m\u001b[0m\u001b[0m\n\u001b[1;32m--> 777\u001b[1;33m             \u001b[0mjob\u001b[0m \u001b[1;33m=\u001b[0m \u001b[0mself\u001b[0m\u001b[1;33m.\u001b[0m\u001b[0m_backend\u001b[0m\u001b[1;33m.\u001b[0m\u001b[0mapply_async\u001b[0m\u001b[1;33m(\u001b[0m\u001b[0mbatch\u001b[0m\u001b[1;33m,\u001b[0m \u001b[0mcallback\u001b[0m\u001b[1;33m=\u001b[0m\u001b[0mcb\u001b[0m\u001b[1;33m)\u001b[0m\u001b[1;33m\u001b[0m\u001b[1;33m\u001b[0m\u001b[0m\n\u001b[0m\u001b[0;32m    778\u001b[0m             \u001b[1;31m# A job can complete so quickly than its callback is\u001b[0m\u001b[1;33m\u001b[0m\u001b[1;33m\u001b[0m\u001b[1;33m\u001b[0m\u001b[0m\n\u001b[0;32m    779\u001b[0m             \u001b[1;31m# called before we get here, causing self._jobs to\u001b[0m\u001b[1;33m\u001b[0m\u001b[1;33m\u001b[0m\u001b[1;33m\u001b[0m\u001b[0m\n",
      "\u001b[1;32m~\\anaconda3\\envs\\torch\\lib\\site-packages\\joblib\\_parallel_backends.py\u001b[0m in \u001b[0;36mapply_async\u001b[1;34m(self, func, callback)\u001b[0m\n\u001b[0;32m    206\u001b[0m     \u001b[1;32mdef\u001b[0m \u001b[0mapply_async\u001b[0m\u001b[1;33m(\u001b[0m\u001b[0mself\u001b[0m\u001b[1;33m,\u001b[0m \u001b[0mfunc\u001b[0m\u001b[1;33m,\u001b[0m \u001b[0mcallback\u001b[0m\u001b[1;33m=\u001b[0m\u001b[1;32mNone\u001b[0m\u001b[1;33m)\u001b[0m\u001b[1;33m:\u001b[0m\u001b[1;33m\u001b[0m\u001b[1;33m\u001b[0m\u001b[0m\n\u001b[0;32m    207\u001b[0m         \u001b[1;34m\"\"\"Schedule a func to be run\"\"\"\u001b[0m\u001b[1;33m\u001b[0m\u001b[1;33m\u001b[0m\u001b[0m\n\u001b[1;32m--> 208\u001b[1;33m         \u001b[0mresult\u001b[0m \u001b[1;33m=\u001b[0m \u001b[0mImmediateResult\u001b[0m\u001b[1;33m(\u001b[0m\u001b[0mfunc\u001b[0m\u001b[1;33m)\u001b[0m\u001b[1;33m\u001b[0m\u001b[1;33m\u001b[0m\u001b[0m\n\u001b[0m\u001b[0;32m    209\u001b[0m         \u001b[1;32mif\u001b[0m \u001b[0mcallback\u001b[0m\u001b[1;33m:\u001b[0m\u001b[1;33m\u001b[0m\u001b[1;33m\u001b[0m\u001b[0m\n\u001b[0;32m    210\u001b[0m             \u001b[0mcallback\u001b[0m\u001b[1;33m(\u001b[0m\u001b[0mresult\u001b[0m\u001b[1;33m)\u001b[0m\u001b[1;33m\u001b[0m\u001b[1;33m\u001b[0m\u001b[0m\n",
      "\u001b[1;32m~\\anaconda3\\envs\\torch\\lib\\site-packages\\joblib\\_parallel_backends.py\u001b[0m in \u001b[0;36m__init__\u001b[1;34m(self, batch)\u001b[0m\n\u001b[0;32m    570\u001b[0m         \u001b[1;31m# Don't delay the application, to avoid keeping the input\u001b[0m\u001b[1;33m\u001b[0m\u001b[1;33m\u001b[0m\u001b[1;33m\u001b[0m\u001b[0m\n\u001b[0;32m    571\u001b[0m         \u001b[1;31m# arguments in memory\u001b[0m\u001b[1;33m\u001b[0m\u001b[1;33m\u001b[0m\u001b[1;33m\u001b[0m\u001b[0m\n\u001b[1;32m--> 572\u001b[1;33m         \u001b[0mself\u001b[0m\u001b[1;33m.\u001b[0m\u001b[0mresults\u001b[0m \u001b[1;33m=\u001b[0m \u001b[0mbatch\u001b[0m\u001b[1;33m(\u001b[0m\u001b[1;33m)\u001b[0m\u001b[1;33m\u001b[0m\u001b[1;33m\u001b[0m\u001b[0m\n\u001b[0m\u001b[0;32m    573\u001b[0m \u001b[1;33m\u001b[0m\u001b[0m\n\u001b[0;32m    574\u001b[0m     \u001b[1;32mdef\u001b[0m \u001b[0mget\u001b[0m\u001b[1;33m(\u001b[0m\u001b[0mself\u001b[0m\u001b[1;33m)\u001b[0m\u001b[1;33m:\u001b[0m\u001b[1;33m\u001b[0m\u001b[1;33m\u001b[0m\u001b[0m\n",
      "\u001b[1;32m~\\anaconda3\\envs\\torch\\lib\\site-packages\\joblib\\parallel.py\u001b[0m in \u001b[0;36m__call__\u001b[1;34m(self)\u001b[0m\n\u001b[0;32m    260\u001b[0m         \u001b[1;31m# change the default number of processes to -1\u001b[0m\u001b[1;33m\u001b[0m\u001b[1;33m\u001b[0m\u001b[1;33m\u001b[0m\u001b[0m\n\u001b[0;32m    261\u001b[0m         \u001b[1;32mwith\u001b[0m \u001b[0mparallel_backend\u001b[0m\u001b[1;33m(\u001b[0m\u001b[0mself\u001b[0m\u001b[1;33m.\u001b[0m\u001b[0m_backend\u001b[0m\u001b[1;33m,\u001b[0m \u001b[0mn_jobs\u001b[0m\u001b[1;33m=\u001b[0m\u001b[0mself\u001b[0m\u001b[1;33m.\u001b[0m\u001b[0m_n_jobs\u001b[0m\u001b[1;33m)\u001b[0m\u001b[1;33m:\u001b[0m\u001b[1;33m\u001b[0m\u001b[1;33m\u001b[0m\u001b[0m\n\u001b[1;32m--> 262\u001b[1;33m             return [func(*args, **kwargs)\n\u001b[0m\u001b[0;32m    263\u001b[0m                     for func, args, kwargs in self.items]\n\u001b[0;32m    264\u001b[0m \u001b[1;33m\u001b[0m\u001b[0m\n",
      "\u001b[1;32m~\\anaconda3\\envs\\torch\\lib\\site-packages\\joblib\\parallel.py\u001b[0m in \u001b[0;36m<listcomp>\u001b[1;34m(.0)\u001b[0m\n\u001b[0;32m    260\u001b[0m         \u001b[1;31m# change the default number of processes to -1\u001b[0m\u001b[1;33m\u001b[0m\u001b[1;33m\u001b[0m\u001b[1;33m\u001b[0m\u001b[0m\n\u001b[0;32m    261\u001b[0m         \u001b[1;32mwith\u001b[0m \u001b[0mparallel_backend\u001b[0m\u001b[1;33m(\u001b[0m\u001b[0mself\u001b[0m\u001b[1;33m.\u001b[0m\u001b[0m_backend\u001b[0m\u001b[1;33m,\u001b[0m \u001b[0mn_jobs\u001b[0m\u001b[1;33m=\u001b[0m\u001b[0mself\u001b[0m\u001b[1;33m.\u001b[0m\u001b[0m_n_jobs\u001b[0m\u001b[1;33m)\u001b[0m\u001b[1;33m:\u001b[0m\u001b[1;33m\u001b[0m\u001b[1;33m\u001b[0m\u001b[0m\n\u001b[1;32m--> 262\u001b[1;33m             return [func(*args, **kwargs)\n\u001b[0m\u001b[0;32m    263\u001b[0m                     for func, args, kwargs in self.items]\n\u001b[0;32m    264\u001b[0m \u001b[1;33m\u001b[0m\u001b[0m\n",
      "\u001b[1;32m~\\anaconda3\\envs\\torch\\lib\\site-packages\\sklearn\\utils\\fixes.py\u001b[0m in \u001b[0;36m__call__\u001b[1;34m(self, *args, **kwargs)\u001b[0m\n\u001b[0;32m    220\u001b[0m     \u001b[1;32mdef\u001b[0m \u001b[0m__call__\u001b[0m\u001b[1;33m(\u001b[0m\u001b[0mself\u001b[0m\u001b[1;33m,\u001b[0m \u001b[1;33m*\u001b[0m\u001b[0margs\u001b[0m\u001b[1;33m,\u001b[0m \u001b[1;33m**\u001b[0m\u001b[0mkwargs\u001b[0m\u001b[1;33m)\u001b[0m\u001b[1;33m:\u001b[0m\u001b[1;33m\u001b[0m\u001b[1;33m\u001b[0m\u001b[0m\n\u001b[0;32m    221\u001b[0m         \u001b[1;32mwith\u001b[0m \u001b[0mconfig_context\u001b[0m\u001b[1;33m(\u001b[0m\u001b[1;33m**\u001b[0m\u001b[0mself\u001b[0m\u001b[1;33m.\u001b[0m\u001b[0mconfig\u001b[0m\u001b[1;33m)\u001b[0m\u001b[1;33m:\u001b[0m\u001b[1;33m\u001b[0m\u001b[1;33m\u001b[0m\u001b[0m\n\u001b[1;32m--> 222\u001b[1;33m             \u001b[1;32mreturn\u001b[0m \u001b[0mself\u001b[0m\u001b[1;33m.\u001b[0m\u001b[0mfunction\u001b[0m\u001b[1;33m(\u001b[0m\u001b[1;33m*\u001b[0m\u001b[0margs\u001b[0m\u001b[1;33m,\u001b[0m \u001b[1;33m**\u001b[0m\u001b[0mkwargs\u001b[0m\u001b[1;33m)\u001b[0m\u001b[1;33m\u001b[0m\u001b[1;33m\u001b[0m\u001b[0m\n\u001b[0m",
      "\u001b[1;32m~\\anaconda3\\envs\\torch\\lib\\site-packages\\sklearn\\model_selection\\_validation.py\u001b[0m in \u001b[0;36m_fit_and_score\u001b[1;34m(estimator, X, y, scorer, train, test, verbose, parameters, fit_params, return_train_score, return_parameters, return_n_test_samples, return_times, return_estimator, split_progress, candidate_progress, error_score)\u001b[0m\n\u001b[0;32m    579\u001b[0m             \u001b[0mcloned_parameters\u001b[0m\u001b[1;33m[\u001b[0m\u001b[0mk\u001b[0m\u001b[1;33m]\u001b[0m \u001b[1;33m=\u001b[0m \u001b[0mclone\u001b[0m\u001b[1;33m(\u001b[0m\u001b[0mv\u001b[0m\u001b[1;33m,\u001b[0m \u001b[0msafe\u001b[0m\u001b[1;33m=\u001b[0m\u001b[1;32mFalse\u001b[0m\u001b[1;33m)\u001b[0m\u001b[1;33m\u001b[0m\u001b[1;33m\u001b[0m\u001b[0m\n\u001b[0;32m    580\u001b[0m \u001b[1;33m\u001b[0m\u001b[0m\n\u001b[1;32m--> 581\u001b[1;33m         \u001b[0mestimator\u001b[0m \u001b[1;33m=\u001b[0m \u001b[0mestimator\u001b[0m\u001b[1;33m.\u001b[0m\u001b[0mset_params\u001b[0m\u001b[1;33m(\u001b[0m\u001b[1;33m**\u001b[0m\u001b[0mcloned_parameters\u001b[0m\u001b[1;33m)\u001b[0m\u001b[1;33m\u001b[0m\u001b[1;33m\u001b[0m\u001b[0m\n\u001b[0m\u001b[0;32m    582\u001b[0m \u001b[1;33m\u001b[0m\u001b[0m\n\u001b[0;32m    583\u001b[0m     \u001b[0mstart_time\u001b[0m \u001b[1;33m=\u001b[0m \u001b[0mtime\u001b[0m\u001b[1;33m.\u001b[0m\u001b[0mtime\u001b[0m\u001b[1;33m(\u001b[0m\u001b[1;33m)\u001b[0m\u001b[1;33m\u001b[0m\u001b[1;33m\u001b[0m\u001b[0m\n",
      "\u001b[1;32m~\\anaconda3\\envs\\torch\\lib\\site-packages\\skorch\\net.py\u001b[0m in \u001b[0;36mset_params\u001b[1;34m(self, **kwargs)\u001b[0m\n\u001b[0;32m   1628\u001b[0m         \u001b[0mmodule_triggers_optimizer_reinit\u001b[0m \u001b[1;33m=\u001b[0m \u001b[1;32mFalse\u001b[0m\u001b[1;33m\u001b[0m\u001b[1;33m\u001b[0m\u001b[0m\n\u001b[0;32m   1629\u001b[0m         \u001b[1;32mif\u001b[0m \u001b[0many\u001b[0m\u001b[1;33m(\u001b[0m\u001b[1;34m'module'\u001b[0m \u001b[1;32min\u001b[0m \u001b[0mkey\u001b[0m\u001b[1;33m.\u001b[0m\u001b[0msplit\u001b[0m\u001b[1;33m(\u001b[0m\u001b[1;34m'__'\u001b[0m\u001b[1;33m,\u001b[0m \u001b[1;36m1\u001b[0m\u001b[1;33m)\u001b[0m\u001b[1;33m[\u001b[0m\u001b[1;36m0\u001b[0m\u001b[1;33m]\u001b[0m \u001b[1;32mfor\u001b[0m \u001b[0mkey\u001b[0m \u001b[1;32min\u001b[0m \u001b[0mspecial_params\u001b[0m\u001b[1;33m)\u001b[0m\u001b[1;33m:\u001b[0m\u001b[1;33m\u001b[0m\u001b[1;33m\u001b[0m\u001b[0m\n\u001b[1;32m-> 1630\u001b[1;33m             \u001b[0mself\u001b[0m\u001b[1;33m.\u001b[0m\u001b[0minitialize_module\u001b[0m\u001b[1;33m(\u001b[0m\u001b[1;33m)\u001b[0m\u001b[1;33m\u001b[0m\u001b[1;33m\u001b[0m\u001b[0m\n\u001b[0m\u001b[0;32m   1631\u001b[0m             \u001b[0mmodule_triggers_optimizer_reinit\u001b[0m \u001b[1;33m=\u001b[0m \u001b[1;32mTrue\u001b[0m\u001b[1;33m\u001b[0m\u001b[1;33m\u001b[0m\u001b[0m\n\u001b[0;32m   1632\u001b[0m \u001b[1;33m\u001b[0m\u001b[0m\n",
      "\u001b[1;32m~\\anaconda3\\envs\\torch\\lib\\site-packages\\skorch\\net.py\u001b[0m in \u001b[0;36minitialize_module\u001b[1;34m(self)\u001b[0m\n\u001b[0;32m    526\u001b[0m                 \u001b[0mprint\u001b[0m\u001b[1;33m(\u001b[0m\u001b[0mmsg\u001b[0m\u001b[1;33m)\u001b[0m\u001b[1;33m\u001b[0m\u001b[1;33m\u001b[0m\u001b[0m\n\u001b[0;32m    527\u001b[0m \u001b[1;33m\u001b[0m\u001b[0m\n\u001b[1;32m--> 528\u001b[1;33m             \u001b[0mmodule\u001b[0m \u001b[1;33m=\u001b[0m \u001b[0mmodule\u001b[0m\u001b[1;33m(\u001b[0m\u001b[1;33m**\u001b[0m\u001b[0mkwargs\u001b[0m\u001b[1;33m)\u001b[0m\u001b[1;33m\u001b[0m\u001b[1;33m\u001b[0m\u001b[0m\n\u001b[0m\u001b[0;32m    529\u001b[0m \u001b[1;33m\u001b[0m\u001b[0m\n\u001b[0;32m    530\u001b[0m         \u001b[0mself\u001b[0m\u001b[1;33m.\u001b[0m\u001b[0mmodule_\u001b[0m \u001b[1;33m=\u001b[0m \u001b[0mto_device\u001b[0m\u001b[1;33m(\u001b[0m\u001b[0mmodule\u001b[0m\u001b[1;33m,\u001b[0m \u001b[0mself\u001b[0m\u001b[1;33m.\u001b[0m\u001b[0mdevice\u001b[0m\u001b[1;33m)\u001b[0m\u001b[1;33m\u001b[0m\u001b[1;33m\u001b[0m\u001b[0m\n",
      "\u001b[1;31mTypeError\u001b[0m: __init__() got an unexpected keyword argument 'N_hid'"
     ]
    }
   ],
   "source": [
    "params = {\n",
    "    'lr': np.arange(0.01,1,0.09),\n",
    "    'module__N_hid' : [[i,j] for i in np.arange(2,120,10) for j in np.arange(2,120,10)],\n",
    "}\n",
    "\n",
    "rs = RandomizedSearchCV(estimator = net_skorch, \n",
    "                   param_distributions = params, \n",
    "                   cv = 5, n_iter = 500)\n",
    "rs.fit(input_data, label_data)\n",
    "print(rs.best_score_, rs.best_params_)"
   ]
  },
  {
   "cell_type": "code",
   "execution_count": null,
   "metadata": {},
   "outputs": [],
   "source": [
    "joblib.dump(rs, 'conv.pkl')"
   ]
  },
  {
   "cell_type": "markdown",
   "metadata": {},
   "source": [
    "## Model fitting"
   ]
  },
  {
   "cell_type": "code",
   "execution_count": 15,
   "metadata": {},
   "outputs": [
    {
     "name": "stdout",
     "output_type": "stream",
     "text": [
      "Re-initializing module because the following parameters were re-set: act_func, linear_size.\n",
      "Network initialized\n",
      "  epoch    train_loss    valid_acc    valid_loss     dur\n",
      "-------  ------------  -----------  ------------  ------\n",
      "      1        \u001b[36m2.0822\u001b[0m       \u001b[32m0.5010\u001b[0m        \u001b[35m1.9603\u001b[0m  8.8994\n",
      "      2        \u001b[36m1.9524\u001b[0m       \u001b[32m0.5189\u001b[0m        \u001b[35m1.9410\u001b[0m  9.1182\n",
      "      3        \u001b[36m1.9398\u001b[0m       \u001b[32m0.5282\u001b[0m        \u001b[35m1.9319\u001b[0m  8.7347\n",
      "      4        \u001b[36m1.9311\u001b[0m       \u001b[32m0.5348\u001b[0m        \u001b[35m1.9254\u001b[0m  8.6818\n",
      "      5        \u001b[36m1.8970\u001b[0m       \u001b[32m0.6280\u001b[0m        \u001b[35m1.8330\u001b[0m  9.2560\n",
      "      6        \u001b[36m1.8179\u001b[0m       \u001b[32m0.6448\u001b[0m        \u001b[35m1.8139\u001b[0m  8.9899\n",
      "      7        \u001b[36m1.8061\u001b[0m       \u001b[32m0.6552\u001b[0m        \u001b[35m1.8048\u001b[0m  9.1542\n",
      "      8        \u001b[36m1.8005\u001b[0m       \u001b[32m0.6561\u001b[0m        \u001b[35m1.8028\u001b[0m  9.1127\n",
      "      9        \u001b[36m1.7952\u001b[0m       \u001b[32m0.6594\u001b[0m        \u001b[35m1.8004\u001b[0m  9.3414\n",
      "     10        \u001b[36m1.7916\u001b[0m       \u001b[32m0.6651\u001b[0m        \u001b[35m1.7950\u001b[0m  9.2994\n",
      "     11        \u001b[36m1.7886\u001b[0m       \u001b[32m0.6802\u001b[0m        \u001b[35m1.7804\u001b[0m  9.0238\n",
      "     12        \u001b[36m1.7386\u001b[0m       \u001b[32m0.7511\u001b[0m        \u001b[35m1.7107\u001b[0m  9.0518\n",
      "     13        \u001b[36m1.7039\u001b[0m       \u001b[32m0.7596\u001b[0m        \u001b[35m1.7022\u001b[0m  8.8196\n",
      "     14        \u001b[36m1.6963\u001b[0m       \u001b[32m0.7601\u001b[0m        \u001b[35m1.7007\u001b[0m  9.1752\n",
      "     15        \u001b[36m1.6931\u001b[0m       \u001b[32m0.7648\u001b[0m        \u001b[35m1.6953\u001b[0m  9.0196\n",
      "     16        1.6932       0.7620        1.6988  9.2308\n",
      "     17        \u001b[36m1.6917\u001b[0m       \u001b[32m0.7675\u001b[0m        \u001b[35m1.6934\u001b[0m  7.7996\n",
      "     18        \u001b[36m1.6881\u001b[0m       \u001b[32m0.7700\u001b[0m        \u001b[35m1.6910\u001b[0m  8.3051\n",
      "     19        \u001b[36m1.6859\u001b[0m       0.7650        1.6942  8.2088\n",
      "     20        \u001b[36m1.6834\u001b[0m       0.7684        1.6917  8.7942\n",
      "     21        \u001b[36m1.6827\u001b[0m       0.7668        1.6932  9.6761\n",
      "     22        \u001b[36m1.6801\u001b[0m       \u001b[32m0.7712\u001b[0m        \u001b[35m1.6890\u001b[0m  8.7594\n",
      "     23        \u001b[36m1.6794\u001b[0m       \u001b[32m0.7735\u001b[0m        \u001b[35m1.6871\u001b[0m  8.9099\n",
      "     24        \u001b[36m1.6781\u001b[0m       \u001b[32m0.7737\u001b[0m        \u001b[35m1.6861\u001b[0m  9.6771\n",
      "     25        \u001b[36m1.6779\u001b[0m       \u001b[32m0.7770\u001b[0m        \u001b[35m1.6846\u001b[0m  9.5598\n",
      "     26        \u001b[36m1.6762\u001b[0m       0.7747        1.6861  9.2868\n",
      "     27        1.6770       0.7677        1.6921  8.6789\n",
      "     28        1.6772       0.7702        1.6902  8.9260\n"
     ]
    },
    {
     "data": {
      "text/plain": [
       "<class 'skorch.classifier.NeuralNetClassifier'>[initialized](\n",
       "  module_=ConvolutionalNet(\n",
       "    (act_func): ReLU()\n",
       "    (final_func): Softmax(dim=1)\n",
       "    (dropout_func): Dropout(p=0, inplace=False)\n",
       "    (conv0): Conv2d(1, 18, kernel_size=(2, 2), stride=(2, 2), padding=(1, 1))\n",
       "    (conv1): Conv2d(18, 9, kernel_size=(3, 3), stride=(2, 2), padding=(1, 1))\n",
       "    (max_pool): MaxPool2d(kernel_size=2, stride=2, padding=0, dilation=1, ceil_mode=False)\n",
       "    (lin_layer): Linear(in_features=144, out_features=16, bias=True)\n",
       "    (out_layer): Linear(in_features=16, out_features=10, bias=True)\n",
       "  ),\n",
       ")"
      ]
     },
     "execution_count": 15,
     "metadata": {},
     "output_type": "execute_result"
    }
   ],
   "source": [
    "net_skorch.fit(input_data,label_data)"
   ]
  },
  {
   "cell_type": "markdown",
   "metadata": {},
   "source": [
    "## Data losses"
   ]
  },
  {
   "cell_type": "code",
   "execution_count": 19,
   "metadata": {},
   "outputs": [],
   "source": [
    "train_loss = net_skorch.history[:, 'train_loss']\n",
    "val_loss = net_skorch.history[:, 'valid_loss']"
   ]
  },
  {
   "cell_type": "code",
   "execution_count": 20,
   "metadata": {
    "scrolled": true
   },
   "outputs": [
    {
     "data": {
      "image/png": "[encoded data removed]",
      "text/plain": [
       "<Figure size 864x576 with 1 Axes>"
      ]
     },
     "metadata": {
      "needs_background": "light"
     },
     "output_type": "display_data"
    }
   ],
   "source": [
    "# Plot losses\n",
    "plt.figure(figsize=(12,8))\n",
    "plt.semilogy(train_loss, label='Train loss')\n",
    "plt.semilogy(val_loss, label='Validation loss')\n",
    "plt.xlabel('Epoch')\n",
    "plt.ylabel('Loss')\n",
    "plt.grid()\n",
    "plt.legend()\n",
    "plt.show()"
   ]
  },
  {
   "cell_type": "markdown",
   "metadata": {},
   "source": [
    "## Confusion Matrix"
   ]
  },
  {
   "cell_type": "code",
   "execution_count": 21,
   "metadata": {},
   "outputs": [],
   "source": [
    "y_pred = net_skorch.predict(input_data)"
   ]
  },
  {
   "cell_type": "code",
   "execution_count": 22,
   "metadata": {},
   "outputs": [
    {
     "name": "stderr",
     "output_type": "stream",
     "text": [
      "<ipython-input-22-12757266213a>:4: DeprecationWarning: `np.float` is a deprecated alias for the builtin `float`. To silence this warning, use `float` by itself. Doing this will not modify any behavior and is safe. If you specifically wanted the numpy scalar type, use `np.float64` here.\n",
      "Deprecated in NumPy 1.20; for more details and guidance: https://numpy.org/devdocs/release/1.20.0-notes.html#deprecations\n",
      "  sn.heatmap(c_matrix/c_matrix.astype(np.float).sum(axis=1) ,annot=True)\n"
     ]
    },
    {
     "data": {
      "text/plain": [
       "<AxesSubplot:>"
      ]
     },
     "execution_count": 22,
     "metadata": {},
     "output_type": "execute_result"
    },
    {
     "data": {
      "image/png": "[encoded data removed]",
      "text/plain": [
       "<Figure size 720x504 with 2 Axes>"
      ]
     },
     "metadata": {
      "needs_background": "light"
     },
     "output_type": "display_data"
    }
   ],
   "source": [
    "import seaborn as sn\n",
    "plt.figure(figsize = (10,7))\n",
    "c_matrix = confusion_matrix(label_data.detach().numpy(),y_pred)\n",
    "sn.heatmap(c_matrix/c_matrix.astype(np.float).sum(axis=1) ,annot=True)"
   ]
  },
  {
   "cell_type": "code",
   "execution_count": null,
   "metadata": {},
   "outputs": [],
   "source": []
  }
 ],
 "metadata": {
  "colab": {
   "collapsed_sections": [],
   "name": "nndl_2021__homework_1.ipynb",
   "provenance": []
  },
  "kernelspec": {
   "display_name": "Python 3",
   "language": "python",
   "name": "python3"
  },
  "language_info": {
   "codemirror_mode": {
    "name": "ipython",
    "version": 3
   },
   "file_extension": ".py",
   "mimetype": "text/x-python",
   "name": "python",
   "nbconvert_exporter": "python",
   "pygments_lexer": "ipython3",
   "version": "3.8.8"
  },
  "widgets": {
   "application/vnd.jupyter.widget-state+json": {
    "0ca774af453d49e586dd4ac4fdac9663": {
     "model_module": "@jupyter-widgets/controls",
     "model_module_version": "1.5.0",
     "model_name": "FloatProgressModel",
     "state": {
      "_dom_classes": [],
      "_model_module": "@jupyter-widgets/controls",
      "_model_module_version": "1.5.0",
      "_model_name": "FloatProgressModel",
      "_view_count": null,
      "_view_module": "@jupyter-widgets/controls",
      "_view_module_version": "1.5.0",
      "_view_name": "ProgressView",
      "bar_style": "success",
      "description": "",
      "description_tooltip": null,
      "layout": "IPY_MODEL_abdc7c640853476eb2bd1f4edbbe9d24",
      "max": 29515,
      "min": 0,
      "orientation": "horizontal",
      "style": "IPY_MODEL_beeeefdc08e24464ba4369da9cd7faea",
      "value": 29515
     }
    },
    "108907707fb246c6aa2eb0055f22b6ad": {
     "model_module": "@jupyter-widgets/controls",
     "model_module_version": "1.5.0",
     "model_name": "ProgressStyleModel",
     "state": {
      "_model_module": "@jupyter-widgets/controls",
      "_model_module_version": "1.5.0",
      "_model_name": "ProgressStyleModel",
      "_view_count": null,
      "_view_module": "@jupyter-widgets/base",
      "_view_module_version": "1.2.0",
      "_view_name": "StyleView",
      "bar_color": null,
      "description_width": ""
     }
    },
    "1329211232b54ee48ee7b37e38a0416f": {
     "model_module": "@jupyter-widgets/controls",
     "model_module_version": "1.5.0",
     "model_name": "DescriptionStyleModel",
     "state": {
      "_model_module": "@jupyter-widgets/controls",
      "_model_module_version": "1.5.0",
      "_model_name": "DescriptionStyleModel",
      "_view_count": null,
      "_view_module": "@jupyter-widgets/base",
      "_view_module_version": "1.2.0",
      "_view_name": "StyleView",
      "description_width": ""
     }
    },
    "182a074481514dbc9f92a1a31923be73": {
     "model_module": "@jupyter-widgets/controls",
     "model_module_version": "1.5.0",
     "model_name": "HTMLModel",
     "state": {
      "_dom_classes": [],
      "_model_module": "@jupyter-widgets/controls",
      "_model_module_version": "1.5.0",
      "_model_name": "HTMLModel",
      "_view_count": null,
      "_view_module": "@jupyter-widgets/controls",
      "_view_module_version": "1.5.0",
      "_view_name": "HTMLView",
      "description": "",
      "description_tooltip": null,
      "layout": "IPY_MODEL_65abcefd8e25405aa5006179d335d2c5",
      "placeholder": "​",
      "style": "IPY_MODEL_f0e07a02ccce46caaccca01b8fa93686",
      "value": ""
     }
    },
    "1fbf8bf7242b415c9cccda738b25ed04": {
     "model_module": "@jupyter-widgets/base",
     "model_module_version": "1.2.0",
     "model_name": "LayoutModel",
     "state": {
      "_model_module": "@jupyter-widgets/base",
      "_model_module_version": "1.2.0",
      "_model_name": "LayoutModel",
      "_view_count": null,
      "_view_module": "@jupyter-widgets/base",
      "_view_module_version": "1.2.0",
      "_view_name": "LayoutView",
      "align_content": null,
      "align_items": null,
      "align_self": null,
      "border": null,
      "bottom": null,
      "display": null,
      "flex": null,
      "flex_flow": null,
      "grid_area": null,
      "grid_auto_columns": null,
      "grid_auto_flow": null,
      "grid_auto_rows": null,
      "grid_column": null,
      "grid_gap": null,
      "grid_row": null,
      "grid_template_areas": null,
      "grid_template_columns": null,
      "grid_template_rows": null,
      "height": null,
      "justify_content": null,
      "justify_items": null,
      "left": null,
      "margin": null,
      "max_height": null,
      "max_width": null,
      "min_height": null,
      "min_width": null,
      "object_fit": null,
      "object_position": null,
      "order": null,
      "overflow": null,
      "overflow_x": null,
      "overflow_y": null,
      "padding": null,
      "right": null,
      "top": null,
      "visibility": null,
      "width": null
     }
    },
    "24139599cc964b0283c787010d446db3": {
     "model_module": "@jupyter-widgets/controls",
     "model_module_version": "1.5.0",
     "model_name": "HTMLModel",
     "state": {
      "_dom_classes": [],
      "_model_module": "@jupyter-widgets/controls",
      "_model_module_version": "1.5.0",
      "_model_name": "HTMLModel",
      "_view_count": null,
      "_view_module": "@jupyter-widgets/controls",
      "_view_module_version": "1.5.0",
      "_view_name": "HTMLView",
      "description": "",
      "description_tooltip": null,
      "layout": "IPY_MODEL_672dd44117534a09b867291ac9f70974",
      "placeholder": "​",
      "style": "IPY_MODEL_60f1c19eede14af189bcd752f09e0b2e",
      "value": ""
     }
    },
    "28234bab3d1d43aea0e50d1245cd16f2": {
     "model_module": "@jupyter-widgets/base",
     "model_module_version": "1.2.0",
     "model_name": "LayoutModel",
     "state": {
      "_model_module": "@jupyter-widgets/base",
      "_model_module_version": "1.2.0",
      "_model_name": "LayoutModel",
      "_view_count": null,
      "_view_module": "@jupyter-widgets/base",
      "_view_module_version": "1.2.0",
      "_view_name": "LayoutView",
      "align_content": null,
      "align_items": null,
      "align_self": null,
      "border": null,
      "bottom": null,
      "display": null,
      "flex": null,
      "flex_flow": null,
      "grid_area": null,
      "grid_auto_columns": null,
      "grid_auto_flow": null,
      "grid_auto_rows": null,
      "grid_column": null,
      "grid_gap": null,
      "grid_row": null,
      "grid_template_areas": null,
      "grid_template_columns": null,
      "grid_template_rows": null,
      "height": null,
      "justify_content": null,
      "justify_items": null,
      "left": null,
      "margin": null,
      "max_height": null,
      "max_width": null,
      "min_height": null,
      "min_width": null,
      "object_fit": null,
      "object_position": null,
      "order": null,
      "overflow": null,
      "overflow_x": null,
      "overflow_y": null,
      "padding": null,
      "right": null,
      "top": null,
      "visibility": null,
      "width": null
     }
    },
    "3129bcbfd8ad40cb8797f60fe984fe3c": {
     "model_module": "@jupyter-widgets/controls",
     "model_module_version": "1.5.0",
     "model_name": "HTMLModel",
     "state": {
      "_dom_classes": [],
      "_model_module": "@jupyter-widgets/controls",
      "_model_module_version": "1.5.0",
      "_model_name": "HTMLModel",
      "_view_count": null,
      "_view_module": "@jupyter-widgets/controls",
      "_view_module_version": "1.5.0",
      "_view_name": "HTMLView",
      "description": "",
      "description_tooltip": null,
      "layout": "IPY_MODEL_72ad719dc306468cb506250d92f570ae",
      "placeholder": "​",
      "style": "IPY_MODEL_c0494a7e04d549b5a9323fa43d9ad3b2",
      "value": " 29696/? [00:00&lt;00:00, 304641.88it/s]"
     }
    },
    "32e794677d834420bdb9c664cff6f7cc": {
     "model_module": "@jupyter-widgets/controls",
     "model_module_version": "1.5.0",
     "model_name": "HBoxModel",
     "state": {
      "_dom_classes": [],
      "_model_module": "@jupyter-widgets/controls",
      "_model_module_version": "1.5.0",
      "_model_name": "HBoxModel",
      "_view_count": null,
      "_view_module": "@jupyter-widgets/controls",
      "_view_module_version": "1.5.0",
      "_view_name": "HBoxView",
      "box_style": "",
      "children": [
       "IPY_MODEL_cf57be0a6c7340ca8b54e0809ba0fbc9",
       "IPY_MODEL_7b8fe897f59046e68eb75a8cdd5e92de",
       "IPY_MODEL_d9277c7a992c4f9491530f6d443fc68e"
      ],
      "layout": "IPY_MODEL_acac05934e5647e8ad42893b8a6c10d1"
     }
    },
    "4725b0ab205e4520a3ad0004728ac82c": {
     "model_module": "@jupyter-widgets/controls",
     "model_module_version": "1.5.0",
     "model_name": "DescriptionStyleModel",
     "state": {
      "_model_module": "@jupyter-widgets/controls",
      "_model_module_version": "1.5.0",
      "_model_name": "DescriptionStyleModel",
      "_view_count": null,
      "_view_module": "@jupyter-widgets/base",
      "_view_module_version": "1.2.0",
      "_view_name": "StyleView",
      "description_width": ""
     }
    },
    "4c06f483297d47a2a1f81d3dde6007b5": {
     "model_module": "@jupyter-widgets/controls",
     "model_module_version": "1.5.0",
     "model_name": "HTMLModel",
     "state": {
      "_dom_classes": [],
      "_model_module": "@jupyter-widgets/controls",
      "_model_module_version": "1.5.0",
      "_model_name": "HTMLModel",
      "_view_count": null,
      "_view_module": "@jupyter-widgets/controls",
      "_view_module_version": "1.5.0",
      "_view_name": "HTMLView",
      "description": "",
      "description_tooltip": null,
      "layout": "IPY_MODEL_eaf3615362384da3961655307f87bc3a",
      "placeholder": "​",
      "style": "IPY_MODEL_4725b0ab205e4520a3ad0004728ac82c",
      "value": " 4422656/? [00:00&lt;00:00, 8742811.50it/s]"
     }
    },
    "54fd73e547ed43639e80285963517549": {
     "model_module": "@jupyter-widgets/controls",
     "model_module_version": "1.5.0",
     "model_name": "HBoxModel",
     "state": {
      "_dom_classes": [],
      "_model_module": "@jupyter-widgets/controls",
      "_model_module_version": "1.5.0",
      "_model_name": "HBoxModel",
      "_view_count": null,
      "_view_module": "@jupyter-widgets/controls",
      "_view_module_version": "1.5.0",
      "_view_name": "HBoxView",
      "box_style": "",
      "children": [
       "IPY_MODEL_6d9710d95a8247a5b7bc391a2350e55c",
       "IPY_MODEL_ead636b58dfc422596f2e5e53119c830",
       "IPY_MODEL_4c06f483297d47a2a1f81d3dde6007b5"
      ],
      "layout": "IPY_MODEL_f38390085e504e048e77154395244471"
     }
    },
    "60f1c19eede14af189bcd752f09e0b2e": {
     "model_module": "@jupyter-widgets/controls",
     "model_module_version": "1.5.0",
     "model_name": "DescriptionStyleModel",
     "state": {
      "_model_module": "@jupyter-widgets/controls",
      "_model_module_version": "1.5.0",
      "_model_name": "DescriptionStyleModel",
      "_view_count": null,
      "_view_module": "@jupyter-widgets/base",
      "_view_module_version": "1.2.0",
      "_view_name": "StyleView",
      "description_width": ""
     }
    },
    "65abcefd8e25405aa5006179d335d2c5": {
     "model_module": "@jupyter-widgets/base",
     "model_module_version": "1.2.0",
     "model_name": "LayoutModel",
     "state": {
      "_model_module": "@jupyter-widgets/base",
      "_model_module_version": "1.2.0",
      "_model_name": "LayoutModel",
      "_view_count": null,
      "_view_module": "@jupyter-widgets/base",
      "_view_module_version": "1.2.0",
      "_view_name": "LayoutView",
      "align_content": null,
      "align_items": null,
      "align_self": null,
      "border": null,
      "bottom": null,
      "display": null,
      "flex": null,
      "flex_flow": null,
      "grid_area": null,
      "grid_auto_columns": null,
      "grid_auto_flow": null,
      "grid_auto_rows": null,
      "grid_column": null,
      "grid_gap": null,
      "grid_row": null,
      "grid_template_areas": null,
      "grid_template_columns": null,
      "grid_template_rows": null,
      "height": null,
      "justify_content": null,
      "justify_items": null,
      "left": null,
      "margin": null,
      "max_height": null,
      "max_width": null,
      "min_height": null,
      "min_width": null,
      "object_fit": null,
      "object_position": null,
      "order": null,
      "overflow": null,
      "overflow_x": null,
      "overflow_y": null,
      "padding": null,
      "right": null,
      "top": null,
      "visibility": null,
      "width": null
     }
    },
    "672dd44117534a09b867291ac9f70974": {
     "model_module": "@jupyter-widgets/base",
     "model_module_version": "1.2.0",
     "model_name": "LayoutModel",
     "state": {
      "_model_module": "@jupyter-widgets/base",
      "_model_module_version": "1.2.0",
      "_model_name": "LayoutModel",
      "_view_count": null,
      "_view_module": "@jupyter-widgets/base",
      "_view_module_version": "1.2.0",
      "_view_name": "LayoutView",
      "align_content": null,
      "align_items": null,
      "align_self": null,
      "border": null,
      "bottom": null,
      "display": null,
      "flex": null,
      "flex_flow": null,
      "grid_area": null,
      "grid_auto_columns": null,
      "grid_auto_flow": null,
      "grid_auto_rows": null,
      "grid_column": null,
      "grid_gap": null,
      "grid_row": null,
      "grid_template_areas": null,
      "grid_template_columns": null,
      "grid_template_rows": null,
      "height": null,
      "justify_content": null,
      "justify_items": null,
      "left": null,
      "margin": null,
      "max_height": null,
      "max_width": null,
      "min_height": null,
      "min_width": null,
      "object_fit": null,
      "object_position": null,
      "order": null,
      "overflow": null,
      "overflow_x": null,
      "overflow_y": null,
      "padding": null,
      "right": null,
      "top": null,
      "visibility": null,
      "width": null
     }
    },
    "6cdcb148e8a446be913504e4d9e16634": {
     "model_module": "@jupyter-widgets/base",
     "model_module_version": "1.2.0",
     "model_name": "LayoutModel",
     "state": {
      "_model_module": "@jupyter-widgets/base",
      "_model_module_version": "1.2.0",
      "_model_name": "LayoutModel",
      "_view_count": null,
      "_view_module": "@jupyter-widgets/base",
      "_view_module_version": "1.2.0",
      "_view_name": "LayoutView",
      "align_content": null,
      "align_items": null,
      "align_self": null,
      "border": null,
      "bottom": null,
      "display": null,
      "flex": null,
      "flex_flow": null,
      "grid_area": null,
      "grid_auto_columns": null,
      "grid_auto_flow": null,
      "grid_auto_rows": null,
      "grid_column": null,
      "grid_gap": null,
      "grid_row": null,
      "grid_template_areas": null,
      "grid_template_columns": null,
      "grid_template_rows": null,
      "height": null,
      "justify_content": null,
      "justify_items": null,
      "left": null,
      "margin": null,
      "max_height": null,
      "max_width": null,
      "min_height": null,
      "min_width": null,
      "object_fit": null,
      "object_position": null,
      "order": null,
      "overflow": null,
      "overflow_x": null,
      "overflow_y": null,
      "padding": null,
      "right": null,
      "top": null,
      "visibility": null,
      "width": null
     }
    },
    "6d9710d95a8247a5b7bc391a2350e55c": {
     "model_module": "@jupyter-widgets/controls",
     "model_module_version": "1.5.0",
     "model_name": "HTMLModel",
     "state": {
      "_dom_classes": [],
      "_model_module": "@jupyter-widgets/controls",
      "_model_module_version": "1.5.0",
      "_model_name": "HTMLModel",
      "_view_count": null,
      "_view_module": "@jupyter-widgets/controls",
      "_view_module_version": "1.5.0",
      "_view_name": "HTMLView",
      "description": "",
      "description_tooltip": null,
      "layout": "IPY_MODEL_f311b7a94b244f87b5badd6824089d38",
      "placeholder": "​",
      "style": "IPY_MODEL_1329211232b54ee48ee7b37e38a0416f",
      "value": ""
     }
    },
    "72ad719dc306468cb506250d92f570ae": {
     "model_module": "@jupyter-widgets/base",
     "model_module_version": "1.2.0",
     "model_name": "LayoutModel",
     "state": {
      "_model_module": "@jupyter-widgets/base",
      "_model_module_version": "1.2.0",
      "_model_name": "LayoutModel",
      "_view_count": null,
      "_view_module": "@jupyter-widgets/base",
      "_view_module_version": "1.2.0",
      "_view_name": "LayoutView",
      "align_content": null,
      "align_items": null,
      "align_self": null,
      "border": null,
      "bottom": null,
      "display": null,
      "flex": null,
      "flex_flow": null,
      "grid_area": null,
      "grid_auto_columns": null,
      "grid_auto_flow": null,
      "grid_auto_rows": null,
      "grid_column": null,
      "grid_gap": null,
      "grid_row": null,
      "grid_template_areas": null,
      "grid_template_columns": null,
      "grid_template_rows": null,
      "height": null,
      "justify_content": null,
      "justify_items": null,
      "left": null,
      "margin": null,
      "max_height": null,
      "max_width": null,
      "min_height": null,
      "min_width": null,
      "object_fit": null,
      "object_position": null,
      "order": null,
      "overflow": null,
      "overflow_x": null,
      "overflow_y": null,
      "padding": null,
      "right": null,
      "top": null,
      "visibility": null,
      "width": null
     }
    },
    "77f5bffcf0494c3db33df30552e15b8e": {
     "model_module": "@jupyter-widgets/base",
     "model_module_version": "1.2.0",
     "model_name": "LayoutModel",
     "state": {
      "_model_module": "@jupyter-widgets/base",
      "_model_module_version": "1.2.0",
      "_model_name": "LayoutModel",
      "_view_count": null,
      "_view_module": "@jupyter-widgets/base",
      "_view_module_version": "1.2.0",
      "_view_name": "LayoutView",
      "align_content": null,
      "align_items": null,
      "align_self": null,
      "border": null,
      "bottom": null,
      "display": null,
      "flex": null,
      "flex_flow": null,
      "grid_area": null,
      "grid_auto_columns": null,
      "grid_auto_flow": null,
      "grid_auto_rows": null,
      "grid_column": null,
      "grid_gap": null,
      "grid_row": null,
      "grid_template_areas": null,
      "grid_template_columns": null,
      "grid_template_rows": null,
      "height": null,
      "justify_content": null,
      "justify_items": null,
      "left": null,
      "margin": null,
      "max_height": null,
      "max_width": null,
      "min_height": null,
      "min_width": null,
      "object_fit": null,
      "object_position": null,
      "order": null,
      "overflow": null,
      "overflow_x": null,
      "overflow_y": null,
      "padding": null,
      "right": null,
      "top": null,
      "visibility": null,
      "width": null
     }
    },
    "7904076e1ed94fe7ae911266d6f7cc29": {
     "model_module": "@jupyter-widgets/controls",
     "model_module_version": "1.5.0",
     "model_name": "FloatProgressModel",
     "state": {
      "_dom_classes": [],
      "_model_module": "@jupyter-widgets/controls",
      "_model_module_version": "1.5.0",
      "_model_name": "FloatProgressModel",
      "_view_count": null,
      "_view_module": "@jupyter-widgets/controls",
      "_view_module_version": "1.5.0",
      "_view_name": "ProgressView",
      "bar_style": "success",
      "description": "",
      "description_tooltip": null,
      "layout": "IPY_MODEL_1fbf8bf7242b415c9cccda738b25ed04",
      "max": 5148,
      "min": 0,
      "orientation": "horizontal",
      "style": "IPY_MODEL_cd2038d9851a4a4d8c7e107edf02cca1",
      "value": 5148
     }
    },
    "7b8fe897f59046e68eb75a8cdd5e92de": {
     "model_module": "@jupyter-widgets/controls",
     "model_module_version": "1.5.0",
     "model_name": "FloatProgressModel",
     "state": {
      "_dom_classes": [],
      "_model_module": "@jupyter-widgets/controls",
      "_model_module_version": "1.5.0",
      "_model_name": "FloatProgressModel",
      "_view_count": null,
      "_view_module": "@jupyter-widgets/controls",
      "_view_module_version": "1.5.0",
      "_view_name": "ProgressView",
      "bar_style": "success",
      "description": "",
      "description_tooltip": null,
      "layout": "IPY_MODEL_28234bab3d1d43aea0e50d1245cd16f2",
      "max": 26421880,
      "min": 0,
      "orientation": "horizontal",
      "style": "IPY_MODEL_827906e0ccbc4881922c18683a4e97bb",
      "value": 26421880
     }
    },
    "827906e0ccbc4881922c18683a4e97bb": {
     "model_module": "@jupyter-widgets/controls",
     "model_module_version": "1.5.0",
     "model_name": "ProgressStyleModel",
     "state": {
      "_model_module": "@jupyter-widgets/controls",
      "_model_module_version": "1.5.0",
      "_model_name": "ProgressStyleModel",
      "_view_count": null,
      "_view_module": "@jupyter-widgets/base",
      "_view_module_version": "1.2.0",
      "_view_name": "StyleView",
      "bar_color": null,
      "description_width": ""
     }
    },
    "8b5cad589d3e4d65a86420980287059a": {
     "model_module": "@jupyter-widgets/controls",
     "model_module_version": "1.5.0",
     "model_name": "HTMLModel",
     "state": {
      "_dom_classes": [],
      "_model_module": "@jupyter-widgets/controls",
      "_model_module_version": "1.5.0",
      "_model_name": "HTMLModel",
      "_view_count": null,
      "_view_module": "@jupyter-widgets/controls",
      "_view_module_version": "1.5.0",
      "_view_name": "HTMLView",
      "description": "",
      "description_tooltip": null,
      "layout": "IPY_MODEL_6cdcb148e8a446be913504e4d9e16634",
      "placeholder": "​",
      "style": "IPY_MODEL_a68d8cc7829f45718e72751c24dc728f",
      "value": " 6144/? [00:00&lt;00:00, 144308.82it/s]"
     }
    },
    "99a1e802632c4a1ab0976776641fce8c": {
     "model_module": "@jupyter-widgets/base",
     "model_module_version": "1.2.0",
     "model_name": "LayoutModel",
     "state": {
      "_model_module": "@jupyter-widgets/base",
      "_model_module_version": "1.2.0",
      "_model_name": "LayoutModel",
      "_view_count": null,
      "_view_module": "@jupyter-widgets/base",
      "_view_module_version": "1.2.0",
      "_view_name": "LayoutView",
      "align_content": null,
      "align_items": null,
      "align_self": null,
      "border": null,
      "bottom": null,
      "display": null,
      "flex": null,
      "flex_flow": null,
      "grid_area": null,
      "grid_auto_columns": null,
      "grid_auto_flow": null,
      "grid_auto_rows": null,
      "grid_column": null,
      "grid_gap": null,
      "grid_row": null,
      "grid_template_areas": null,
      "grid_template_columns": null,
      "grid_template_rows": null,
      "height": null,
      "justify_content": null,
      "justify_items": null,
      "left": null,
      "margin": null,
      "max_height": null,
      "max_width": null,
      "min_height": null,
      "min_width": null,
      "object_fit": null,
      "object_position": null,
      "order": null,
      "overflow": null,
      "overflow_x": null,
      "overflow_y": null,
      "padding": null,
      "right": null,
      "top": null,
      "visibility": null,
      "width": null
     }
    },
    "9db22c25d6474d8288fa40aad726393d": {
     "model_module": "@jupyter-widgets/controls",
     "model_module_version": "1.5.0",
     "model_name": "DescriptionStyleModel",
     "state": {
      "_model_module": "@jupyter-widgets/controls",
      "_model_module_version": "1.5.0",
      "_model_name": "DescriptionStyleModel",
      "_view_count": null,
      "_view_module": "@jupyter-widgets/base",
      "_view_module_version": "1.2.0",
      "_view_name": "StyleView",
      "description_width": ""
     }
    },
    "a68d8cc7829f45718e72751c24dc728f": {
     "model_module": "@jupyter-widgets/controls",
     "model_module_version": "1.5.0",
     "model_name": "DescriptionStyleModel",
     "state": {
      "_model_module": "@jupyter-widgets/controls",
      "_model_module_version": "1.5.0",
      "_model_name": "DescriptionStyleModel",
      "_view_count": null,
      "_view_module": "@jupyter-widgets/base",
      "_view_module_version": "1.2.0",
      "_view_name": "StyleView",
      "description_width": ""
     }
    },
    "abdc7c640853476eb2bd1f4edbbe9d24": {
     "model_module": "@jupyter-widgets/base",
     "model_module_version": "1.2.0",
     "model_name": "LayoutModel",
     "state": {
      "_model_module": "@jupyter-widgets/base",
      "_model_module_version": "1.2.0",
      "_model_name": "LayoutModel",
      "_view_count": null,
      "_view_module": "@jupyter-widgets/base",
      "_view_module_version": "1.2.0",
      "_view_name": "LayoutView",
      "align_content": null,
      "align_items": null,
      "align_self": null,
      "border": null,
      "bottom": null,
      "display": null,
      "flex": null,
      "flex_flow": null,
      "grid_area": null,
      "grid_auto_columns": null,
      "grid_auto_flow": null,
      "grid_auto_rows": null,
      "grid_column": null,
      "grid_gap": null,
      "grid_row": null,
      "grid_template_areas": null,
      "grid_template_columns": null,
      "grid_template_rows": null,
      "height": null,
      "justify_content": null,
      "justify_items": null,
      "left": null,
      "margin": null,
      "max_height": null,
      "max_width": null,
      "min_height": null,
      "min_width": null,
      "object_fit": null,
      "object_position": null,
      "order": null,
      "overflow": null,
      "overflow_x": null,
      "overflow_y": null,
      "padding": null,
      "right": null,
      "top": null,
      "visibility": null,
      "width": null
     }
    },
    "acac05934e5647e8ad42893b8a6c10d1": {
     "model_module": "@jupyter-widgets/base",
     "model_module_version": "1.2.0",
     "model_name": "LayoutModel",
     "state": {
      "_model_module": "@jupyter-widgets/base",
      "_model_module_version": "1.2.0",
      "_model_name": "LayoutModel",
      "_view_count": null,
      "_view_module": "@jupyter-widgets/base",
      "_view_module_version": "1.2.0",
      "_view_name": "LayoutView",
      "align_content": null,
      "align_items": null,
      "align_self": null,
      "border": null,
      "bottom": null,
      "display": null,
      "flex": null,
      "flex_flow": null,
      "grid_area": null,
      "grid_auto_columns": null,
      "grid_auto_flow": null,
      "grid_auto_rows": null,
      "grid_column": null,
      "grid_gap": null,
      "grid_row": null,
      "grid_template_areas": null,
      "grid_template_columns": null,
      "grid_template_rows": null,
      "height": null,
      "justify_content": null,
      "justify_items": null,
      "left": null,
      "margin": null,
      "max_height": null,
      "max_width": null,
      "min_height": null,
      "min_width": null,
      "object_fit": null,
      "object_position": null,
      "order": null,
      "overflow": null,
      "overflow_x": null,
      "overflow_y": null,
      "padding": null,
      "right": null,
      "top": null,
      "visibility": null,
      "width": null
     }
    },
    "b1c6d5b7f8504d84a9782a36e6491712": {
     "model_module": "@jupyter-widgets/controls",
     "model_module_version": "1.5.0",
     "model_name": "HBoxModel",
     "state": {
      "_dom_classes": [],
      "_model_module": "@jupyter-widgets/controls",
      "_model_module_version": "1.5.0",
      "_model_name": "HBoxModel",
      "_view_count": null,
      "_view_module": "@jupyter-widgets/controls",
      "_view_module_version": "1.5.0",
      "_view_name": "HBoxView",
      "box_style": "",
      "children": [
       "IPY_MODEL_24139599cc964b0283c787010d446db3",
       "IPY_MODEL_7904076e1ed94fe7ae911266d6f7cc29",
       "IPY_MODEL_8b5cad589d3e4d65a86420980287059a"
      ],
      "layout": "IPY_MODEL_df911c163a5a49f982caafcbced21920"
     }
    },
    "b1d7c852c19d4178974246cef1db19ca": {
     "model_module": "@jupyter-widgets/controls",
     "model_module_version": "1.5.0",
     "model_name": "HBoxModel",
     "state": {
      "_dom_classes": [],
      "_model_module": "@jupyter-widgets/controls",
      "_model_module_version": "1.5.0",
      "_model_name": "HBoxModel",
      "_view_count": null,
      "_view_module": "@jupyter-widgets/controls",
      "_view_module_version": "1.5.0",
      "_view_name": "HBoxView",
      "box_style": "",
      "children": [
       "IPY_MODEL_182a074481514dbc9f92a1a31923be73",
       "IPY_MODEL_0ca774af453d49e586dd4ac4fdac9663",
       "IPY_MODEL_3129bcbfd8ad40cb8797f60fe984fe3c"
      ],
      "layout": "IPY_MODEL_77f5bffcf0494c3db33df30552e15b8e"
     }
    },
    "b39d8e8b9e1647449544903cc5a2ba34": {
     "model_module": "@jupyter-widgets/base",
     "model_module_version": "1.2.0",
     "model_name": "LayoutModel",
     "state": {
      "_model_module": "@jupyter-widgets/base",
      "_model_module_version": "1.2.0",
      "_model_name": "LayoutModel",
      "_view_count": null,
      "_view_module": "@jupyter-widgets/base",
      "_view_module_version": "1.2.0",
      "_view_name": "LayoutView",
      "align_content": null,
      "align_items": null,
      "align_self": null,
      "border": null,
      "bottom": null,
      "display": null,
      "flex": null,
      "flex_flow": null,
      "grid_area": null,
      "grid_auto_columns": null,
      "grid_auto_flow": null,
      "grid_auto_rows": null,
      "grid_column": null,
      "grid_gap": null,
      "grid_row": null,
      "grid_template_areas": null,
      "grid_template_columns": null,
      "grid_template_rows": null,
      "height": null,
      "justify_content": null,
      "justify_items": null,
      "left": null,
      "margin": null,
      "max_height": null,
      "max_width": null,
      "min_height": null,
      "min_width": null,
      "object_fit": null,
      "object_position": null,
      "order": null,
      "overflow": null,
      "overflow_x": null,
      "overflow_y": null,
      "padding": null,
      "right": null,
      "top": null,
      "visibility": null,
      "width": null
     }
    },
    "beeeefdc08e24464ba4369da9cd7faea": {
     "model_module": "@jupyter-widgets/controls",
     "model_module_version": "1.5.0",
     "model_name": "ProgressStyleModel",
     "state": {
      "_model_module": "@jupyter-widgets/controls",
      "_model_module_version": "1.5.0",
      "_model_name": "ProgressStyleModel",
      "_view_count": null,
      "_view_module": "@jupyter-widgets/base",
      "_view_module_version": "1.2.0",
      "_view_name": "StyleView",
      "bar_color": null,
      "description_width": ""
     }
    },
    "c0494a7e04d549b5a9323fa43d9ad3b2": {
     "model_module": "@jupyter-widgets/controls",
     "model_module_version": "1.5.0",
     "model_name": "DescriptionStyleModel",
     "state": {
      "_model_module": "@jupyter-widgets/controls",
      "_model_module_version": "1.5.0",
      "_model_name": "DescriptionStyleModel",
      "_view_count": null,
      "_view_module": "@jupyter-widgets/base",
      "_view_module_version": "1.2.0",
      "_view_name": "StyleView",
      "description_width": ""
     }
    },
    "c8805dcf332245e18439d109c50466d2": {
     "model_module": "@jupyter-widgets/controls",
     "model_module_version": "1.5.0",
     "model_name": "DescriptionStyleModel",
     "state": {
      "_model_module": "@jupyter-widgets/controls",
      "_model_module_version": "1.5.0",
      "_model_name": "DescriptionStyleModel",
      "_view_count": null,
      "_view_module": "@jupyter-widgets/base",
      "_view_module_version": "1.2.0",
      "_view_name": "StyleView",
      "description_width": ""
     }
    },
    "cd2038d9851a4a4d8c7e107edf02cca1": {
     "model_module": "@jupyter-widgets/controls",
     "model_module_version": "1.5.0",
     "model_name": "ProgressStyleModel",
     "state": {
      "_model_module": "@jupyter-widgets/controls",
      "_model_module_version": "1.5.0",
      "_model_name": "ProgressStyleModel",
      "_view_count": null,
      "_view_module": "@jupyter-widgets/base",
      "_view_module_version": "1.2.0",
      "_view_name": "StyleView",
      "bar_color": null,
      "description_width": ""
     }
    },
    "cf57be0a6c7340ca8b54e0809ba0fbc9": {
     "model_module": "@jupyter-widgets/controls",
     "model_module_version": "1.5.0",
     "model_name": "HTMLModel",
     "state": {
      "_dom_classes": [],
      "_model_module": "@jupyter-widgets/controls",
      "_model_module_version": "1.5.0",
      "_model_name": "HTMLModel",
      "_view_count": null,
      "_view_module": "@jupyter-widgets/controls",
      "_view_module_version": "1.5.0",
      "_view_name": "HTMLView",
      "description": "",
      "description_tooltip": null,
      "layout": "IPY_MODEL_dec4e52f4ae04b298abc0f125c300534",
      "placeholder": "​",
      "style": "IPY_MODEL_9db22c25d6474d8288fa40aad726393d",
      "value": ""
     }
    },
    "d9277c7a992c4f9491530f6d443fc68e": {
     "model_module": "@jupyter-widgets/controls",
     "model_module_version": "1.5.0",
     "model_name": "HTMLModel",
     "state": {
      "_dom_classes": [],
      "_model_module": "@jupyter-widgets/controls",
      "_model_module_version": "1.5.0",
      "_model_name": "HTMLModel",
      "_view_count": null,
      "_view_module": "@jupyter-widgets/controls",
      "_view_module_version": "1.5.0",
      "_view_name": "HTMLView",
      "description": "",
      "description_tooltip": null,
      "layout": "IPY_MODEL_b39d8e8b9e1647449544903cc5a2ba34",
      "placeholder": "​",
      "style": "IPY_MODEL_c8805dcf332245e18439d109c50466d2",
      "value": " 26422272/? [00:01&lt;00:00, 26789266.56it/s]"
     }
    },
    "dec4e52f4ae04b298abc0f125c300534": {
     "model_module": "@jupyter-widgets/base",
     "model_module_version": "1.2.0",
     "model_name": "LayoutModel",
     "state": {
      "_model_module": "@jupyter-widgets/base",
      "_model_module_version": "1.2.0",
      "_model_name": "LayoutModel",
      "_view_count": null,
      "_view_module": "@jupyter-widgets/base",
      "_view_module_version": "1.2.0",
      "_view_name": "LayoutView",
      "align_content": null,
      "align_items": null,
      "align_self": null,
      "border": null,
      "bottom": null,
      "display": null,
      "flex": null,
      "flex_flow": null,
      "grid_area": null,
      "grid_auto_columns": null,
      "grid_auto_flow": null,
      "grid_auto_rows": null,
      "grid_column": null,
      "grid_gap": null,
      "grid_row": null,
      "grid_template_areas": null,
      "grid_template_columns": null,
      "grid_template_rows": null,
      "height": null,
      "justify_content": null,
      "justify_items": null,
      "left": null,
      "margin": null,
      "max_height": null,
      "max_width": null,
      "min_height": null,
      "min_width": null,
      "object_fit": null,
      "object_position": null,
      "order": null,
      "overflow": null,
      "overflow_x": null,
      "overflow_y": null,
      "padding": null,
      "right": null,
      "top": null,
      "visibility": null,
      "width": null
     }
    },
    "df911c163a5a49f982caafcbced21920": {
     "model_module": "@jupyter-widgets/base",
     "model_module_version": "1.2.0",
     "model_name": "LayoutModel",
     "state": {
      "_model_module": "@jupyter-widgets/base",
      "_model_module_version": "1.2.0",
      "_model_name": "LayoutModel",
      "_view_count": null,
      "_view_module": "@jupyter-widgets/base",
      "_view_module_version": "1.2.0",
      "_view_name": "LayoutView",
      "align_content": null,
      "align_items": null,
      "align_self": null,
      "border": null,
      "bottom": null,
      "display": null,
      "flex": null,
      "flex_flow": null,
      "grid_area": null,
      "grid_auto_columns": null,
      "grid_auto_flow": null,
      "grid_auto_rows": null,
      "grid_column": null,
      "grid_gap": null,
      "grid_row": null,
      "grid_template_areas": null,
      "grid_template_columns": null,
      "grid_template_rows": null,
      "height": null,
      "justify_content": null,
      "justify_items": null,
      "left": null,
      "margin": null,
      "max_height": null,
      "max_width": null,
      "min_height": null,
      "min_width": null,
      "object_fit": null,
      "object_position": null,
      "order": null,
      "overflow": null,
      "overflow_x": null,
      "overflow_y": null,
      "padding": null,
      "right": null,
      "top": null,
      "visibility": null,
      "width": null
     }
    },
    "ead636b58dfc422596f2e5e53119c830": {
     "model_module": "@jupyter-widgets/controls",
     "model_module_version": "1.5.0",
     "model_name": "FloatProgressModel",
     "state": {
      "_dom_classes": [],
      "_model_module": "@jupyter-widgets/controls",
      "_model_module_version": "1.5.0",
      "_model_name": "FloatProgressModel",
      "_view_count": null,
      "_view_module": "@jupyter-widgets/controls",
      "_view_module_version": "1.5.0",
      "_view_name": "ProgressView",
      "bar_style": "success",
      "description": "",
      "description_tooltip": null,
      "layout": "IPY_MODEL_99a1e802632c4a1ab0976776641fce8c",
      "max": 4422102,
      "min": 0,
      "orientation": "horizontal",
      "style": "IPY_MODEL_108907707fb246c6aa2eb0055f22b6ad",
      "value": 4422102
     }
    },
    "eaf3615362384da3961655307f87bc3a": {
     "model_module": "@jupyter-widgets/base",
     "model_module_version": "1.2.0",
     "model_name": "LayoutModel",
     "state": {
      "_model_module": "@jupyter-widgets/base",
      "_model_module_version": "1.2.0",
      "_model_name": "LayoutModel",
      "_view_count": null,
      "_view_module": "@jupyter-widgets/base",
      "_view_module_version": "1.2.0",
      "_view_name": "LayoutView",
      "align_content": null,
      "align_items": null,
      "align_self": null,
      "border": null,
      "bottom": null,
      "display": null,
      "flex": null,
      "flex_flow": null,
      "grid_area": null,
      "grid_auto_columns": null,
      "grid_auto_flow": null,
      "grid_auto_rows": null,
      "grid_column": null,
      "grid_gap": null,
      "grid_row": null,
      "grid_template_areas": null,
      "grid_template_columns": null,
      "grid_template_rows": null,
      "height": null,
      "justify_content": null,
      "justify_items": null,
      "left": null,
      "margin": null,
      "max_height": null,
      "max_width": null,
      "min_height": null,
      "min_width": null,
      "object_fit": null,
      "object_position": null,
      "order": null,
      "overflow": null,
      "overflow_x": null,
      "overflow_y": null,
      "padding": null,
      "right": null,
      "top": null,
      "visibility": null,
      "width": null
     }
    },
    "f0e07a02ccce46caaccca01b8fa93686": {
     "model_module": "@jupyter-widgets/controls",
     "model_module_version": "1.5.0",
     "model_name": "DescriptionStyleModel",
     "state": {
      "_model_module": "@jupyter-widgets/controls",
      "_model_module_version": "1.5.0",
      "_model_name": "DescriptionStyleModel",
      "_view_count": null,
      "_view_module": "@jupyter-widgets/base",
      "_view_module_version": "1.2.0",
      "_view_name": "StyleView",
      "description_width": ""
     }
    },
    "f311b7a94b244f87b5badd6824089d38": {
     "model_module": "@jupyter-widgets/base",
     "model_module_version": "1.2.0",
     "model_name": "LayoutModel",
     "state": {
      "_model_module": "@jupyter-widgets/base",
      "_model_module_version": "1.2.0",
      "_model_name": "LayoutModel",
      "_view_count": null,
      "_view_module": "@jupyter-widgets/base",
      "_view_module_version": "1.2.0",
      "_view_name": "LayoutView",
      "align_content": null,
      "align_items": null,
      "align_self": null,
      "border": null,
      "bottom": null,
      "display": null,
      "flex": null,
      "flex_flow": null,
      "grid_area": null,
      "grid_auto_columns": null,
      "grid_auto_flow": null,
      "grid_auto_rows": null,
      "grid_column": null,
      "grid_gap": null,
      "grid_row": null,
      "grid_template_areas": null,
      "grid_template_columns": null,
      "grid_template_rows": null,
      "height": null,
      "justify_content": null,
      "justify_items": null,
      "left": null,
      "margin": null,
      "max_height": null,
      "max_width": null,
      "min_height": null,
      "min_width": null,
      "object_fit": null,
      "object_position": null,
      "order": null,
      "overflow": null,
      "overflow_x": null,
      "overflow_y": null,
      "padding": null,
      "right": null,
      "top": null,
      "visibility": null,
      "width": null
     }
    },
    "f38390085e504e048e77154395244471": {
     "model_module": "@jupyter-widgets/base",
     "model_module_version": "1.2.0",
     "model_name": "LayoutModel",
     "state": {
      "_model_module": "@jupyter-widgets/base",
      "_model_module_version": "1.2.0",
      "_model_name": "LayoutModel",
      "_view_count": null,
      "_view_module": "@jupyter-widgets/base",
      "_view_module_version": "1.2.0",
      "_view_name": "LayoutView",
      "align_content": null,
      "align_items": null,
      "align_self": null,
      "border": null,
      "bottom": null,
      "display": null,
      "flex": null,
      "flex_flow": null,
      "grid_area": null,
      "grid_auto_columns": null,
      "grid_auto_flow": null,
      "grid_auto_rows": null,
      "grid_column": null,
      "grid_gap": null,
      "grid_row": null,
      "grid_template_areas": null,
      "grid_template_columns": null,
      "grid_template_rows": null,
      "height": null,
      "justify_content": null,
      "justify_items": null,
      "left": null,
      "margin": null,
      "max_height": null,
      "max_width": null,
      "min_height": null,
      "min_width": null,
      "object_fit": null,
      "object_position": null,
      "order": null,
      "overflow": null,
      "overflow_x": null,
      "overflow_y": null,
      "padding": null,
      "right": null,
      "top": null,
      "visibility": null,
      "width": null
     }
    }
   }
  }
 },
 "nbformat": 4,
 "nbformat_minor": 1
}
